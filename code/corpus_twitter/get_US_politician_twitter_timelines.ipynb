{
 "cells": [
  {
   "cell_type": "code",
   "execution_count": 2,
   "id": "d7df11ea-dde5-4bde-992c-5f0b4bb42cde",
   "metadata": {},
   "outputs": [],
   "source": [
    "import pandas as pd\n",
    "import numpy as np\n",
    "from os.path import join\n",
    "from datetime import datetime, timezone\n",
    "from twarc import Twarc2\n",
    "\n",
    "# parallelisation functionality\n",
    "from multiprocess import Pool\n",
    "import psutil\n",
    "from tqdm import tqdm\n",
    "\n",
    "import sys\n",
    "sys.path.insert(0, \"/home/jana/Projects/utilities/twitter_functions\")\n",
    "import twitter_functions as tf"
   ]
  },
  {
   "cell_type": "code",
   "execution_count": 3,
   "id": "6bea2444-2166-4467-a7c5-da84a5c8a15f",
   "metadata": {},
   "outputs": [],
   "source": [
    "src = \"../../data/twitter/US_politician_twitter_accounts/clean\"\n",
    "dst = \"../../data/twitter/US_politician_twitter_timelines\""
   ]
  },
  {
   "cell_type": "code",
   "execution_count": 4,
   "id": "bc005896-6256-44c1-ad5e-bfe9d54da6ac",
   "metadata": {},
   "outputs": [],
   "source": [
    "handles = pd.read_csv(join(src, \"congress-member-unique-twitter-handles_114-117.csv\"))"
   ]
  },
  {
   "cell_type": "markdown",
   "id": "a4621245-c8b7-4c39-a5fa-80f8d74fc838",
   "metadata": {},
   "source": [
    "# Get user IDs"
   ]
  },
  {
   "cell_type": "code",
   "execution_count": 13,
   "id": "f932cee0-e446-4d99-b189-034c8bc70d2a",
   "metadata": {},
   "outputs": [],
   "source": [
    "name = \"michaela\"\n",
    "credentials = tf.get_twitter_API_credentials(namelist=[name])\n",
    "client = Twarc2(bearer_token=credentials[name])"
   ]
  },
  {
   "cell_type": "code",
   "execution_count": 51,
   "id": "6b8b999e-d7ec-46d1-b1f6-d404e44d82bb",
   "metadata": {},
   "outputs": [
    {
     "name": "stdout",
     "output_type": "stream",
     "text": [
      "processing batch 0\n",
      "processing batch 1\n",
      "processing batch 2\n",
      "processing batch 3\n",
      "processing batch 4\n",
      "processing batch 5\n",
      "processing batch 6\n",
      "processing batch 7\n",
      "processing batch 8\n",
      "processing batch 9\n",
      "processing batch 10\n",
      "processing batch 11\n"
     ]
    }
   ],
   "source": [
    "users = pd.DataFrame()\n",
    "batch_size = 100\n",
    "N_batches = int(len(handles) / batch_size)\n",
    "\n",
    "for batch in range(N_batches + 1):\n",
    "    print(f\"processing batch {batch}\")\n",
    "    batch_handles = handles[\"handle\"][batch * batch_size:(batch + 1) * batch_size]\n",
    "    for user_bunch in client.user_lookup(batch_handles.values, usernames=True):\n",
    "        for user in user_bunch[\"data\"]:\n",
    "            \n",
    "            try:\n",
    "                location = user[\"location\"]\n",
    "            except KeyError:\n",
    "                location = np.nan\n",
    "            \n",
    "            row = {\"id\":user[\"id\"],\n",
    "                   \"handle\":user[\"username\"],\n",
    "                   \"name\":user[\"name\"],\n",
    "                   \"created_at\":user[\"created_at\"],\n",
    "                   \"verified\":user[\"verified\"],\n",
    "                   \"protected\":user[\"protected\"],\n",
    "                   \"location\":location,\n",
    "                   \"description\":user[\"description\"],\n",
    "                   \"downloaded\":str(datetime.today()).split(\".\")[0],\n",
    "                   \"followers_count\":user[\"public_metrics\"][\"followers_count\"],\n",
    "                   \"following_count\":user[\"public_metrics\"][\"following_count\"],\n",
    "                   \"tweet_count\":user[\"public_metrics\"][\"tweet_count\"],\n",
    "                   \"listed_count\":user[\"public_metrics\"][\"listed_count\"]}\n",
    "            users = users.append(row, ignore_index=True)\n",
    "        \n",
    "for col in [\"followers_count\", \"following_count\", \"id\", \"listed_count\", \n",
    "            \"protected\", \"tweet_count\", \"verified\"]:\n",
    "    users[col] = users[col].astype(int)\n",
    "users.to_csv(join(src, \"congress-member-unique-twitter-accounts_114-117.csv\"), index=False)"
   ]
  },
  {
   "cell_type": "code",
   "execution_count": 52,
   "id": "d35d0390-162a-4fa5-92f2-78d1f328ca5b",
   "metadata": {},
   "outputs": [
    {
     "name": "stdout",
     "output_type": "stream",
     "text": [
      "102 user profiles could not be retrieved\n"
     ]
    }
   ],
   "source": [
    "diff = list(set(handles[\"handle\"]).difference(set(users[\"handle\"])))\n",
    "print(f\"{len(diff)} user profiles could not be retrieved\")"
   ]
  },
  {
   "cell_type": "markdown",
   "id": "06354d31-f480-447f-95a2-d653305a5770",
   "metadata": {},
   "source": [
    "# Get user timelines"
   ]
  },
  {
   "cell_type": "code",
   "execution_count": 6,
   "id": "c1f72c74-d03b-403e-a254-55cda09e7cb9",
   "metadata": {},
   "outputs": [],
   "source": [
    "users = pd.read_csv(join(src, \"congress-member-unique-twitter-accounts_114-117.csv\"))\n",
    "remaining_users = list(users[\"id\"].values)"
   ]
  },
  {
   "cell_type": "code",
   "execution_count": 11,
   "id": "e5fc4ea4-cc82-42bf-9ab3-ebccf3a043f9",
   "metadata": {},
   "outputs": [
    {
     "name": "stdout",
     "output_type": "stream",
     "text": [
      "using keys from ['michaela', 'simon', 'johanness', 'flo', 'caspar']\n"
     ]
    }
   ],
   "source": [
    "N_tasks = 5\n",
    "namelist = ['michaela', 'simon', 'johanness', 'flo', 'caspar']\n",
    "print(f\"using keys from {namelist}\")\n",
    "credentials = tf.get_twitter_API_credentials(namelist=namelist,\n",
    "                        keydst=\"/home/jana/Projects/utilities/twitter_API_keys\")\n",
    "# apparently the API does not return timelines before 2010-11-06 (tested)\n",
    "start = datetime(2021, 12, 14, 0, 0, 0, 0, tzinfo=timezone.utc)\n",
    "end = datetime(2022, 3, 15, 0, 0, 0, 0, tzinfo=timezone.utc)\n",
    "task_info = tf.create_crawlinfo(N_tasks, remaining_users, \n",
    "                                start, end, dst, credentials)"
   ]
  },
  {
   "cell_type": "code",
   "execution_count": 13,
   "id": "09350d59-e7cc-40d3-ac57-3ed6c6ce5dd3",
   "metadata": {},
   "outputs": [
    {
     "name": "stderr",
     "output_type": "stream",
     "text": [
      "  0%|                                                               | 0/5 [00:00<?, ?it/s]caught 503 from Twitter API, sleeping 1\n",
      "caught 503 from Twitter API, sleeping 1\n",
      "100%|██████████████████████████████████████████████████████| 5/5 [10:19<00:00, 123.87s/it]\n"
     ]
    }
   ],
   "source": [
    "number_of_cores = len(namelist)\n",
    "pool = Pool(number_of_cores)\n",
    "\n",
    "for task in tqdm(pool.imap_unordered(func=tf.get_user_timelines,\n",
    "                                     iterable=task_info),\n",
    "                                     total=len(task_info)):\n",
    "        pass"
   ]
  },
  {
   "cell_type": "markdown",
   "id": "7b82b978-6b99-4278-adf7-b50353f767e7",
   "metadata": {},
   "source": [
    "# Collect user timelines"
   ]
  },
  {
   "cell_type": "code",
   "execution_count": 22,
   "id": "87eac9f2-bd65-4901-8eda-f2015a31561a",
   "metadata": {},
   "outputs": [],
   "source": [
    "import json\n",
    "\n",
    "def stitch_json_timeline(ID, src):\n",
    "    json_timeline = []\n",
    "    with open(join(src,\n",
    "        f'{ID}_usertimeline_2010-11-06_to_2021-12-14.json'), 'r') as f:\n",
    "        for line in f:\n",
    "            try:\n",
    "                json_timeline.append(json.loads(line))\n",
    "            except JSONDecodeError:\n",
    "                print(f\"JSONDecodeError for ID {ID}\")\n",
    "    with open(join(src,\n",
    "        f'{ID}_usertimeline_2021-12-14_to_2022-03-15.json'), 'r') as f:\n",
    "        for line in f:\n",
    "            try:\n",
    "                json_timeline.append(json.loads(line))\n",
    "            except JSONDecodeError:\n",
    "                print(f\"JSONDecodeError for ID {ID}\")\n",
    "            \n",
    "    return json_timeline"
   ]
  },
  {
   "cell_type": "code",
   "execution_count": 16,
   "id": "92742436-e6a2-49a4-9c2f-7dcd8a89c025",
   "metadata": {},
   "outputs": [
    {
     "data": {
      "text/plain": [
       "<module 'twitter_functions' from '/home/jana/Projects/utilities/twitter_functions/twitter_functions.py'>"
      ]
     },
     "execution_count": 16,
     "metadata": {},
     "output_type": "execute_result"
    }
   ],
   "source": [
    "from importlib import reload\n",
    "reload(tf)"
   ]
  },
  {
   "cell_type": "code",
   "execution_count": 20,
   "id": "61e7eeef-b2ae-4c12-b787-29ff4601a31f",
   "metadata": {},
   "outputs": [],
   "source": [
    "def extract_information(ID):\n",
    "    tmp = pd.DataFrame()\n",
    "    try:\n",
    "        #json_timeline = tf.load_json_timeline(ID, src2)\n",
    "        json_timeline = stitch_json_timeline(ID, src2)\n",
    "    except FileNotFoundError:\n",
    "        return tmp\n",
    "    \n",
    "    for tl_obj in json_timeline:\n",
    "        tmp = pd.concat([tmp, tf.unravel_data(tl_obj)])\n",
    "    return tmp"
   ]
  },
  {
   "cell_type": "code",
   "execution_count": 23,
   "id": "9dec8dd5-4086-4a03-8172-ab7f6cad5c49",
   "metadata": {},
   "outputs": [
    {
     "name": "stderr",
     "output_type": "stream",
     "text": [
      "100%|█████████████████████████████████████████████████| 1065/1065 [30:41<00:00,  1.73s/it]\n"
     ]
    }
   ],
   "source": [
    "start = datetime(2010, 11, 6, 0, 0, 0, 0, tzinfo=timezone.utc)\n",
    "end = datetime(2022, 3, 15, 0, 0, 0, 0, tzinfo=timezone.utc)\n",
    "src1 = \"../../data/twitter/US_politician_twitter_accounts/clean\"\n",
    "src2 = \"../../data/twitter/US_politician_twitter_timelines\"\n",
    "dst = \"../../data/twitter/\"\n",
    "users = pd.read_csv(join(src1, \"congress-member-unique-twitter-accounts_114-117.csv\"))\n",
    "\n",
    "number_of_cores = 10\n",
    "pool = Pool(number_of_cores)\n",
    "timelines = pd.DataFrame()\n",
    "\n",
    "for tmp in tqdm(pool.imap_unordered(func=extract_information, \n",
    "                    iterable=users[\"id\"].values), total=len(users)):\n",
    "        timelines = pd.concat([timelines, tmp])\n",
    "\n",
    "fname = \"combined_US_politician_twitter_timelines_{}_to_{}_raw.csv.gzip\"\\\n",
    "    .format(str(start).split(\" \")[0], str(end).split(\" \")[0])\n",
    "timelines.to_csv(join(dst, fname), compression=\"gzip\", index=False)"
   ]
  },
  {
   "cell_type": "markdown",
   "id": "306f39a6-52ea-4e8b-b1c8-740c81223e59",
   "metadata": {},
   "source": [
    "# Clean user timelines"
   ]
  },
  {
   "cell_type": "code",
   "execution_count": 24,
   "id": "e0e94cc1-13aa-438f-bfc9-f2562ad1cea7",
   "metadata": {},
   "outputs": [
    {
     "name": "stderr",
     "output_type": "stream",
     "text": [
      "/home/jana/anaconda3/envs/nlp/lib/python3.9/site-packages/IPython/core/interactiveshell.py:3444: DtypeWarning: Columns (6,7,10,11,12,13) have mixed types.Specify dtype option on import or set low_memory=False.\n",
      "  exec(code_obj, self.user_global_ns, self.user_ns)\n"
     ]
    }
   ],
   "source": [
    "fname = \"combined_US_politician_twitter_timelines_2010-11-06_to_2022-03-15_raw.csv.gzip\"\n",
    "src = \"../../data/twitter/\"\n",
    "timelines = pd.read_csv(join(src, fname), compression=\"gzip\")"
   ]
  },
  {
   "cell_type": "code",
   "execution_count": 25,
   "id": "06c3d47b-1026-4d0a-9b1e-39c94570da84",
   "metadata": {},
   "outputs": [
    {
     "name": "stdout",
     "output_type": "stream",
     "text": [
      "dropped 58326 non-english Tweets\n"
     ]
    }
   ],
   "source": [
    "N = len(timelines)\n",
    "timelines = timelines[timelines[\"lang\"] == \"en\"]\n",
    "timelines = timelines.dropna(subset=[\"id\"])\n",
    "print(f\"dropped {N - len(timelines)} non-english Tweets\")"
   ]
  },
  {
   "cell_type": "code",
   "execution_count": 26,
   "id": "9db57fad-b9e1-41fc-a5a5-02fdb9b77f34",
   "metadata": {},
   "outputs": [],
   "source": [
    "timelines[\"reference_type\"] = timelines[\"reference_type\"].fillna(\"[]\")\n",
    "timelines[\"reference_type\"] = timelines[\"reference_type\"].apply(lambda x: eval(x))"
   ]
  },
  {
   "cell_type": "code",
   "execution_count": 27,
   "id": "d286d7f5-0c2f-4271-b630-19f4e4500757",
   "metadata": {},
   "outputs": [],
   "source": [
    "timelines[\"retweeted\"] = timelines[\"reference_type\"].apply(tf.check_retweet)\n",
    "timelines[\"quoted\"] = timelines[\"reference_type\"].apply(tf.check_quoted)\n",
    "timelines[\"reply\"] = timelines[\"reference_type\"].apply(tf.check_reply)\n",
    "timelines = timelines.drop(columns=[\"reference_type\"])"
   ]
  },
  {
   "cell_type": "code",
   "execution_count": 28,
   "id": "4fe6bd71-d033-4ad0-94a8-0faf1a5127bf",
   "metadata": {},
   "outputs": [],
   "source": [
    "fname = \"combined_US_politician_twitter_timelines_2010-11-06_to_2022-03-16_clean.csv.gzip\"\n",
    "dst = \"../../data/twitter/\"\n",
    "timelines.to_csv(join(dst, fname), index=False, compression=\"gzip\")"
   ]
  },
  {
   "cell_type": "markdown",
   "id": "dbc754be-766d-4f19-b8b0-9337329864f8",
   "metadata": {},
   "source": [
    "## Corpus statistics"
   ]
  },
  {
   "cell_type": "code",
   "execution_count": 29,
   "id": "cbc411b7-8f5f-4115-9ed2-83f3903d3382",
   "metadata": {},
   "outputs": [
    {
     "name": "stdout",
     "output_type": "stream",
     "text": [
      "number of tweets in the corpus: 2717708\n",
      "number of original in the corpus: 1636528\n",
      "number of quoted tweets in the corpus: 270603\n",
      "number of replies in the corpus: 252576\n",
      "number of retweets in the corpus: 560648\n"
     ]
    }
   ],
   "source": [
    "print(f\"number of tweets in the corpus: {len(timelines)}\")\n",
    "print(\"number of original in the corpus: {}\"\\\n",
    "      .format(len(timelines[(timelines[\"retweeted\"] == False) &\\\n",
    "                            (timelines[\"quoted\"] == False) &\\\n",
    "                            (timelines[\"reply\"] == False)])))\n",
    "print(\"number of quoted tweets in the corpus: {}\"\\\n",
    "      .format(len(timelines[timelines[\"quoted\"] == True])))\n",
    "print(\"number of replies in the corpus: {}\"\\\n",
    "      .format(len(timelines[timelines[\"reply\"] == True])))\n",
    "print(\"number of retweets in the corpus: {}\"\\\n",
    "      .format(len(timelines[timelines[\"retweeted\"] == True])))"
   ]
  },
  {
   "cell_type": "code",
   "execution_count": 30,
   "id": "515a0884-6b68-4050-af3d-4f6da1895923",
   "metadata": {},
   "outputs": [],
   "source": [
    "timelines[\"year\"] = pd.to_datetime(timelines[\"created_at\"]).dt.year"
   ]
  },
  {
   "cell_type": "code",
   "execution_count": 31,
   "id": "1af8099a-7793-4776-8581-4db3d352d84d",
   "metadata": {},
   "outputs": [
    {
     "data": {
      "image/png": "[encoded data removed]",
      "text/plain": [
       "<Figure size 720x360 with 1 Axes>"
      ]
     },
     "metadata": {
      "needs_background": "light"
     },
     "output_type": "display_data"
    }
   ],
   "source": [
    "import matplotlib.pyplot as plt\n",
    "import numpy as np\n",
    "counts, years = np.histogram(timelines[\"year\"], bins=range(2010, 2022))\n",
    "fig, ax = plt.subplots(figsize=(10, 5))\n",
    "ax.bar(timelines[\"year\"].value_counts(ascending=True).index,\n",
    "       timelines[\"year\"].value_counts(ascending=True).values,\n",
    "       color=\"DarkBlue\")\n",
    "ax.set_xticks(range(2010, 2022))\n",
    "ax.set_ylabel(\"tweet count\", fontsize=16)\n",
    "ax.set_xlabel(\"year\", fontsize=10)\n",
    "ax.spines['right'].set_visible(False)\n",
    "ax.spines['top'].set_visible(False)\n",
    "plt.savefig(\"../../plots/corpus_tweets_year_count.pdf\")"
   ]
  }
 ],
 "metadata": {
  "kernelspec": {
   "display_name": "Python 3 (ipykernel)",
   "language": "python",
   "name": "python3"
  },
  "language_info": {
   "codemirror_mode": {
    "name": "ipython",
    "version": 3
   },
   "file_extension": ".py",
   "mimetype": "text/x-python",
   "name": "python",
   "nbconvert_exporter": "python",
   "pygments_lexer": "ipython3",
   "version": "3.9.7"
  }
 },
 "nbformat": 4,
 "nbformat_minor": 5
}
