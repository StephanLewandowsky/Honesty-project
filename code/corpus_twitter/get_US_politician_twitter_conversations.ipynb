{
 "cells": [
  {
   "cell_type": "code",
   "execution_count": 1,
   "id": "d7df11ea-dde5-4bde-992c-5f0b4bb42cde",
   "metadata": {},
   "outputs": [],
   "source": [
    "import pandas as pd\n",
    "import numpy as np\n",
    "from os.path import join\n",
    "import os\n",
    "import json\n",
    "from datetime import datetime, timezone\n",
    "from twarc import Twarc2\n",
    "\n",
    "# parallelisation functionality\n",
    "from multiprocess import Pool\n",
    "import psutil\n",
    "from tqdm import tqdm\n",
    "\n",
    "import sys\n",
    "sys.path.insert(0, \"/home/jana/Projects/utilities/twitter_functions\")\n",
    "import twitter_functions as tf"
   ]
  },
  {
   "cell_type": "code",
   "execution_count": 2,
   "id": "bc005896-6256-44c1-ad5e-bfe9d54da6ac",
   "metadata": {},
   "outputs": [],
   "source": [
    "src = \"../../data/twitter/\"\n",
    "dst = \"../../data/twitter/\"\n",
    "\n",
    "cols =[\"id\", \"conversation_id\", \"author_id\", \"reply_count\"]\n",
    "tweets = pd.read_csv(join(src,\n",
    "    \"combined_US_politician_twitter_timelines_2010-11-06_to_2022-03-16_clean.csv.gzip\"),\n",
    "    compression=\"gzip\", usecols=cols,\n",
    "    dtype={\"id\":str, \"conversation_id\":str, \"author_id\":str})"
   ]
  },
  {
   "cell_type": "markdown",
   "id": "06354d31-f480-447f-95a2-d653305a5770",
   "metadata": {},
   "source": [
    "# Get conversations"
   ]
  },
  {
   "cell_type": "code",
   "execution_count": 13,
   "id": "a887f12c-67bb-4f84-b7c5-1a013a2932f6",
   "metadata": {},
   "outputs": [],
   "source": [
    "subset = tweets[(tweets[\"reply_count\"] <= 500) & (tweets[\"reply_count\"] > 0)]\\\n",
    "    .sort_values(by=\"reply_count\", ascending=True)\\\n",
    "    .reset_index(drop=True)\n",
    "\n",
    "# get only tweets that started a conversation\n",
    "subset = subset[subset[\"id\"] == subset[\"conversation_id\"]]\n",
    "# select every third conversation\n",
    "subset = subset.iloc[0::3]\n",
    "subset[\"id\"] = subset[\"id\"].apply(lambda x: x.replace('\"', ''))\n",
    "subset = subset.drop_duplicates(subset=[\"id\"])\n",
    "np.savetxt(join(dst, \"conversation_id_sample_01.txt\"), subset[\"id\"].values, fmt='%s')"
   ]
  },
  {
   "cell_type": "code",
   "execution_count": 21,
   "id": "daa60a91-28bf-4c97-80f5-687957a6d941",
   "metadata": {},
   "outputs": [],
   "source": [
    "id_sample_1 = set(np.loadtxt(join(\"../../data/twitter\", \"conversation_id_sample_01.txt\"), dtype=str))\n",
    "id_sample_2 = set(np.loadtxt(join(\"../../data/twitter\", \"conversation_id_sample_02.txt\"), dtype=str))\n",
    "id_sample_3 = set(np.loadtxt(join(\"../../data/twitter\", \"conversation_id_sample_03.txt\"), dtype=str))"
   ]
  },
  {
   "cell_type": "code",
   "execution_count": 22,
   "id": "38b9c549-efa4-4dbc-8f29-b3d08d6bb858",
   "metadata": {},
   "outputs": [],
   "source": [
    "id_sample_2 = id_sample_2.difference(id_sample_1)\n",
    "id_sample_2 = id_sample_2.difference(id_sample_3)"
   ]
  },
  {
   "cell_type": "code",
   "execution_count": 25,
   "id": "2a1bc6d1-d855-40f3-88b3-5c3020edb31d",
   "metadata": {},
   "outputs": [],
   "source": [
    "id_sample_3 = id_sample_3.difference(id_sample_1)\n",
    "id_sample_3 = id_sample_3.difference(id_sample_2)"
   ]
  },
  {
   "cell_type": "code",
   "execution_count": 33,
   "id": "5d848f02-d6df-4e93-b14c-6a1652e9cf69",
   "metadata": {},
   "outputs": [],
   "source": [
    "np.savetxt(join(dst, \"conversation_id_sample_02.txt\"), list(id_sample_2), fmt='%s')\n",
    "np.savetxt(join(dst, \"conversation_id_sample_03.txt\"), list(id_sample_3), fmt='%s')"
   ]
  },
  {
   "cell_type": "code",
   "execution_count": 38,
   "id": "148fabfe-97e6-45c1-8b9d-4eb45a6f88df",
   "metadata": {},
   "outputs": [
    {
     "name": "stdout",
     "output_type": "stream",
     "text": [
      "sending incremental file list\n",
      "conversation_id_sample_02.txt\n",
      "\n",
      "sent 4,228,164 bytes  received 35 bytes  768,763.45 bytes/sec\n",
      "total size is 8,691,904  speedup is 2.06\n"
     ]
    }
   ],
   "source": [
    "! rsync -avze ssh ../../data/twitter/conversation_id_sample_02.txt jana@remotejana:/data/honesty/ "
   ]
  },
  {
   "cell_type": "code",
   "execution_count": 16,
   "id": "3b9731ec-2587-4b70-af9e-0fec421838fa",
   "metadata": {},
   "outputs": [],
   "source": [
    "# split batch into smaller batches\n",
    "sample = \"03\"\n",
    "id_sample = np.loadtxt(join(\"../../data/twitter\", \n",
    "                            f\"conversation_id_sample_{sample}.txt\"), dtype=str)\n",
    "N_keys = 8\n",
    "batch_size = int(len(id_sample_3) / N_keys)\n",
    "\n",
    "for i in range(1, N_keys + 1):\n",
    "    id_batch = id_sample[i * batch_size : (i + 1) * batch_size]\n",
    "    np.savetxt(join(dst, \"conversation_id_sample_{}_batch_{:02d}.txt\"\\\n",
    "                    .format(sample, i)), id_batch, fmt='%s')"
   ]
  },
  {
   "cell_type": "code",
   "execution_count": 18,
   "id": "26d97cd9-f211-4690-9f0c-fe8edbb78e53",
   "metadata": {},
   "outputs": [
    {
     "name": "stdout",
     "output_type": "stream",
     "text": [
      "sending incremental file list\n",
      "conversation_id_sample_03_batch_01.txt\n",
      "conversation_id_sample_03_batch_02.txt\n",
      "conversation_id_sample_03_batch_03.txt\n",
      "conversation_id_sample_03_batch_04.txt\n",
      "conversation_id_sample_03_batch_05.txt\n",
      "conversation_id_sample_03_batch_06.txt\n",
      "conversation_id_sample_03_batch_07.txt\n",
      "conversation_id_sample_03_batch_08.txt\n",
      "\n",
      "sent 3,608,531 bytes  received 168 bytes  656,127.09 bytes/sec\n",
      "total size is 7,690,733  speedup is 2.13\n"
     ]
    }
   ],
   "source": [
    "! rsync -avze ssh ../../data/twitter/conversation_id_sample_03_batch_* jlasser@medea:/home/jlasser/Honesty-project/data/twitter/ "
   ]
  },
  {
   "cell_type": "markdown",
   "id": "125fba17-7f4f-4fd2-b6be-1c47ed5c0f7b",
   "metadata": {},
   "source": [
    "Conversation collection:\n",
    "\n",
    "| key | server | batch | id sample | status |\n",
    "| --- | ------ | ----- | --------- | ------ |\n",
    "| Johannes W | medea | 01 | 1 | collected |\n",
    "| Katharina | medea | 02 | 1 | collected |\n",
    "| Malte | medea | 03 | 1 | collected |\n",
    "| Seve | medea | 04 | 1 | collected |\n",
    "| Almog | medea | 05 | 1 | collected |\n",
    "| William | medea | 06 | 1 | collected |\n",
    "| Michi | medea | 07 | 1 | collected |\n",
    "| Simon | medea | 08 | 1 | collected |\n",
    "| Flo | remotejana | full | 2 | running |\n",
    "| Johannes W | medea | 01 | 3 | running |\n",
    "| Katharina | medea | 02 | 3 | running |\n",
    "| Malte | medea | 03 | 3 | running |\n",
    "| Seve | medea | 04 | 3 | running |\n",
    "| Almog | medea | 05 | 3 | running |\n",
    "| William | medea | 06 | 3 | running |\n",
    "| Michi | medea | 07 | 3 | running |\n",
    "\n",
    "Start collection batch 3 on medea: 2022-04-06"
   ]
  },
  {
   "cell_type": "code",
   "execution_count": null,
   "id": "1c1608c4-49ca-4f37-aa58-05670c84e380",
   "metadata": {},
   "outputs": [],
   "source": [
    "cat conversation_id_sample_03_batch_08.txt | xargs -i sh -c \"twarc2 --bearer-token conversation --archive {} /data/honesty/corpora/Twitter/US_politician_twitter_conversations/{}.jsonl\""
   ]
  },
  {
   "cell_type": "code",
   "execution_count": 92,
   "id": "d40376d0-7544-4e1b-bcaa-13a0076acc51",
   "metadata": {},
   "outputs": [
    {
     "name": "stdout",
     "output_type": "stream",
     "text": [
      "cat: '!': No such file or directory\n",
      "cat: ls: No such file or directory\n",
      "100%|███████████████| Processed 15 years/15 years [00:01<00:00, 1 tweets total ]\n",
      "100%|███████████████| Processed 15 years/15 years [00:01<00:00, 1 tweets total ]\n",
      "100%|███████████████| Processed 15 years/15 years [00:01<00:00, 1 tweets total ]\n",
      "100%|███████████████| Processed 15 years/15 years [00:01<00:00, 1 tweets total ]\n",
      "100%|███████████████| Processed 15 years/15 years [00:01<00:00, 1 tweets total ]\n"
     ]
    }
   ],
   "source": [
    "cat conversation_id_sample.txt | xargs -i sh -c \"twarc2 conversation --archive {} US_politician_twitter_conversations/{}.jsonl\""
   ]
  },
  {
   "cell_type": "markdown",
   "id": "752050fb-75fb-4280-8fe8-8742e35021a8",
   "metadata": {},
   "source": [
    "### Get missing conversation IDs"
   ]
  },
  {
   "cell_type": "code",
   "execution_count": 8,
   "id": "e8106a0a-43ad-41a3-9fce-dbedc98c83a1",
   "metadata": {},
   "outputs": [],
   "source": [
    "id_sample = set(np.loadtxt(join(\"../../data/twitter\", \"conversation_id_sample.txt\"), dtype=str))"
   ]
  },
  {
   "cell_type": "code",
   "execution_count": 10,
   "id": "2f82161c-24fa-4244-9df2-973d12118fd8",
   "metadata": {},
   "outputs": [],
   "source": [
    "existing_conversations = os.listdir(\"../../data/twitter/US_politician_twitter_conversations/\")\n",
    "existing_conversations = set([c.split(\".\")[0] for c in existing_conversations])"
   ]
  },
  {
   "cell_type": "code",
   "execution_count": 12,
   "id": "114264b5-601a-4de4-b917-d6dda1865fdc",
   "metadata": {},
   "outputs": [
    {
     "data": {
      "text/plain": [
       "236108"
      ]
     },
     "execution_count": 12,
     "metadata": {},
     "output_type": "execute_result"
    }
   ],
   "source": [
    "missing_conversations = list(id_sample.difference(existing_conversations))\n",
    "len(missing_conversations)"
   ]
  },
  {
   "cell_type": "code",
   "execution_count": 14,
   "id": "b3c15f6c-8d81-44ed-a05c-c437a44585ca",
   "metadata": {},
   "outputs": [],
   "source": [
    "for i in range(1, 9):\n",
    "    np.savetxt(join(\"../../data/twitter\", \"missing_conversation_ids_sample_split_{:02d}.txt\".format(i)),\n",
    "               missing_conversations[i::3], fmt='%s')"
   ]
  },
  {
   "cell_type": "markdown",
   "id": "7b82b978-6b99-4278-adf7-b50353f767e7",
   "metadata": {},
   "source": [
    "# Collect conversations"
   ]
  },
  {
   "cell_type": "code",
   "execution_count": 3,
   "id": "ccc66f9b-1420-4761-9f01-23f3ac6273ae",
   "metadata": {},
   "outputs": [
    {
     "name": "stdout",
     "output_type": "stream",
     "text": [
      "receiving incremental file list\n",
      "1059564601501720577.csv\n",
      "\n",
      "sent 43 bytes  received 2,724 bytes  5,534.00 bytes/sec\n",
      "total size is 13,912  speedup is 5.03\n"
     ]
    }
   ],
   "source": [
    "! rsync -avze ssh jlasser@medea:/data/honesty/corpora/Twitter/US_politician_twitter_conversations_csv/1059564601501720577.csv ."
   ]
  },
  {
   "cell_type": "code",
   "execution_count": 4,
   "id": "e6ccf87b-0b05-432a-a057-a9bfcd31b62f",
   "metadata": {},
   "outputs": [],
   "source": [
    "test = pd.read_csv(\"1059564601501720577.csv\")"
   ]
  },
  {
   "cell_type": "code",
   "execution_count": 7,
   "id": "193c3f67-2059-4b06-a2c2-93e53df76fa9",
   "metadata": {},
   "outputs": [
    {
     "data": {
      "text/html": [
       "<div>\n",
       "<style scoped>\n",
       "    .dataframe tbody tr th:only-of-type {\n",
       "        vertical-align: middle;\n",
       "    }\n",
       "\n",
       "    .dataframe tbody tr th {\n",
       "        vertical-align: top;\n",
       "    }\n",
       "\n",
       "    .dataframe thead th {\n",
       "        text-align: right;\n",
       "    }\n",
       "</style>\n",
       "<table border=\"1\" class=\"dataframe\">\n",
       "  <thead>\n",
       "    <tr style=\"text-align: right;\">\n",
       "      <th></th>\n",
       "      <th>id</th>\n",
       "      <th>conversation_id</th>\n",
       "      <th>referenced_tweets.replied_to.id</th>\n",
       "      <th>referenced_tweets.retweeted.id</th>\n",
       "      <th>referenced_tweets.quoted.id</th>\n",
       "      <th>author_id</th>\n",
       "      <th>in_reply_to_user_id</th>\n",
       "      <th>retweeted_user_id</th>\n",
       "      <th>quoted_user_id</th>\n",
       "      <th>created_at</th>\n",
       "      <th>...</th>\n",
       "      <th>geo.geo.bbox</th>\n",
       "      <th>geo.geo.type</th>\n",
       "      <th>geo.id</th>\n",
       "      <th>geo.name</th>\n",
       "      <th>geo.place_id</th>\n",
       "      <th>geo.place_type</th>\n",
       "      <th>__twarc.retrieved_at</th>\n",
       "      <th>__twarc.url</th>\n",
       "      <th>__twarc.version</th>\n",
       "      <th>Unnamed: 73</th>\n",
       "    </tr>\n",
       "  </thead>\n",
       "  <tbody>\n",
       "    <tr>\n",
       "      <th>0</th>\n",
       "      <td>1059819140989493253</td>\n",
       "      <td>1059564601501720577</td>\n",
       "      <td>1059564601501720577</td>\n",
       "      <td>NaN</td>\n",
       "      <td>NaN</td>\n",
       "      <td>3397423293</td>\n",
       "      <td>2253968388</td>\n",
       "      <td>NaN</td>\n",
       "      <td>NaN</td>\n",
       "      <td>2018-11-06T14:45:48.000Z</td>\n",
       "      <td>...</td>\n",
       "      <td>NaN</td>\n",
       "      <td>NaN</td>\n",
       "      <td>NaN</td>\n",
       "      <td>NaN</td>\n",
       "      <td>NaN</td>\n",
       "      <td>NaN</td>\n",
       "      <td>2022-04-08T06:25:05+00:00</td>\n",
       "      <td>https://api.twitter.com/2/tweets/search/all?ex...</td>\n",
       "      <td>2.10.1</td>\n",
       "      <td>NaN</td>\n",
       "    </tr>\n",
       "    <tr>\n",
       "      <th>1</th>\n",
       "      <td>1059603492707467264</td>\n",
       "      <td>1059564601501720577</td>\n",
       "      <td>1059564601501720577</td>\n",
       "      <td>NaN</td>\n",
       "      <td>NaN</td>\n",
       "      <td>917023309664968704</td>\n",
       "      <td>2253968388</td>\n",
       "      <td>NaN</td>\n",
       "      <td>NaN</td>\n",
       "      <td>2018-11-06T00:28:53.000Z</td>\n",
       "      <td>...</td>\n",
       "      <td>NaN</td>\n",
       "      <td>NaN</td>\n",
       "      <td>NaN</td>\n",
       "      <td>NaN</td>\n",
       "      <td>NaN</td>\n",
       "      <td>NaN</td>\n",
       "      <td>2022-04-08T06:25:05+00:00</td>\n",
       "      <td>https://api.twitter.com/2/tweets/search/all?ex...</td>\n",
       "      <td>2.10.1</td>\n",
       "      <td>NaN</td>\n",
       "    </tr>\n",
       "    <tr>\n",
       "      <th>2</th>\n",
       "      <td>1059588002748469248</td>\n",
       "      <td>1059564601501720577</td>\n",
       "      <td>1059564601501720577</td>\n",
       "      <td>NaN</td>\n",
       "      <td>NaN</td>\n",
       "      <td>827287651296354304</td>\n",
       "      <td>2253968388</td>\n",
       "      <td>NaN</td>\n",
       "      <td>NaN</td>\n",
       "      <td>2018-11-05T23:27:20.000Z</td>\n",
       "      <td>...</td>\n",
       "      <td>NaN</td>\n",
       "      <td>NaN</td>\n",
       "      <td>NaN</td>\n",
       "      <td>NaN</td>\n",
       "      <td>NaN</td>\n",
       "      <td>NaN</td>\n",
       "      <td>2022-04-08T06:25:05+00:00</td>\n",
       "      <td>https://api.twitter.com/2/tweets/search/all?ex...</td>\n",
       "      <td>2.10.1</td>\n",
       "      <td>NaN</td>\n",
       "    </tr>\n",
       "    <tr>\n",
       "      <th>3</th>\n",
       "      <td>1059565037428400128</td>\n",
       "      <td>1059564601501720577</td>\n",
       "      <td>1059564601501720577</td>\n",
       "      <td>NaN</td>\n",
       "      <td>NaN</td>\n",
       "      <td>799113571481358336</td>\n",
       "      <td>2253968388</td>\n",
       "      <td>NaN</td>\n",
       "      <td>NaN</td>\n",
       "      <td>2018-11-05T21:56:05.000Z</td>\n",
       "      <td>...</td>\n",
       "      <td>NaN</td>\n",
       "      <td>NaN</td>\n",
       "      <td>NaN</td>\n",
       "      <td>NaN</td>\n",
       "      <td>NaN</td>\n",
       "      <td>NaN</td>\n",
       "      <td>2022-04-08T06:25:05+00:00</td>\n",
       "      <td>https://api.twitter.com/2/tweets/search/all?ex...</td>\n",
       "      <td>2.10.1</td>\n",
       "      <td>NaN</td>\n",
       "    </tr>\n",
       "  </tbody>\n",
       "</table>\n",
       "<p>4 rows × 74 columns</p>\n",
       "</div>"
      ],
      "text/plain": [
       "                    id      conversation_id  referenced_tweets.replied_to.id  \\\n",
       "0  1059819140989493253  1059564601501720577              1059564601501720577   \n",
       "1  1059603492707467264  1059564601501720577              1059564601501720577   \n",
       "2  1059588002748469248  1059564601501720577              1059564601501720577   \n",
       "3  1059565037428400128  1059564601501720577              1059564601501720577   \n",
       "\n",
       "   referenced_tweets.retweeted.id  referenced_tweets.quoted.id  \\\n",
       "0                             NaN                          NaN   \n",
       "1                             NaN                          NaN   \n",
       "2                             NaN                          NaN   \n",
       "3                             NaN                          NaN   \n",
       "\n",
       "            author_id  in_reply_to_user_id  retweeted_user_id  quoted_user_id  \\\n",
       "0          3397423293           2253968388                NaN             NaN   \n",
       "1  917023309664968704           2253968388                NaN             NaN   \n",
       "2  827287651296354304           2253968388                NaN             NaN   \n",
       "3  799113571481358336           2253968388                NaN             NaN   \n",
       "\n",
       "                 created_at  ... geo.geo.bbox geo.geo.type geo.id  geo.name  \\\n",
       "0  2018-11-06T14:45:48.000Z  ...          NaN          NaN    NaN       NaN   \n",
       "1  2018-11-06T00:28:53.000Z  ...          NaN          NaN    NaN       NaN   \n",
       "2  2018-11-05T23:27:20.000Z  ...          NaN          NaN    NaN       NaN   \n",
       "3  2018-11-05T21:56:05.000Z  ...          NaN          NaN    NaN       NaN   \n",
       "\n",
       "   geo.place_id  geo.place_type       __twarc.retrieved_at  \\\n",
       "0           NaN             NaN  2022-04-08T06:25:05+00:00   \n",
       "1           NaN             NaN  2022-04-08T06:25:05+00:00   \n",
       "2           NaN             NaN  2022-04-08T06:25:05+00:00   \n",
       "3           NaN             NaN  2022-04-08T06:25:05+00:00   \n",
       "\n",
       "                                         __twarc.url  __twarc.version  \\\n",
       "0  https://api.twitter.com/2/tweets/search/all?ex...           2.10.1   \n",
       "1  https://api.twitter.com/2/tweets/search/all?ex...           2.10.1   \n",
       "2  https://api.twitter.com/2/tweets/search/all?ex...           2.10.1   \n",
       "3  https://api.twitter.com/2/tweets/search/all?ex...           2.10.1   \n",
       "\n",
       "   Unnamed: 73  \n",
       "0          NaN  \n",
       "1          NaN  \n",
       "2          NaN  \n",
       "3          NaN  \n",
       "\n",
       "[4 rows x 74 columns]"
      ]
     },
     "execution_count": 7,
     "metadata": {},
     "output_type": "execute_result"
    }
   ],
   "source": [
    "test"
   ]
  },
  {
   "cell_type": "code",
   "execution_count": 6,
   "id": "68e72568-ec4c-4e32-8ee6-2db6fbcc5b78",
   "metadata": {},
   "outputs": [
    {
     "data": {
      "text/plain": [
       "Index(['id', 'conversation_id', 'referenced_tweets.replied_to.id',\n",
       "       'referenced_tweets.retweeted.id', 'referenced_tweets.quoted.id',\n",
       "       'author_id', 'in_reply_to_user_id', 'retweeted_user_id',\n",
       "       'quoted_user_id', 'created_at', 'text', 'lang', 'source',\n",
       "       'public_metrics.like_count', 'public_metrics.quote_count',\n",
       "       'public_metrics.reply_count', 'public_metrics.retweet_count',\n",
       "       'reply_settings', 'possibly_sensitive', 'withheld.scope',\n",
       "       'withheld.copyright', 'withheld.country_codes', 'entities.annotations',\n",
       "       'entities.cashtags', 'entities.hashtags', 'entities.mentions',\n",
       "       'entities.urls', 'context_annotations', 'attachments.media',\n",
       "       'attachments.media_keys', 'attachments.poll.duration_minutes',\n",
       "       'attachments.poll.end_datetime', 'attachments.poll.id',\n",
       "       'attachments.poll.options', 'attachments.poll.voting_status',\n",
       "       'attachments.poll_ids', 'author.id', 'author.created_at',\n",
       "       'author.username', 'author.name', 'author.description',\n",
       "       'author.entities.description.cashtags',\n",
       "       'author.entities.description.hashtags',\n",
       "       'author.entities.description.mentions',\n",
       "       'author.entities.description.urls', 'author.entities.url.urls',\n",
       "       'author.location', 'author.pinned_tweet_id', 'author.profile_image_url',\n",
       "       'author.protected', 'author.public_metrics.followers_count',\n",
       "       'author.public_metrics.following_count',\n",
       "       'author.public_metrics.listed_count',\n",
       "       'author.public_metrics.tweet_count', 'author.url', 'author.verified',\n",
       "       'author.withheld.scope', 'author.withheld.copyright',\n",
       "       'author.withheld.country_codes', 'geo.coordinates.coordinates',\n",
       "       'geo.coordinates.type', 'geo.country', 'geo.country_code',\n",
       "       'geo.full_name', 'geo.geo.bbox', 'geo.geo.type', 'geo.id', 'geo.name',\n",
       "       'geo.place_id', 'geo.place_type', '__twarc.retrieved_at', '__twarc.url',\n",
       "       '__twarc.version', 'Unnamed: 73'],\n",
       "      dtype='object')"
      ]
     },
     "execution_count": 6,
     "metadata": {},
     "output_type": "execute_result"
    }
   ],
   "source": [
    "test.columns"
   ]
  },
  {
   "cell_type": "code",
   "execution_count": null,
   "id": "f787965a-3010-4efe-9149-f5ee7c5dd349",
   "metadata": {},
   "outputs": [],
   "source": [
    "! cd /home/jana/Projects/CSS_honesty/analysis/data/twitter\n",
    "! cat conversations_to_convert.txt | xargs -i sh -c \"twarc2 csv US_politician_twitter_conversations/{}.jsonl US_politician_twitter_conversations_csv/{}.csv\""
   ]
  },
  {
   "cell_type": "code",
   "execution_count": 245,
   "id": "77213aef-cd99-48ca-ae31-80c1608f0f33",
   "metadata": {},
   "outputs": [],
   "source": [
    "src = \"../../data/twitter/US_politician_twitter_conversations_csv\"\n",
    "files = os.listdir(src)\n",
    "cols = [\"id\", \"author.id\",\n",
    "        \"conversation_id\", \"created_at\", \"lang\", \"text\",\n",
    "        \"public_metrics.retweet_count\", \"public_metrics.like_count\",\n",
    "        \"public_metrics.quote_count\",\"public_metrics.reply_count\",\n",
    "        \"entities.urls\", \"geo.place_id\", \"referenced_tweets\"]\n",
    "conversations = pd.DataFrame()\n",
    "for f in files:\n",
    "    tmp = pd.read_csv(join(src, f), usecols=cols)\n",
    "    tmp = process_csv(tmp)\n",
    "    conversations = pd.concat([conversations, tmp])"
   ]
  }
 ],
 "metadata": {
  "kernelspec": {
   "display_name": "Python 3 (ipykernel)",
   "language": "python",
   "name": "python3"
  },
  "language_info": {
   "codemirror_mode": {
    "name": "ipython",
    "version": 3
   },
   "file_extension": ".py",
   "mimetype": "text/x-python",
   "name": "python",
   "nbconvert_exporter": "python",
   "pygments_lexer": "ipython3",
   "version": "3.8.5"
  }
 },
 "nbformat": 4,
 "nbformat_minor": 5
}
