{
 "cells": [
  {
   "cell_type": "code",
   "execution_count": 2,
   "id": "d7df11ea-dde5-4bde-992c-5f0b4bb42cde",
   "metadata": {},
   "outputs": [],
   "source": [
    "import pandas as pd\n",
    "import numpy as np\n",
    "from os.path import join\n",
    "import os\n",
    "import json\n",
    "from datetime import datetime, timezone\n",
    "from twarc import Twarc2\n",
    "\n",
    "# parallelisation functionality\n",
    "from multiprocess import Pool\n",
    "import psutil\n",
    "from tqdm import tqdm\n",
    "\n",
    "import sys\n",
    "sys.path.insert(0, \"/home/jana/Projects/utilities/twitter_functions\")\n",
    "import twitter_functions as tf"
   ]
  },
  {
   "cell_type": "code",
   "execution_count": 3,
   "id": "bc005896-6256-44c1-ad5e-bfe9d54da6ac",
   "metadata": {},
   "outputs": [],
   "source": [
    "src = \"../../data/twitter/\"\n",
    "convos = np.loadtxt(join(src, \"conversation_id_sample_01.txt\"), dtype=str)"
   ]
  },
  {
   "cell_type": "markdown",
   "id": "06354d31-f480-447f-95a2-d653305a5770",
   "metadata": {},
   "source": [
    "# Get quotes"
   ]
  },
  {
   "cell_type": "code",
   "execution_count": null,
   "id": "c4f0f192-4e1a-47b9-8e75-1c1cfd120eb8",
   "metadata": {},
   "outputs": [],
   "source": [
    "cat conversation_id_sample_01.txt | xargs -i sh -c \"twarc2 --bearer-token quotes --limit 10000 {} /data/honesty/corpora/Twitter/US_politician_twitter_quotes/{}.jsonl\""
   ]
  },
  {
   "cell_type": "markdown",
   "id": "db869bc6-fd55-4f82-ac79-0e68d5377dab",
   "metadata": {},
   "source": [
    "Quotes collection:\n",
    "\n",
    "| key | server | batch | id sample |\n",
    "| --- | ------ | ----- | --------- |\n",
    "| Alina | medea | 01 | 1 |\n"
   ]
  }
 ],
 "metadata": {
  "kernelspec": {
   "display_name": "Python 3 (ipykernel)",
   "language": "python",
   "name": "python3"
  },
  "language_info": {
   "codemirror_mode": {
    "name": "ipython",
    "version": 3
   },
   "file_extension": ".py",
   "mimetype": "text/x-python",
   "name": "python",
   "nbconvert_exporter": "python",
   "pygments_lexer": "ipython3",
   "version": "3.8.5"
  }
 },
 "nbformat": 4,
 "nbformat_minor": 5
}
