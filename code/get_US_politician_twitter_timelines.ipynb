{
 "cells": [
  {
   "cell_type": "code",
   "execution_count": 1,
   "id": "d7df11ea-dde5-4bde-992c-5f0b4bb42cde",
   "metadata": {},
   "outputs": [],
   "source": [
    "import pandas as pd\n",
    "import numpy as np\n",
    "from os.path import join\n",
    "from datetime import datetime, timezone\n",
    "from twarc import Twarc2\n",
    "\n",
    "# parallelisation functionality\n",
    "from multiprocess import Pool\n",
    "import psutil\n",
    "from tqdm import tqdm\n",
    "\n",
    "import twitter_functions as tf"
   ]
  },
  {
   "cell_type": "code",
   "execution_count": 2,
   "id": "6bea2444-2166-4467-a7c5-da84a5c8a15f",
   "metadata": {},
   "outputs": [],
   "source": [
    "src = \"../data/twitter/US_politician_twitter_accounts/clean\"\n",
    "dst = \"../data/twitter/US_politician_twitter_timelines\""
   ]
  },
  {
   "cell_type": "code",
   "execution_count": 3,
   "id": "bc005896-6256-44c1-ad5e-bfe9d54da6ac",
   "metadata": {},
   "outputs": [],
   "source": [
    "handles = pd.read_csv(join(src, \"congress-member-unique-twitter-handles_114-117.csv\"))"
   ]
  },
  {
   "cell_type": "markdown",
   "id": "a4621245-c8b7-4c39-a5fa-80f8d74fc838",
   "metadata": {},
   "source": [
    "# Get user IDs"
   ]
  },
  {
   "cell_type": "code",
   "execution_count": 13,
   "id": "f932cee0-e446-4d99-b189-034c8bc70d2a",
   "metadata": {},
   "outputs": [],
   "source": [
    "name = \"michaela\"\n",
    "credentials = tf.get_twitter_API_credentials(namelist=[name])\n",
    "client = Twarc2(bearer_token=credentials[name])"
   ]
  },
  {
   "cell_type": "code",
   "execution_count": 51,
   "id": "6b8b999e-d7ec-46d1-b1f6-d404e44d82bb",
   "metadata": {},
   "outputs": [
    {
     "name": "stdout",
     "output_type": "stream",
     "text": [
      "processing batch 0\n",
      "processing batch 1\n",
      "processing batch 2\n",
      "processing batch 3\n",
      "processing batch 4\n",
      "processing batch 5\n",
      "processing batch 6\n",
      "processing batch 7\n",
      "processing batch 8\n",
      "processing batch 9\n",
      "processing batch 10\n",
      "processing batch 11\n"
     ]
    }
   ],
   "source": [
    "users = pd.DataFrame()\n",
    "batch_size = 100\n",
    "N_batches = int(len(handles) / batch_size)\n",
    "\n",
    "for batch in range(N_batches + 1):\n",
    "    print(f\"processing batch {batch}\")\n",
    "    batch_handles = handles[\"handle\"][batch * batch_size:(batch + 1) * batch_size]\n",
    "    for user_bunch in client.user_lookup(batch_handles.values, usernames=True):\n",
    "        for user in user_bunch[\"data\"]:\n",
    "            \n",
    "            try:\n",
    "                location = user[\"location\"]\n",
    "            except KeyError:\n",
    "                location = np.nan\n",
    "            \n",
    "            row = {\"id\":user[\"id\"],\n",
    "                   \"handle\":user[\"username\"],\n",
    "                   \"name\":user[\"name\"],\n",
    "                   \"created_at\":user[\"created_at\"],\n",
    "                   \"verified\":user[\"verified\"],\n",
    "                   \"protected\":user[\"protected\"],\n",
    "                   \"location\":location,\n",
    "                   \"description\":user[\"description\"],\n",
    "                   \"downloaded\":str(datetime.today()).split(\".\")[0],\n",
    "                   \"followers_count\":user[\"public_metrics\"][\"followers_count\"],\n",
    "                   \"following_count\":user[\"public_metrics\"][\"following_count\"],\n",
    "                   \"tweet_count\":user[\"public_metrics\"][\"tweet_count\"],\n",
    "                   \"listed_count\":user[\"public_metrics\"][\"listed_count\"]}\n",
    "            users = users.append(row, ignore_index=True)\n",
    "        \n",
    "for col in [\"followers_count\", \"following_count\", \"id\", \"listed_count\", \n",
    "            \"protected\", \"tweet_count\", \"verified\"]:\n",
    "    users[col] = users[col].astype(int)\n",
    "users.to_csv(join(src, \"congress-member-unique-twitter-accounts_114-117.csv\"), index=False)"
   ]
  },
  {
   "cell_type": "code",
   "execution_count": 52,
   "id": "d35d0390-162a-4fa5-92f2-78d1f328ca5b",
   "metadata": {},
   "outputs": [
    {
     "name": "stdout",
     "output_type": "stream",
     "text": [
      "102 user profiles could not be retrieved\n"
     ]
    }
   ],
   "source": [
    "diff = list(set(handles[\"handle\"]).difference(set(users[\"handle\"])))\n",
    "print(f\"{len(diff)} user profiles could not be retrieved\")"
   ]
  },
  {
   "cell_type": "markdown",
   "id": "06354d31-f480-447f-95a2-d653305a5770",
   "metadata": {},
   "source": [
    "# Get user timelines"
   ]
  },
  {
   "cell_type": "code",
   "execution_count": 46,
   "id": "c1f72c74-d03b-403e-a254-55cda09e7cb9",
   "metadata": {},
   "outputs": [],
   "source": [
    "users = pd.read_csv(join(src, \"congress-member-unique-twitter-accounts_114-117.csv\"))\n",
    "remaining_users = list(users[\"id\"].values)"
   ]
  },
  {
   "cell_type": "code",
   "execution_count": 47,
   "id": "e5fc4ea4-cc82-42bf-9ab3-ebccf3a043f9",
   "metadata": {},
   "outputs": [
    {
     "name": "stdout",
     "output_type": "stream",
     "text": [
      "using keys from ['michaela', 'simon', 'johanness', 'flo', 'caspar']\n"
     ]
    }
   ],
   "source": [
    "N_tasks = 5\n",
    "namelist = ['michaela', 'simon', 'johanness', 'flo', 'caspar']\n",
    "print(f\"using keys from {namelist}\")\n",
    "credentials = tf.get_twitter_API_credentials(namelist=namelist)\n",
    "# apparently the API does not return timelines before 2010-11-06 (tested)\n",
    "start = datetime(2010, 11, 6, 0, 0, 0, 0, tzinfo=timezone.utc)\n",
    "end = datetime(2021, 12, 14, 0, 0, 0, 0, tzinfo=timezone.utc)\n",
    "task_info = tf.create_crawlinfo(N_tasks, remaining_users, \n",
    "                                start, end, dst, credentials)"
   ]
  },
  {
   "cell_type": "code",
   "execution_count": 48,
   "id": "09350d59-e7cc-40d3-ac57-3ed6c6ce5dd3",
   "metadata": {},
   "outputs": [
    {
     "name": "stderr",
     "output_type": "stream",
     "text": [
      "100%|██████████| 5/5 [2:06:51<00:00, 1522.20s/it]  \n"
     ]
    }
   ],
   "source": [
    "number_of_cores = len(namelist)\n",
    "pool = Pool(number_of_cores)\n",
    "\n",
    "for task in tqdm(pool.imap_unordered(func=tf.get_user_timelines,\n",
    "                                     iterable=task_info),\n",
    "                                     total=len(task_info)):\n",
    "        pass"
   ]
  },
  {
   "cell_type": "markdown",
   "id": "7b82b978-6b99-4278-adf7-b50353f767e7",
   "metadata": {},
   "source": [
    "# Collect user timelines"
   ]
  },
  {
   "cell_type": "code",
   "execution_count": 4,
   "id": "72c6a13e-f24a-4d07-8482-f5c88956b2bf",
   "metadata": {},
   "outputs": [
    {
     "data": {
      "text/plain": [
       "<module 'twitter_functions' from '/home/jana/Projects/CSS_honesty/analysis/code/twitter_functions.py'>"
      ]
     },
     "execution_count": 4,
     "metadata": {},
     "output_type": "execute_result"
    }
   ],
   "source": [
    "from importlib import reload\n",
    "reload(tf)"
   ]
  },
  {
   "cell_type": "code",
   "execution_count": 5,
   "id": "65a4da48-c49c-4a14-a59b-5bd9380fa4fa",
   "metadata": {},
   "outputs": [],
   "source": [
    "users = pd.read_csv(join(src, \"congress-member-unique-twitter-accounts_114-117.csv\"))"
   ]
  },
  {
   "cell_type": "code",
   "execution_count": 9,
   "id": "61e7eeef-b2ae-4c12-b787-29ff4601a31f",
   "metadata": {},
   "outputs": [],
   "source": [
    "def extract_information(ID):\n",
    "    tmp = pd.DataFrame()\n",
    "    try:\n",
    "        json_timeline = tf.load_json_timeline(ID, dst)\n",
    "    except FileNotFoundError:\n",
    "        return tmp\n",
    "    \n",
    "    for tl_obj in json_timeline:\n",
    "        tmp = pd.concat([tmp, tf.unravel_data(tl_obj)])\n",
    "    return tmp"
   ]
  },
  {
   "cell_type": "code",
   "execution_count": 15,
   "id": "a279a0e6-5569-48a8-b6be-d317ab211931",
   "metadata": {},
   "outputs": [
    {
     "data": {
      "text/plain": [
       "'2010-11-06 00:00:00+00:00'"
      ]
     },
     "execution_count": 15,
     "metadata": {},
     "output_type": "execute_result"
    }
   ],
   "source": [
    "str(start)"
   ]
  },
  {
   "cell_type": "code",
   "execution_count": 10,
   "id": "9dec8dd5-4086-4a03-8172-ab7f6cad5c49",
   "metadata": {},
   "outputs": [
    {
     "name": "stderr",
     "output_type": "stream",
     "text": [
      "100%|██████████| 1065/1065 [40:02<00:00,  2.26s/it]\n"
     ]
    }
   ],
   "source": [
    "start = datetime(2010, 11, 6, 0, 0, 0, 0, tzinfo=timezone.utc)\n",
    "end = datetime(2021, 12, 14, 0, 0, 0, 0, tzinfo=timezone.utc)\n",
    "dst = \"../data/twitter/\"\n",
    "\n",
    "number_of_cores = 10\n",
    "pool = Pool(number_of_cores)\n",
    "timelines = pd.DataFrame()\n",
    "\n",
    "for tmp in tqdm(pool.imap_unordered(func=extract_information, \n",
    "                    iterable=users[\"id\"].values), total=len(users)):\n",
    "        timelines = pd.concat([timelines, tmp])\n",
    "\n",
    "fname = f\"combined_US_politician_twitter_timelines_{str(start).split(\" \")[0]}_to_{str(end).split(\" \")[0]}_raw.csv.gzip\"\n",
    "timelines.to_csv(join(dst, fname), compression=\"gzip\", index=False)"
   ]
  },
  {
   "cell_type": "code",
   "execution_count": 11,
   "id": "9fb3c1d5-b308-46f0-bded-b53bc7cd1217",
   "metadata": {},
   "outputs": [
    {
     "data": {
      "text/html": [
       "<div>\n",
       "<style scoped>\n",
       "    .dataframe tbody tr th:only-of-type {\n",
       "        vertical-align: middle;\n",
       "    }\n",
       "\n",
       "    .dataframe tbody tr th {\n",
       "        vertical-align: top;\n",
       "    }\n",
       "\n",
       "    .dataframe thead th {\n",
       "        text-align: right;\n",
       "    }\n",
       "</style>\n",
       "<table border=\"1\" class=\"dataframe\">\n",
       "  <thead>\n",
       "    <tr style=\"text-align: right;\">\n",
       "      <th></th>\n",
       "      <th>author_id</th>\n",
       "      <th>conversation_id</th>\n",
       "      <th>created_at</th>\n",
       "      <th>expanded_urls</th>\n",
       "      <th>geo</th>\n",
       "      <th>id</th>\n",
       "      <th>lang</th>\n",
       "      <th>like_count</th>\n",
       "      <th>quote_count</th>\n",
       "      <th>reference_type</th>\n",
       "      <th>reply_count</th>\n",
       "      <th>retweet_count</th>\n",
       "      <th>text</th>\n",
       "      <th>urls</th>\n",
       "    </tr>\n",
       "  </thead>\n",
       "  <tbody>\n",
       "    <tr>\n",
       "      <th>0</th>\n",
       "      <td>2982232408</td>\n",
       "      <td>576588442504720384</td>\n",
       "      <td>2015-03-14T03:39:31.000Z</td>\n",
       "      <td>[]</td>\n",
       "      <td>NaN</td>\n",
       "      <td>576588442504720384</td>\n",
       "      <td>ru</td>\n",
       "      <td>0.0</td>\n",
       "      <td>1.0</td>\n",
       "      <td>[]</td>\n",
       "      <td>0.0</td>\n",
       "      <td>0.0</td>\n",
       "      <td>ты не рожден для лунной доли</td>\n",
       "      <td>[]</td>\n",
       "    </tr>\n",
       "    <tr>\n",
       "      <th>1</th>\n",
       "      <td>2982232408</td>\n",
       "      <td>576032750123253760</td>\n",
       "      <td>2015-03-12T14:51:24.000Z</td>\n",
       "      <td>[]</td>\n",
       "      <td>NaN</td>\n",
       "      <td>576032750123253760</td>\n",
       "      <td>uk</td>\n",
       "      <td>0.0</td>\n",
       "      <td>0.0</td>\n",
       "      <td>[]</td>\n",
       "      <td>0.0</td>\n",
       "      <td>0.0</td>\n",
       "      <td>Я ж себе забуваю,коли п'ю безнастанно.</td>\n",
       "      <td>[]</td>\n",
       "    </tr>\n",
       "    <tr>\n",
       "      <th>2</th>\n",
       "      <td>2982232408</td>\n",
       "      <td>574964793444073472</td>\n",
       "      <td>2015-03-09T16:07:43.000Z</td>\n",
       "      <td>[]</td>\n",
       "      <td>NaN</td>\n",
       "      <td>574964793444073472</td>\n",
       "      <td>ru</td>\n",
       "      <td>0.0</td>\n",
       "      <td>0.0</td>\n",
       "      <td>[]</td>\n",
       "      <td>0.0</td>\n",
       "      <td>0.0</td>\n",
       "      <td>Тихо ходики стучат</td>\n",
       "      <td>[]</td>\n",
       "    </tr>\n",
       "    <tr>\n",
       "      <th>3</th>\n",
       "      <td>2982232408</td>\n",
       "      <td>574192107109421056</td>\n",
       "      <td>2015-03-07T12:57:20.000Z</td>\n",
       "      <td>[]</td>\n",
       "      <td>NaN</td>\n",
       "      <td>574192107109421056</td>\n",
       "      <td>ru</td>\n",
       "      <td>0.0</td>\n",
       "      <td>0.0</td>\n",
       "      <td>[]</td>\n",
       "      <td>0.0</td>\n",
       "      <td>0.0</td>\n",
       "      <td>Помнишь ли – в этом кафе под зонтиком звонко у...</td>\n",
       "      <td>[]</td>\n",
       "    </tr>\n",
       "    <tr>\n",
       "      <th>4</th>\n",
       "      <td>2982232408</td>\n",
       "      <td>573223746720403456</td>\n",
       "      <td>2015-03-04T20:49:25.000Z</td>\n",
       "      <td>[]</td>\n",
       "      <td>NaN</td>\n",
       "      <td>573223746720403456</td>\n",
       "      <td>ru</td>\n",
       "      <td>0.0</td>\n",
       "      <td>0.0</td>\n",
       "      <td>[]</td>\n",
       "      <td>0.0</td>\n",
       "      <td>0.0</td>\n",
       "      <td>Мыши погрызли лепёшку.</td>\n",
       "      <td>[]</td>\n",
       "    </tr>\n",
       "    <tr>\n",
       "      <th>...</th>\n",
       "      <td>...</td>\n",
       "      <td>...</td>\n",
       "      <td>...</td>\n",
       "      <td>...</td>\n",
       "      <td>...</td>\n",
       "      <td>...</td>\n",
       "      <td>...</td>\n",
       "      <td>...</td>\n",
       "      <td>...</td>\n",
       "      <td>...</td>\n",
       "      <td>...</td>\n",
       "      <td>...</td>\n",
       "      <td>...</td>\n",
       "      <td>...</td>\n",
       "    </tr>\n",
       "    <tr>\n",
       "      <th>40</th>\n",
       "      <td>779104195</td>\n",
       "      <td>1268286575592370178</td>\n",
       "      <td>2020-06-03T21:00:57.000Z</td>\n",
       "      <td>[]</td>\n",
       "      <td>NaN</td>\n",
       "      <td>1268286575592370178</td>\n",
       "      <td>en</td>\n",
       "      <td>0.0</td>\n",
       "      <td>0.0</td>\n",
       "      <td>[retweeted]</td>\n",
       "      <td>0.0</td>\n",
       "      <td>3.0</td>\n",
       "      <td>RT @1370WCOA: #NewsRoundup –  The national res...</td>\n",
       "      <td>[]</td>\n",
       "    </tr>\n",
       "    <tr>\n",
       "      <th>41</th>\n",
       "      <td>779104195</td>\n",
       "      <td>1268285214565863424</td>\n",
       "      <td>2020-06-03T20:55:33.000Z</td>\n",
       "      <td>[]</td>\n",
       "      <td>NaN</td>\n",
       "      <td>1268285214565863424</td>\n",
       "      <td>en</td>\n",
       "      <td>0.0</td>\n",
       "      <td>0.0</td>\n",
       "      <td>[retweeted]</td>\n",
       "      <td>0.0</td>\n",
       "      <td>10.0</td>\n",
       "      <td>RT @knssradio: : @SeanHannity -  #NewsRoundup ...</td>\n",
       "      <td>[]</td>\n",
       "    </tr>\n",
       "    <tr>\n",
       "      <th>42</th>\n",
       "      <td>779104195</td>\n",
       "      <td>1268199775578533889</td>\n",
       "      <td>2020-06-03T15:16:03.000Z</td>\n",
       "      <td>[https://twitter.com/BurgessOwens/status/12681...</td>\n",
       "      <td>NaN</td>\n",
       "      <td>1268199775578533889</td>\n",
       "      <td>en</td>\n",
       "      <td>223.0</td>\n",
       "      <td>3.0</td>\n",
       "      <td>[]</td>\n",
       "      <td>10.0</td>\n",
       "      <td>38.0</td>\n",
       "      <td>Trust in the Lord with all your heart. https:/...</td>\n",
       "      <td>[https://t.co/LWUKAhp2R3]</td>\n",
       "    </tr>\n",
       "    <tr>\n",
       "      <th>43</th>\n",
       "      <td>779104195</td>\n",
       "      <td>1268033455360786436</td>\n",
       "      <td>2020-06-03T06:57:34.000Z</td>\n",
       "      <td>[]</td>\n",
       "      <td>NaN</td>\n",
       "      <td>1268074330878930944</td>\n",
       "      <td>en</td>\n",
       "      <td>290.0</td>\n",
       "      <td>1.0</td>\n",
       "      <td>[replied_to]</td>\n",
       "      <td>8.0</td>\n",
       "      <td>25.0</td>\n",
       "      <td>@realDonaldTrump @IngrahamAngle @FoxNews Thank...</td>\n",
       "      <td>[]</td>\n",
       "    </tr>\n",
       "    <tr>\n",
       "      <th>44</th>\n",
       "      <td>779104195</td>\n",
       "      <td>1268057123423875072</td>\n",
       "      <td>2020-06-03T05:49:12.000Z</td>\n",
       "      <td>[]</td>\n",
       "      <td>NaN</td>\n",
       "      <td>1268057123423875072</td>\n",
       "      <td>en</td>\n",
       "      <td>0.0</td>\n",
       "      <td>0.0</td>\n",
       "      <td>[retweeted]</td>\n",
       "      <td>0.0</td>\n",
       "      <td>202.0</td>\n",
       "      <td>RT @BurgessOwens: Thank you @realDonaldTrump ,...</td>\n",
       "      <td>[]</td>\n",
       "    </tr>\n",
       "  </tbody>\n",
       "</table>\n",
       "<p>2510158 rows × 14 columns</p>\n",
       "</div>"
      ],
      "text/plain": [
       "     author_id      conversation_id                created_at  \\\n",
       "0   2982232408   576588442504720384  2015-03-14T03:39:31.000Z   \n",
       "1   2982232408   576032750123253760  2015-03-12T14:51:24.000Z   \n",
       "2   2982232408   574964793444073472  2015-03-09T16:07:43.000Z   \n",
       "3   2982232408   574192107109421056  2015-03-07T12:57:20.000Z   \n",
       "4   2982232408   573223746720403456  2015-03-04T20:49:25.000Z   \n",
       "..         ...                  ...                       ...   \n",
       "40   779104195  1268286575592370178  2020-06-03T21:00:57.000Z   \n",
       "41   779104195  1268285214565863424  2020-06-03T20:55:33.000Z   \n",
       "42   779104195  1268199775578533889  2020-06-03T15:16:03.000Z   \n",
       "43   779104195  1268033455360786436  2020-06-03T06:57:34.000Z   \n",
       "44   779104195  1268057123423875072  2020-06-03T05:49:12.000Z   \n",
       "\n",
       "                                        expanded_urls  geo  \\\n",
       "0                                                  []  NaN   \n",
       "1                                                  []  NaN   \n",
       "2                                                  []  NaN   \n",
       "3                                                  []  NaN   \n",
       "4                                                  []  NaN   \n",
       "..                                                ...  ...   \n",
       "40                                                 []  NaN   \n",
       "41                                                 []  NaN   \n",
       "42  [https://twitter.com/BurgessOwens/status/12681...  NaN   \n",
       "43                                                 []  NaN   \n",
       "44                                                 []  NaN   \n",
       "\n",
       "                     id lang  like_count  quote_count reference_type  \\\n",
       "0    576588442504720384   ru         0.0          1.0             []   \n",
       "1    576032750123253760   uk         0.0          0.0             []   \n",
       "2    574964793444073472   ru         0.0          0.0             []   \n",
       "3    574192107109421056   ru         0.0          0.0             []   \n",
       "4    573223746720403456   ru         0.0          0.0             []   \n",
       "..                  ...  ...         ...          ...            ...   \n",
       "40  1268286575592370178   en         0.0          0.0    [retweeted]   \n",
       "41  1268285214565863424   en         0.0          0.0    [retweeted]   \n",
       "42  1268199775578533889   en       223.0          3.0             []   \n",
       "43  1268074330878930944   en       290.0          1.0   [replied_to]   \n",
       "44  1268057123423875072   en         0.0          0.0    [retweeted]   \n",
       "\n",
       "    reply_count  retweet_count  \\\n",
       "0           0.0            0.0   \n",
       "1           0.0            0.0   \n",
       "2           0.0            0.0   \n",
       "3           0.0            0.0   \n",
       "4           0.0            0.0   \n",
       "..          ...            ...   \n",
       "40          0.0            3.0   \n",
       "41          0.0           10.0   \n",
       "42         10.0           38.0   \n",
       "43          8.0           25.0   \n",
       "44          0.0          202.0   \n",
       "\n",
       "                                                 text  \\\n",
       "0                        ты не рожден для лунной доли   \n",
       "1              Я ж себе забуваю,коли п'ю безнастанно.   \n",
       "2                                  Тихо ходики стучат   \n",
       "3   Помнишь ли – в этом кафе под зонтиком звонко у...   \n",
       "4                              Мыши погрызли лепёшку.   \n",
       "..                                                ...   \n",
       "40  RT @1370WCOA: #NewsRoundup –  The national res...   \n",
       "41  RT @knssradio: : @SeanHannity -  #NewsRoundup ...   \n",
       "42  Trust in the Lord with all your heart. https:/...   \n",
       "43  @realDonaldTrump @IngrahamAngle @FoxNews Thank...   \n",
       "44  RT @BurgessOwens: Thank you @realDonaldTrump ,...   \n",
       "\n",
       "                         urls  \n",
       "0                          []  \n",
       "1                          []  \n",
       "2                          []  \n",
       "3                          []  \n",
       "4                          []  \n",
       "..                        ...  \n",
       "40                         []  \n",
       "41                         []  \n",
       "42  [https://t.co/LWUKAhp2R3]  \n",
       "43                         []  \n",
       "44                         []  \n",
       "\n",
       "[2510158 rows x 14 columns]"
      ]
     },
     "execution_count": 11,
     "metadata": {},
     "output_type": "execute_result"
    }
   ],
   "source": [
    "timelines"
   ]
  },
  {
   "cell_type": "markdown",
   "id": "306f39a6-52ea-4e8b-b1c8-740c81223e59",
   "metadata": {},
   "source": [
    "# Clean user timelines"
   ]
  },
  {
   "cell_type": "code",
   "execution_count": 18,
   "id": "9483cefa-1460-4c53-a378-86559da77f94",
   "metadata": {},
   "outputs": [
    {
     "data": {
      "text/plain": [
       "<module 'twitter_functions' from '/home/jana/Projects/CSS_honesty/analysis/code/twitter_functions.py'>"
      ]
     },
     "execution_count": 18,
     "metadata": {},
     "output_type": "execute_result"
    }
   ],
   "source": [
    "reload(tf)"
   ]
  },
  {
   "cell_type": "code",
   "execution_count": 12,
   "id": "e0e94cc1-13aa-438f-bfc9-f2562ad1cea7",
   "metadata": {},
   "outputs": [
    {
     "name": "stderr",
     "output_type": "stream",
     "text": [
      "/home/jana/anaconda3/envs/misinfo/lib/python3.9/site-packages/IPython/core/interactiveshell.py:3165: DtypeWarning: Columns (0,1,4,13) have mixed types.Specify dtype option on import or set low_memory=False.\n",
      "  has_raised = await self.run_ast_nodes(code_ast.body, cell_name,\n"
     ]
    }
   ],
   "source": [
    "fname = \"combined_US_politician_twitter_timelines_2010-11-06_to_2021-12-14_raw.csv.gzip\"\n",
    "src = \"../data/twitter/\"\n",
    "timelines = pd.read_csv(join(src, fname), compression=\"gzip\")"
   ]
  },
  {
   "cell_type": "code",
   "execution_count": 16,
   "id": "06c3d47b-1026-4d0a-9b1e-39c94570da84",
   "metadata": {},
   "outputs": [],
   "source": [
    "timelines = timelines[timelines[\"lang\"] == \"en\"]\n",
    "timelines = timelines.dropna(subset=[\"id\"])"
   ]
  },
  {
   "cell_type": "code",
   "execution_count": 20,
   "id": "9db57fad-b9e1-41fc-a5a5-02fdb9b77f34",
   "metadata": {},
   "outputs": [],
   "source": [
    "timelines[\"reference_type\"] = timelines[\"reference_type\"].apply(lambda x: eval(x))"
   ]
  },
  {
   "cell_type": "code",
   "execution_count": 22,
   "id": "d286d7f5-0c2f-4271-b630-19f4e4500757",
   "metadata": {},
   "outputs": [],
   "source": [
    "timelines[\"retweeted\"] = timelines[\"reference_type\"].apply(tf.check_retweet)\n",
    "timelines[\"quoted\"] = timelines[\"reference_type\"].apply(tf.check_quoted)\n",
    "timelines[\"reply\"] = timelines[\"reference_type\"].apply(tf.check_reply)\n",
    "timelines = timelines.drop(columns=[\"reference_type\"])"
   ]
  },
  {
   "cell_type": "code",
   "execution_count": 29,
   "id": "27e2714c-8af5-4299-bb13-53ca812847ec",
   "metadata": {},
   "outputs": [],
   "source": [
    "fname = \"combined_US_politician_twitter_timelines_2010-11-06_to_2021-12-14_clean.csv.gzip\"\n",
    "dst = \"../data/twitter/\"\n",
    "timelines.to_csv(join(dst, fname), index=False, compression=\"gzip\")"
   ]
  }
 ],
 "metadata": {
  "kernelspec": {
   "display_name": "Python 3",
   "language": "python",
   "name": "python3"
  },
  "language_info": {
   "codemirror_mode": {
    "name": "ipython",
    "version": 3
   },
   "file_extension": ".py",
   "mimetype": "text/x-python",
   "name": "python",
   "nbconvert_exporter": "python",
   "pygments_lexer": "ipython3",
   "version": "3.9.5"
  }
 },
 "nbformat": 4,
 "nbformat_minor": 5
}
