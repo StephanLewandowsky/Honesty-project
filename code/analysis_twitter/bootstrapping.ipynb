{
 "cells": [
  {
   "cell_type": "code",
   "execution_count": 2,
   "id": "b082f875-6ca7-4cd4-96ed-da62a556cdde",
   "metadata": {},
   "outputs": [],
   "source": [
    "import pandas as pd\n",
    "from os.path import join\n",
    "import numpy as np\n",
    "\n",
    "from scipy.stats import spearmanr\n",
    "\n",
    "# parallelisation functionality\n",
    "from multiprocess import Pool\n",
    "import psutil\n",
    "from tqdm import tqdm"
   ]
  },
  {
   "cell_type": "markdown",
   "id": "14d00a25-f70e-4138-98b4-2b48189952a6",
   "metadata": {},
   "source": [
    "# US Tweets"
   ]
  },
  {
   "cell_type": "code",
   "execution_count": 2,
   "id": "90888f7e-c32a-47c1-9c36-2c55c210bf1c",
   "metadata": {},
   "outputs": [],
   "source": [
    "dst = \"../../data/twitter/bootstrapping_US\""
   ]
  },
  {
   "cell_type": "code",
   "execution_count": 31,
   "id": "5126c8bc-29b4-41a5-ad5a-56c5f8239c3f",
   "metadata": {},
   "outputs": [],
   "source": [
    "src = \"../../data/twitter\"\n",
    "fname = \"US_politician_tweets_2010-11-06_to_2022-03-16.csv.gzip\"\n",
    "tweets = pd.read_csv(join(src, fname), compression=\"gzip\", parse_dates=[\"created_at\"])"
   ]
  },
  {
   "cell_type": "code",
   "execution_count": 32,
   "id": "70ba2a82-4578-471e-8027-6c495ec61c06",
   "metadata": {},
   "outputs": [
    {
     "data": {
      "text/plain": [
       "2588559"
      ]
     },
     "execution_count": 32,
     "metadata": {},
     "output_type": "execute_result"
    }
   ],
   "source": [
    "len(tweets)"
   ]
  },
  {
   "cell_type": "code",
   "execution_count": 33,
   "id": "17e67edf-b49c-492d-8b25-32e2ce6ad502",
   "metadata": {},
   "outputs": [
    {
     "data": {
      "text/plain": [
       "False    2035667\n",
       "True      552892\n",
       "Name: retweeted, dtype: int64"
      ]
     },
     "execution_count": 33,
     "metadata": {},
     "output_type": "execute_result"
    }
   ],
   "source": [
    "tweets[\"retweeted\"].value_counts()"
   ]
  },
  {
   "cell_type": "code",
   "execution_count": 34,
   "id": "671085bb-86de-4c8a-b2c3-43d678c5adab",
   "metadata": {},
   "outputs": [
    {
     "data": {
      "text/plain": [
       "False    2321822\n",
       "True      266737\n",
       "Name: quoted, dtype: int64"
      ]
     },
     "execution_count": 34,
     "metadata": {},
     "output_type": "execute_result"
    }
   ],
   "source": [
    "tweets[\"quoted\"].value_counts()"
   ]
  },
  {
   "cell_type": "code",
   "execution_count": 35,
   "id": "2d6d4c6c-bc31-468d-8d96-666aea1ffe6d",
   "metadata": {},
   "outputs": [
    {
     "data": {
      "text/plain": [
       "False    2340048\n",
       "True      248511\n",
       "Name: reply, dtype: int64"
      ]
     },
     "execution_count": 35,
     "metadata": {},
     "output_type": "execute_result"
    }
   ],
   "source": [
    "tweets[\"reply\"].value_counts()"
   ]
  },
  {
   "cell_type": "code",
   "execution_count": 36,
   "id": "ec7d2a5c-726f-413c-9582-a558e4c9700c",
   "metadata": {},
   "outputs": [
    {
     "data": {
      "text/plain": [
       "1523050"
      ]
     },
     "execution_count": 36,
     "metadata": {},
     "output_type": "execute_result"
    }
   ],
   "source": [
    "len(tweets[(tweets[\"quoted\"] == False) & (tweets[\"reply\"] == False) & (tweets[\"retweeted\"] == False)])"
   ]
  },
  {
   "cell_type": "code",
   "execution_count": 37,
   "id": "59047f21-e836-43fb-aaeb-fc67665bcc32",
   "metadata": {},
   "outputs": [],
   "source": [
    "# drop retweets\n",
    "tweets = tweets[tweets[\"retweeted\"] == False]"
   ]
  },
  {
   "cell_type": "code",
   "execution_count": 38,
   "id": "ea4b1d13-9303-4f52-a6d0-c9b3b8e1dfb7",
   "metadata": {},
   "outputs": [
    {
     "data": {
      "text/plain": [
       "2035667"
      ]
     },
     "execution_count": 38,
     "metadata": {},
     "output_type": "execute_result"
    }
   ],
   "source": [
    "len(tweets)"
   ]
  },
  {
   "cell_type": "code",
   "execution_count": 39,
   "id": "ac8c0826-2964-4fb4-9948-ace93bf9e0ad",
   "metadata": {},
   "outputs": [],
   "source": [
    "# drop tweets without honesty component (distill RoBERTa filtering)\n",
    "tweets = tweets.dropna(subset=[\"belief\", \"truth\"])"
   ]
  },
  {
   "cell_type": "code",
   "execution_count": 40,
   "id": "bdc0d519-7b58-47a4-b888-5f779ebc4d0f",
   "metadata": {},
   "outputs": [
    {
     "data": {
      "text/plain": [
       "1824800"
      ]
     },
     "execution_count": 40,
     "metadata": {},
     "output_type": "execute_result"
    }
   ],
   "source": [
    "len(tweets)"
   ]
  },
  {
   "cell_type": "code",
   "execution_count": 46,
   "id": "99d64baf-7f99-4df3-9529-7c8eebc9bb68",
   "metadata": {},
   "outputs": [
    {
     "data": {
      "text/plain": [
       "210867"
      ]
     },
     "execution_count": 46,
     "metadata": {},
     "output_type": "execute_result"
    }
   ],
   "source": [
    "2035667 - 1824800"
   ]
  },
  {
   "cell_type": "code",
   "execution_count": 42,
   "id": "0638b599-810d-4a13-9dbb-8782c39eb716",
   "metadata": {},
   "outputs": [],
   "source": [
    "# set tweet creation date as index for easier sampling and aggregation\n",
    "tweets = tweets.set_index(\"created_at\")"
   ]
  },
  {
   "cell_type": "code",
   "execution_count": 44,
   "id": "8f75b55d-e1b4-4d54-abc2-4a768fad3172",
   "metadata": {},
   "outputs": [],
   "source": [
    "tweets = tweets[tweets.index.year > 2010]"
   ]
  },
  {
   "cell_type": "code",
   "execution_count": 45,
   "id": "daf0e7e2-0b5a-4a02-afea-b45ed283a1d4",
   "metadata": {},
   "outputs": [
    {
     "data": {
      "text/plain": [
       "1824022"
      ]
     },
     "execution_count": 45,
     "metadata": {},
     "output_type": "execute_result"
    }
   ],
   "source": [
    "len(tweets)"
   ]
  },
  {
   "cell_type": "code",
   "execution_count": 47,
   "id": "8f5a43c6-6bb0-4baf-b15b-b9aa1948ce72",
   "metadata": {},
   "outputs": [
    {
     "data": {
      "text/plain": [
       "778"
      ]
     },
     "execution_count": 47,
     "metadata": {},
     "output_type": "execute_result"
    }
   ],
   "source": [
    "1824800 - 1824022"
   ]
  },
  {
   "cell_type": "code",
   "execution_count": 48,
   "id": "b00ecacd-df4e-4f4c-a606-b90cee9fe8c6",
   "metadata": {},
   "outputs": [
    {
     "data": {
      "text/plain": [
       "131626.0"
      ]
     },
     "execution_count": 48,
     "metadata": {},
     "output_type": "execute_result"
    }
   ],
   "source": [
    "tweets[\"belief\"].sum()"
   ]
  },
  {
   "cell_type": "code",
   "execution_count": 49,
   "id": "dcdc5bf0-2b15-40c6-94c7-2fd7716a6ed6",
   "metadata": {},
   "outputs": [
    {
     "data": {
      "text/plain": [
       "273192.0"
      ]
     },
     "execution_count": 49,
     "metadata": {},
     "output_type": "execute_result"
    }
   ],
   "source": [
    "tweets[\"truth\"].sum()"
   ]
  },
  {
   "cell_type": "code",
   "execution_count": 50,
   "id": "7d7b470a-faaf-4dd8-836d-d30ef6f8d951",
   "metadata": {},
   "outputs": [
    {
     "data": {
      "text/plain": [
       "19653"
      ]
     },
     "execution_count": 50,
     "metadata": {},
     "output_type": "execute_result"
    }
   ],
   "source": [
    "len(tweets[(tweets[\"belief\"] == 1) & (tweets[\"truth\"] == 1)])"
   ]
  },
  {
   "cell_type": "markdown",
   "id": "74f67156-6928-444e-81b4-c6bf2c5dab1e",
   "metadata": {},
   "source": [
    "## Honesty components"
   ]
  },
  {
   "cell_type": "code",
   "execution_count": 55,
   "id": "0635e0c7-a205-4f2c-861e-bb79eb23a00e",
   "metadata": {},
   "outputs": [],
   "source": [
    "def run_bootstrap_belief(i):\n",
    "    tweet_sample = tweets.sample(frac=1, replace=True)\n",
    "    belief = tweet_sample[[\"belief\", \"party\"]]\\\n",
    "        .groupby(by=[tweet_sample.index.year, tweet_sample.index.month, \"party\"])\\\n",
    "        .agg([\"sum\", \"count\"])\n",
    "\n",
    "    belief.index.set_names([\"year\", \"month\", \"party\"], inplace=True)\n",
    "    belief = belief.reset_index()\n",
    "    belief.columns = [\"year\", \"month\", \"party\", \"belief_sum\", \"belief_count\"]\n",
    "    belief[\"belief_share\"] = belief[\"belief_sum\"] / belief[\"belief_count\"]\n",
    "    belief[\"run\"] = i\n",
    "    return belief"
   ]
  },
  {
   "cell_type": "code",
   "execution_count": 12,
   "id": "8a862cb1-b2e6-46f0-917d-148567340271",
   "metadata": {},
   "outputs": [
    {
     "name": "stderr",
     "output_type": "stream",
     "text": [
      "100%|███████████████████████████████████████████████████████████████████████████████████████████████████| 1000/1000 [13:00<00:00,  1.28it/s]\n"
     ]
    }
   ],
   "source": [
    "fname = \"belief\"\n",
    "belief_bootstrap = pd.DataFrame()\n",
    "pool = Pool(10)\n",
    "N_bootstrap = 1000\n",
    "\n",
    "for tmp in tqdm(pool.imap_unordered(\n",
    "    func=run_bootstrap_belief, \n",
    "    iterable=range(N_bootstrap)), \n",
    "    total=N_bootstrap):\n",
    "        belief_bootstrap = pd.concat([belief_bootstrap, tmp])\n",
    "belief_bootstrap = belief_bootstrap.reset_index(drop=True)\n",
    "belief_bootstrap.to_csv(join(dst, fname + \".csv\"), index=False)\n",
    "pool.close()"
   ]
  },
  {
   "cell_type": "code",
   "execution_count": 13,
   "id": "696e79a3-f8db-431d-8085-4503d443caee",
   "metadata": {},
   "outputs": [],
   "source": [
    "def run_bootstrap_truth(i):\n",
    "    tweet_sample = tweets.sample(frac=1, replace=True)\n",
    "    truth = tweet_sample[[\"truth\", \"party\"]]\\\n",
    "        .groupby(by=[tweet_sample.index.year, tweet_sample.index.month, \"party\"])\\\n",
    "        .agg([\"sum\", \"count\"])\n",
    "\n",
    "    truth.index.set_names([\"year\", \"month\", \"party\"], inplace=True)\n",
    "    truth = truth.reset_index()\n",
    "    truth.columns = [\"year\", \"month\", \"party\", \"truth_sum\", \"truth_count\"]\n",
    "    truth[\"truth_share\"] = truth[\"truth_sum\"] / truth[\"truth_count\"]\n",
    "    truth[\"run\"] = i\n",
    "    return truth"
   ]
  },
  {
   "cell_type": "code",
   "execution_count": 14,
   "id": "ddef8746-8979-4e14-9ed3-616969a35c27",
   "metadata": {},
   "outputs": [
    {
     "name": "stderr",
     "output_type": "stream",
     "text": [
      "100%|███████████████████████████████████████████████████████████████████████████████████████████████████| 1000/1000 [06:34<00:00,  2.53it/s]\n"
     ]
    }
   ],
   "source": [
    "fname = \"truth\"\n",
    "truth_bootstrap = pd.DataFrame()\n",
    "pool = Pool(10)\n",
    "N_bootstrap = 1000\n",
    "\n",
    "for tmp in tqdm(pool.imap_unordered(\n",
    "    func=run_bootstrap_truth, \n",
    "    iterable=range(N_bootstrap)), \n",
    "    total=N_bootstrap):\n",
    "        truth_bootstrap = pd.concat([truth_bootstrap, tmp])\n",
    "truth_bootstrap = truth_bootstrap.reset_index(drop=True)\n",
    "truth_bootstrap.to_csv(join(dst, fname + \".csv\"), index=False)\n",
    "pool.close()"
   ]
  },
  {
   "cell_type": "code",
   "execution_count": 56,
   "id": "fd963d7b-8bfe-4d67-8fb3-fad3cff97c43",
   "metadata": {},
   "outputs": [],
   "source": [
    "del tweets"
   ]
  },
  {
   "cell_type": "markdown",
   "id": "287bf7fb-2583-4756-8dd9-887e6b9671f1",
   "metadata": {},
   "source": [
    "# US domains"
   ]
  },
  {
   "cell_type": "code",
   "execution_count": 67,
   "id": "830a48d4-b824-44db-b018-3810e053219f",
   "metadata": {},
   "outputs": [
    {
     "data": {
      "text/plain": [
       "1339442"
      ]
     },
     "execution_count": 67,
     "metadata": {},
     "output_type": "execute_result"
    }
   ],
   "source": [
    "len(tweets_with_urls)"
   ]
  },
  {
   "cell_type": "code",
   "execution_count": 57,
   "id": "250261c6-50a4-455b-b5e8-7b2104e9903f",
   "metadata": {},
   "outputs": [],
   "source": [
    "dst = \"../../data/twitter/bootstrapping_US\""
   ]
  },
  {
   "cell_type": "code",
   "execution_count": 58,
   "id": "335c9ab6-10a1-4443-8d8b-7ba5c48fe95e",
   "metadata": {},
   "outputs": [],
   "source": [
    "src = \"../../data/twitter\"\n",
    "fname = \"US_URLs_2010-11-06_to_2022-03-16.csv.gzip\"\n",
    "urls = pd.read_csv(join(src, fname), compression=\"gzip\", parse_dates=[\"created_at\"])"
   ]
  },
  {
   "cell_type": "code",
   "execution_count": 59,
   "id": "d02df2c8-f607-4eca-a3ec-26612ca6997c",
   "metadata": {},
   "outputs": [],
   "source": [
    "# drop retweets and entries withour URLs\n",
    "urls = urls[urls[\"retweeted\"] == False]\n",
    "urls = urls[urls[\"has_url\"] == True]"
   ]
  },
  {
   "cell_type": "code",
   "execution_count": 66,
   "id": "1195dea5-d89c-47a1-b42f-b0e6d9d60932",
   "metadata": {},
   "outputs": [
    {
     "data": {
      "text/plain": [
       "1437973"
      ]
     },
     "execution_count": 66,
     "metadata": {},
     "output_type": "execute_result"
    }
   ],
   "source": [
    "len(urls.dropna(subset=[\"belief\", \"truth\"]))"
   ]
  },
  {
   "cell_type": "code",
   "execution_count": 28,
   "id": "682354cb-a400-4d55-9de2-5ef07a73b139",
   "metadata": {},
   "outputs": [],
   "source": [
    "urls[\"has_NG_score\"] = False\n",
    "urls.loc[urls[\"Score\"].dropna().index, \"has_NG_score\"] = True\n",
    "urls[\"has_independent_score\"] = False\n",
    "urls.loc[urls[\"unreliable\"].dropna().index, \"has_independent_score\"] = True"
   ]
  },
  {
   "cell_type": "code",
   "execution_count": 29,
   "id": "f9982eba-35be-474a-a365-6cc11811ba45",
   "metadata": {},
   "outputs": [],
   "source": [
    "urls = urls.set_index(\"created_at\")"
   ]
  },
  {
   "cell_type": "markdown",
   "id": "adba6993-d572-45e9-ab4c-333474e7d022",
   "metadata": {},
   "source": [
    "## NewsGuard coverage timelines"
   ]
  },
  {
   "cell_type": "code",
   "execution_count": 30,
   "id": "8e505925-a919-4c15-81ab-16e19147231d",
   "metadata": {},
   "outputs": [],
   "source": [
    "# remove all entries with urls that point to large social media (twitter, \n",
    "# facebook, youtube, instagram), search (google, yahoo) or e-commerce (amazon) \n",
    "# sites\n",
    "excluded_domains = [\"twitter.com\", \"youtube.com\", \"facebook.com\",\n",
    "            \"instagram.com\", \"cards.twitter.com\", \"google.com\", \"yahoo.com\"]\n",
    "urls_clean = urls[~urls[\"domain\"].isin(excluded_domains)]"
   ]
  },
  {
   "cell_type": "code",
   "execution_count": 18,
   "id": "fda14b13-21fd-42cb-9f48-9026f957f48f",
   "metadata": {},
   "outputs": [],
   "source": [
    "def run_bootstrap_NG_coverage(i):\n",
    "    url_sample = urls_clean.sample(frac=1, replace=True)\n",
    "    coverage = url_sample[[\"has_NG_score\", \"party\"]]\\\n",
    "        .groupby(by=[url_sample.index.year, url_sample.index.month, \"party\"])\\\n",
    "        .agg([\"sum\", \"count\"])\n",
    "\n",
    "    coverage.index.set_names([\"year\", \"month\", \"party\"], inplace=True)\n",
    "    coverage = coverage.reset_index()\n",
    "    coverage.columns = [\"year\", \"month\", \"party\", \"has_NG_score_sum\", \"has_NG_score_count\"]\n",
    "    coverage[\"NG_coverage\"] = coverage[\"has_NG_score_sum\"] / coverage[\"has_NG_score_count\"]\n",
    "    coverage[\"run\"] = i\n",
    "    return coverage"
   ]
  },
  {
   "cell_type": "code",
   "execution_count": 19,
   "id": "f5865906-2e3c-4cfe-8923-e8d3d985bef1",
   "metadata": {},
   "outputs": [
    {
     "name": "stderr",
     "output_type": "stream",
     "text": [
      "100%|█████████████████████████████████████████████████████████████████████████████████████████████████████████████████████████████████████████████████████████████████████████████████████████████████████████████████████████████████████████████████| 1000/1000 [02:43<00:00,  6.12it/s]\n"
     ]
    }
   ],
   "source": [
    "fname = \"NG_coverage\"\n",
    "pool = Pool(10)\n",
    "N_bootstrap = 1000\n",
    "NG_coverage_bootstrap = pd.DataFrame()\n",
    "for tmp in tqdm(pool.imap_unordered(\n",
    "    func=run_bootstrap_NG_coverage, \n",
    "    iterable = range(N_bootstrap)), \n",
    "    total = N_bootstrap):\n",
    "        NG_coverage_bootstrap = pd.concat([NG_coverage_bootstrap, tmp])\n",
    "NG_coverage_bootstrap = NG_coverage_bootstrap.reset_index(drop=True)\n",
    "NG_coverage_bootstrap.to_csv(join(dst, fname + \".csv\"), index=False)\n",
    "pool.close()"
   ]
  },
  {
   "cell_type": "markdown",
   "id": "59b8e66a-c336-48f8-b860-d958f736f855",
   "metadata": {},
   "source": [
    "## Independent list coverage"
   ]
  },
  {
   "cell_type": "code",
   "execution_count": 31,
   "id": "946f7a68-2980-4c26-bb98-9ba26a57ed5f",
   "metadata": {},
   "outputs": [],
   "source": [
    "def run_bootstrap_independent_coverage(i):\n",
    "    url_sample = urls_clean.sample(frac=1, replace=True)\n",
    "    coverage = url_sample[[\"has_independent_score\", \"party\"]]\\\n",
    "        .groupby(by=[url_sample.index.year, url_sample.index.month, \"party\"])\\\n",
    "        .agg([\"sum\", \"count\"])\n",
    "\n",
    "    coverage.index.set_names([\"year\", \"month\", \"party\"], inplace=True)\n",
    "    coverage = coverage.reset_index()\n",
    "    coverage.columns = [\"year\", \"month\", \"party\", \"has_independent_score_sum\", \"has_independent_score_count\"]\n",
    "    coverage[\"independent_coverage\"] = coverage[\"has_independent_score_sum\"] / coverage[\"has_independent_score_count\"]\n",
    "    coverage[\"run\"] = i\n",
    "    return coverage"
   ]
  },
  {
   "cell_type": "code",
   "execution_count": 32,
   "id": "990d9cdf-0f53-4b99-9cf8-2756016362c9",
   "metadata": {},
   "outputs": [
    {
     "name": "stderr",
     "output_type": "stream",
     "text": [
      "100%|█████████████████████████████████████████████████████████████████████████████████████████████████████████████████████████████████████████████████████████████████████████████████████████████████████████████████████████████████████████████████| 1000/1000 [02:41<00:00,  6.19it/s]\n"
     ]
    }
   ],
   "source": [
    "fname = \"independent_coverage\"\n",
    "N_bootstrap = 1000\n",
    "pool = Pool(10)\n",
    "independent_coverage_bootstrap = pd.DataFrame()\n",
    "for tmp in tqdm(pool.imap_unordered(\n",
    "    func=run_bootstrap_independent_coverage, \n",
    "    iterable = range(N_bootstrap)), \n",
    "    total = N_bootstrap):\n",
    "        independent_coverage_bootstrap = pd.concat([independent_coverage_bootstrap, tmp])\n",
    "independent_coverage_bootstrap = independent_coverage_bootstrap.reset_index(drop=True)\n",
    "independent_coverage_bootstrap.to_csv(join(dst, fname + \".csv\"), index=False)\n",
    "pool.close()"
   ]
  },
  {
   "cell_type": "code",
   "execution_count": 22,
   "id": "a70ab179-ff7e-4ab3-b7c2-ccf49123e55f",
   "metadata": {},
   "outputs": [],
   "source": [
    "del urls\n",
    "del urls_clean"
   ]
  },
  {
   "cell_type": "markdown",
   "id": "1ebf391c-8e28-4eaf-8788-69393424d18c",
   "metadata": {},
   "source": [
    "# US Users"
   ]
  },
  {
   "cell_type": "code",
   "execution_count": 42,
   "id": "79cdf926-6d32-4338-95e7-964dfde71c03",
   "metadata": {},
   "outputs": [],
   "source": [
    "src = \"../../data/twitter\"\n",
    "fname = \"US_politician_twitter_account_stats_2010-11-06_to_2022-03-16.csv\"\n",
    "users = pd.read_csv(join(src, fname))"
   ]
  },
  {
   "cell_type": "markdown",
   "id": "d0b32d2a-0b92-4310-899a-2c212db5b403",
   "metadata": {},
   "source": [
    "## Politifact, NG score & unreliable correlations"
   ]
  },
  {
   "cell_type": "code",
   "execution_count": 45,
   "id": "adaaabc8-2737-4ff9-929c-acdcc8caeb88",
   "metadata": {},
   "outputs": [],
   "source": [
    "def run_bootstrap_reliability_score_correlations(i):\n",
    "    user_sample = users.sample(frac=1, replace=True, random_state=i)\n",
    "    pf_bootstrap = pd.DataFrame({\n",
    "        \"corr_NGScore_pf\":[user_sample[[\"NG_score_mean\", \"pf_score\"]]\\\n",
    "                           .corr().loc[\"pf_score\"][0]],\n",
    "        \"corr_ind_pf\":[np.abs(user_sample[[\"unreliable_share\", \"pf_score\"]]\\\n",
    "                           .corr().loc[\"pf_score\"][0])],\n",
    "        \"corr_NGScore_ind\":[np.abs(user_sample[[\"NG_score_mean\", \"unreliable_share\"]]\\\n",
    "                           .corr().loc[\"unreliable_share\"][0])],\n",
    "        \"corr_NGShare_pf\":[np.abs(user_sample[[\"fishy_share_60\", \"pf_score\"]]\\\n",
    "                           .corr().loc[\"pf_score\"][0])],\n",
    "        \"corr_NGShare_ind\":[np.abs(user_sample[[\"fishy_share_60\", \"unreliable_share\"]]\\\n",
    "                           .corr().loc[\"unreliable_share\"][0])],\n",
    "        \"corr_NGScore_NGShare\":[np.abs(user_sample[[\"fishy_share_60\", \"NG_score_mean\"]]\\\n",
    "                           .corr().loc[\"NG_score_mean\"][0])],\n",
    "        \"corr_NGScore_accuracy\":[np.abs(user_sample[[\"fishy_share_60\", \"accuracy_mean\"]]\\\n",
    "                           .corr().loc[\"accuracy_mean\"][0])],\n",
    "        \"corr_NGScore_transparency\":[np.abs(user_sample[[\"fishy_share_60\", \"transparency_mean\"]]\\\n",
    "                           .corr().loc[\"transparency_mean\"][0])],\n",
    "        \"run\":[i]\n",
    "    })\n",
    "    return pf_bootstrap"
   ]
  },
  {
   "cell_type": "code",
   "execution_count": 46,
   "id": "4dd531aa-ec28-4c28-8a59-5e7bdf0b35c7",
   "metadata": {},
   "outputs": [
    {
     "name": "stderr",
     "output_type": "stream",
     "text": [
      "100%|██████████████████████████████████████████████████████████████████████████████████████████████████████████████████████████████████████████████████████████████████████████████████████████████████████████████████████████████████████████████| 10000/10000 [00:33<00:00, 298.61it/s]\n"
     ]
    }
   ],
   "source": [
    "fname = \"user_reliability_score_correlations\"\n",
    "N_bootstrap = 10000\n",
    "pool = Pool(10)\n",
    "pf_bootstrap = pd.DataFrame()\n",
    "for tmp in tqdm(pool.imap_unordered(\n",
    "    func=run_bootstrap_reliability_score_correlations, \n",
    "    iterable = range(N_bootstrap)), \n",
    "    total = N_bootstrap):\n",
    "        pf_bootstrap = pd.concat([pf_bootstrap, tmp])\n",
    "pf_bootstrap = pf_bootstrap.reset_index(drop=True)\n",
    "pf_bootstrap.to_csv(join(dst, fname + \".csv\"), index=False)\n",
    "pool.close()"
   ]
  },
  {
   "cell_type": "code",
   "execution_count": 58,
   "id": "585adc53-1b65-4acb-af52-26a10802687a",
   "metadata": {},
   "outputs": [],
   "source": [
    "del users"
   ]
  },
  {
   "cell_type": "markdown",
   "id": "f0e7dbeb-c16a-4c3c-a6b8-1bfcd91be4e6",
   "metadata": {},
   "source": [
    "# LIWC scores"
   ]
  },
  {
   "cell_type": "code",
   "execution_count": 4,
   "id": "f27fd905-4082-4ea8-8b46-d307e99bd1ae",
   "metadata": {},
   "outputs": [],
   "source": [
    "src = \"../../data/twitter\""
   ]
  },
  {
   "cell_type": "code",
   "execution_count": 5,
   "id": "6d4f920f-00e3-48c6-aa71-885063c0f301",
   "metadata": {},
   "outputs": [],
   "source": [
    "fname = \"combined_US_politician_twitter_timelines_2010-11-06_to_2022-03-16_clean_mask_LIWC.csv.gzip\"\n",
    "df = pd.read_csv(\n",
    "    join(src, fname), \n",
    "    compression=\"gzip\",\n",
    "    dtype={\"id\":str},\n",
    ")\n",
    "df[\"id\"] = df[\"id\"].str.replace('\"', '')"
   ]
  },
  {
   "cell_type": "code",
   "execution_count": 6,
   "id": "bc3fcc3d-2048-42f5-98c7-2184a552438d",
   "metadata": {},
   "outputs": [],
   "source": [
    "fname = \"US_politician_tweets_2010-11-06_to_2022-03-16.csv.gzip\"\n",
    "df2 = pd.read_csv(\n",
    "    join(src, fname), \n",
    "    compression=\"gzip\",\n",
    "    parse_dates=[\"created_at\"],\n",
    "    dtype={\"id\":str, \"author_id\":str},\n",
    "    usecols=[\"id\", \"author_id\", \"party\", \"created_at\",\n",
    "             \"belief\", \"truth\", \"neutral\",\n",
    "             \"retweeted\", \"quoted\", \"reply\"]\n",
    ") "
   ]
  },
  {
   "cell_type": "code",
   "execution_count": 7,
   "id": "ffa34034-cbee-409f-8d99-2cfda92f44df",
   "metadata": {},
   "outputs": [],
   "source": [
    "df = pd.merge(df, df2, how=\"left\", left_on=\"id\", right_on=\"id\")\n",
    "del df2"
   ]
  },
  {
   "cell_type": "code",
   "execution_count": 8,
   "id": "58d454bc-9a2e-4782-bd99-f1589d16171e",
   "metadata": {},
   "outputs": [],
   "source": [
    "for col in [\"belief\", \"truth\", \"neutral\"]:\n",
    "    df[col] = df[col].astype(int)"
   ]
  },
  {
   "cell_type": "code",
   "execution_count": 9,
   "id": "2283d84f-0a54-4bde-b750-995e60be6a4e",
   "metadata": {},
   "outputs": [],
   "source": [
    "df[\"honesty_component\"] = np.nan\n",
    "df.loc[df[df[\"belief\"] == 1].index, \"honesty_component\"] = \"belief\"\n",
    "df.loc[df[df[\"truth\"] == 1].index, \"honesty_component\"] = \"truth\"\n",
    "df.loc[df[df[\"neutral\"] == 1].index, \"honesty_component\"] = \"neutral\""
   ]
  },
  {
   "cell_type": "code",
   "execution_count": 10,
   "id": "6dd82c7c-120a-4aec-a502-4278bad37477",
   "metadata": {},
   "outputs": [
    {
     "data": {
      "text/html": [
       "<div>\n",
       "<style scoped>\n",
       "    .dataframe tbody tr th:only-of-type {\n",
       "        vertical-align: middle;\n",
       "    }\n",
       "\n",
       "    .dataframe tbody tr th {\n",
       "        vertical-align: top;\n",
       "    }\n",
       "\n",
       "    .dataframe thead tr th {\n",
       "        text-align: left;\n",
       "    }\n",
       "\n",
       "    .dataframe thead tr:last-of-type th {\n",
       "        text-align: right;\n",
       "    }\n",
       "</style>\n",
       "<table border=\"1\" class=\"dataframe\">\n",
       "  <thead>\n",
       "    <tr>\n",
       "      <th></th>\n",
       "      <th colspan=\"3\" halign=\"left\">Analytic</th>\n",
       "      <th colspan=\"3\" halign=\"left\">Authentic</th>\n",
       "      <th colspan=\"3\" halign=\"left\">emo_pos</th>\n",
       "      <th colspan=\"3\" halign=\"left\">emo_neg</th>\n",
       "      <th colspan=\"3\" halign=\"left\">moral</th>\n",
       "    </tr>\n",
       "    <tr>\n",
       "      <th></th>\n",
       "      <th>mean</th>\n",
       "      <th>std</th>\n",
       "      <th>count</th>\n",
       "      <th>mean</th>\n",
       "      <th>std</th>\n",
       "      <th>count</th>\n",
       "      <th>mean</th>\n",
       "      <th>std</th>\n",
       "      <th>count</th>\n",
       "      <th>mean</th>\n",
       "      <th>std</th>\n",
       "      <th>count</th>\n",
       "      <th>mean</th>\n",
       "      <th>std</th>\n",
       "      <th>count</th>\n",
       "    </tr>\n",
       "    <tr>\n",
       "      <th>honesty_component</th>\n",
       "      <th></th>\n",
       "      <th></th>\n",
       "      <th></th>\n",
       "      <th></th>\n",
       "      <th></th>\n",
       "      <th></th>\n",
       "      <th></th>\n",
       "      <th></th>\n",
       "      <th></th>\n",
       "      <th></th>\n",
       "      <th></th>\n",
       "      <th></th>\n",
       "      <th></th>\n",
       "      <th></th>\n",
       "      <th></th>\n",
       "    </tr>\n",
       "  </thead>\n",
       "  <tbody>\n",
       "    <tr>\n",
       "      <th>belief</th>\n",
       "      <td>63.521585</td>\n",
       "      <td>30.822591</td>\n",
       "      <td>111435</td>\n",
       "      <td>46.158038</td>\n",
       "      <td>33.928406</td>\n",
       "      <td>111435</td>\n",
       "      <td>0.864170</td>\n",
       "      <td>2.056284</td>\n",
       "      <td>111435</td>\n",
       "      <td>0.433783</td>\n",
       "      <td>1.392329</td>\n",
       "      <td>111435</td>\n",
       "      <td>0.683627</td>\n",
       "      <td>1.769463</td>\n",
       "      <td>111435</td>\n",
       "    </tr>\n",
       "    <tr>\n",
       "      <th>neutral</th>\n",
       "      <td>76.897466</td>\n",
       "      <td>26.131528</td>\n",
       "      <td>1423429</td>\n",
       "      <td>42.048568</td>\n",
       "      <td>33.451033</td>\n",
       "      <td>1423429</td>\n",
       "      <td>1.148689</td>\n",
       "      <td>2.541295</td>\n",
       "      <td>1423429</td>\n",
       "      <td>0.345161</td>\n",
       "      <td>1.285239</td>\n",
       "      <td>1423429</td>\n",
       "      <td>0.738635</td>\n",
       "      <td>1.938470</td>\n",
       "      <td>1423429</td>\n",
       "    </tr>\n",
       "    <tr>\n",
       "      <th>truth</th>\n",
       "      <td>74.144456</td>\n",
       "      <td>27.034059</td>\n",
       "      <td>271981</td>\n",
       "      <td>43.494753</td>\n",
       "      <td>32.820735</td>\n",
       "      <td>271981</td>\n",
       "      <td>0.707073</td>\n",
       "      <td>1.807511</td>\n",
       "      <td>271981</td>\n",
       "      <td>0.355489</td>\n",
       "      <td>1.224642</td>\n",
       "      <td>271981</td>\n",
       "      <td>0.620208</td>\n",
       "      <td>1.671442</td>\n",
       "      <td>271981</td>\n",
       "    </tr>\n",
       "  </tbody>\n",
       "</table>\n",
       "</div>"
      ],
      "text/plain": [
       "                    Analytic                      Authentic             \\\n",
       "                        mean        std    count       mean        std   \n",
       "honesty_component                                                        \n",
       "belief             63.521585  30.822591   111435  46.158038  33.928406   \n",
       "neutral            76.897466  26.131528  1423429  42.048568  33.451033   \n",
       "truth              74.144456  27.034059   271981  43.494753  32.820735   \n",
       "\n",
       "                             emo_pos                      emo_neg            \\\n",
       "                     count      mean       std    count      mean       std   \n",
       "honesty_component                                                             \n",
       "belief              111435  0.864170  2.056284   111435  0.433783  1.392329   \n",
       "neutral            1423429  1.148689  2.541295  1423429  0.345161  1.285239   \n",
       "truth               271981  0.707073  1.807511   271981  0.355489  1.224642   \n",
       "\n",
       "                               moral                     \n",
       "                     count      mean       std    count  \n",
       "honesty_component                                        \n",
       "belief              111435  0.683627  1.769463   111435  \n",
       "neutral            1423429  0.738635  1.938470  1423429  \n",
       "truth               271981  0.620208  1.671442   271981  "
      ]
     },
     "execution_count": 10,
     "metadata": {},
     "output_type": "execute_result"
    }
   ],
   "source": [
    "cols = [\"honesty_component\", \"Analytic\", \"Authentic\", \"emo_pos\", \"emo_neg\", \"moral\"]\n",
    "df[cols]\\\n",
    "    .groupby([\"honesty_component\"])\\\n",
    "    .agg([\"mean\", \"std\", \"count\"])"
   ]
  },
  {
   "cell_type": "code",
   "execution_count": 11,
   "id": "d821812b-29a3-499f-9c1f-16eaf39ab758",
   "metadata": {},
   "outputs": [],
   "source": [
    "df = df.set_index(\"created_at\")"
   ]
  },
  {
   "cell_type": "code",
   "execution_count": 12,
   "id": "36495468-992f-417e-beeb-23be61a70fa9",
   "metadata": {},
   "outputs": [],
   "source": [
    "def run_bootstrap_LIWC(i):\n",
    "    cols = [\"Analytic\", \"Authentic\", \"moral\", \"emo_pos\", \"emo_neg\"]\n",
    "    newcols = [\"year\", \"month\", \"party\", \n",
    "                        \"analytic_sum\", \"analytic_count\",\n",
    "                        \"authentic_sum\", \"authentic_count\",\n",
    "                        \"moral_sum\", \"moral_count\",\n",
    "                        \"emo_pos_sum\", \"emo_pos_count\",\n",
    "                        \"emo_neg_sum\", \"emo_neg_count\"]\n",
    "    \n",
    "    df_sample = df.sample(frac=1, replace=True, random_state=i)\n",
    "    grouping = df_sample[cols + [\"party\"]]\\\n",
    "        .groupby(by=[df_sample.index.year, df_sample.index.month, \"party\"])\\\n",
    "        .agg([\"sum\", \"count\"])\n",
    "\n",
    "    grouping.index.set_names([\"year\", \"month\", \"party\"], inplace=True)\n",
    "    grouping = grouping.reset_index()\n",
    "    grouping.columns = newcols\n",
    "    for col in cols:\n",
    "        col = col.lower()\n",
    "        grouping[f\"{col}_share\"] = grouping[f\"{col}_sum\"] / \\\n",
    "            grouping[f\"{col}_count\"]\n",
    "    grouping[\"run\"] = i\n",
    "    \n",
    "    belief_subset = df_sample[df_sample[\"belief\"] == 1]\n",
    "    truth_subset = df_sample[df_sample[\"truth\"] == 1]\n",
    "    neutral_subset = df_sample[df_sample[\"neutral\"] == 1]\n",
    "    \n",
    "    belief_grouping = belief_subset[cols + [\"party\"]]\\\n",
    "        .groupby(by=[belief_subset.index.year, belief_subset.index.month, \"party\"])\\\n",
    "        .agg([\"sum\", \"count\"])\n",
    "    belief_grouping.index.set_names([\"year\", \"month\", \"party\"], inplace=True)\n",
    "    belief_grouping = belief_grouping.reset_index()\n",
    "    belief_grouping.columns = newcols\n",
    "    for col in cols:\n",
    "        col = col.lower()\n",
    "        belief_grouping[f\"{col}_share\"] = belief_grouping[f\"{col}_sum\"] / \\\n",
    "            belief_grouping[f\"{col}_count\"]\n",
    "    belief_grouping[\"run\"] = i\n",
    "    \n",
    "    truth_grouping = truth_subset[cols + [\"party\"]]\\\n",
    "        .groupby(by=[truth_subset.index.year, truth_subset.index.month, \"party\"])\\\n",
    "        .agg([\"sum\", \"count\"])\n",
    "    truth_grouping.index.set_names([\"year\", \"month\", \"party\"], inplace=True)\n",
    "    truth_grouping = truth_grouping.reset_index()\n",
    "    truth_grouping.columns = newcols\n",
    "    for col in cols:\n",
    "        col = col.lower()\n",
    "        truth_grouping[f\"{col}_share\"] = truth_grouping[f\"{col}_sum\"] / \\\n",
    "            truth_grouping[f\"{col}_count\"]\n",
    "    truth_grouping[\"run\"] = i\n",
    "    \n",
    "    neutral_grouping = neutral_subset[cols + [\"party\"]]\\\n",
    "        .groupby(by=[neutral_subset.index.year, neutral_subset.index.month, \"party\"])\\\n",
    "        .agg([\"sum\", \"count\"])\n",
    "    neutral_grouping.index.set_names([\"year\", \"month\", \"party\"], inplace=True)\n",
    "    neutral_grouping = neutral_grouping.reset_index()\n",
    "    neutral_grouping.columns = newcols\n",
    "    for col in cols:\n",
    "        col = col.lower()\n",
    "        neutral_grouping[f\"{col}_share\"] = neutral_grouping[f\"{col}_sum\"] / \\\n",
    "            neutral_grouping[f\"{col}_count\"]\n",
    "    neutral_grouping[\"run\"] = i\n",
    "    \n",
    "    return grouping, belief_grouping, truth_grouping, neutral_grouping"
   ]
  },
  {
   "cell_type": "code",
   "execution_count": 13,
   "id": "ab94a13b-e3eb-4c3f-928f-f414f2c3dc20",
   "metadata": {},
   "outputs": [
    {
     "name": "stderr",
     "output_type": "stream",
     "text": [
      "100%|██████████████████████████████████████████████████████████████████████████████████████████████████████████████████████████████████████████████████████████████████████████████| 10/10 [00:13<00:00,  1.36s/it]\n"
     ]
    }
   ],
   "source": [
    "dst = \"../../data/twitter/bootstrapping_US\"\n",
    "LIWC_bootstrap = pd.DataFrame()\n",
    "LIWC_belief_bootstrap = pd.DataFrame()\n",
    "LIWC_truth_bootstrap = pd.DataFrame()\n",
    "LIWC_neutral_bootstrap = pd.DataFrame()\n",
    "pool = Pool(10)\n",
    "N_bootstrap = 1000\n",
    "\n",
    "for tmp1, tmp2, tmp3, tmp4 in tqdm(pool.imap_unordered(\n",
    "    func=run_bootstrap_LIWC, \n",
    "    iterable=range(N_bootstrap)), \n",
    "    total=N_bootstrap):\n",
    "        LIWC_bootstrap = pd.concat([LIWC_bootstrap, tmp1])\n",
    "        LIWC_belief_bootstrap = pd.concat([LIWC_belief_bootstrap, tmp2])\n",
    "        LIWC_truth_bootstrap = pd.concat([LIWC_truth_bootstrap, tmp3])\n",
    "        LIWC_neutral_bootstrap = pd.concat([LIWC_neutral_bootstrap, tmp4])\n",
    "        \n",
    "LIWC_bootstrap = LIWC_bootstrap.reset_index(drop=True)\n",
    "LIWC_belief_bootstrap = LIWC_belief_bootstrap.reset_index(drop=True)\n",
    "LIWC_truth_bootstrap = LIWC_truth_bootstrap.reset_index(drop=True)\n",
    "LIWC_neutral_bootstrap = LIWC_neutral_bootstrap.reset_index(drop=True)\n",
    "\n",
    "fname = \"LIWC\"\n",
    "LIWC_bootstrap.to_csv(join(dst, fname + \".csv\"), index=False)\n",
    "fname = \"LIWC_belief\"\n",
    "LIWC_belief_bootstrap.to_csv(join(dst, fname + \".csv\"), index=False)\n",
    "fname = \"LIWC_truth\"\n",
    "LIWC_truth_bootstrap.to_csv(join(dst, fname + \".csv\"), index=False)\n",
    "fname = \"LIWC_neutral\"\n",
    "LIWC_neutral_bootstrap.to_csv(join(dst, fname + \".csv\"), index=False)\n",
    "pool.close()"
   ]
  },
  {
   "cell_type": "markdown",
   "id": "ebaf61a6-c404-4835-a775-a255e8c72dc4",
   "metadata": {},
   "source": [
    "# Code graveyard"
   ]
  },
  {
   "cell_type": "markdown",
   "id": "f69924ab-5640-42ef-bf46-fc69d6ab06d4",
   "metadata": {},
   "source": [
    "## Honesty components & information trustworthiness"
   ]
  },
  {
   "cell_type": "code",
   "execution_count": 51,
   "id": "b9cee916-a31b-4c06-af2f-bf07efbced21",
   "metadata": {},
   "outputs": [],
   "source": [
    "# drop tweets without URLs\n",
    "tweets_with_urls = tweets[tweets[\"has_url\"] == True]"
   ]
  },
  {
   "cell_type": "code",
   "execution_count": null,
   "id": "8fae77ec-d98b-41cf-8183-08d3b8e5ac3d",
   "metadata": {},
   "outputs": [],
   "source": [
    "# set tweet creation date as index for easier sampling and aggregation\n",
    "tweets_with_urls = tweets_with_urls.set_index(\"created_at\")"
   ]
  },
  {
   "cell_type": "code",
   "execution_count": 52,
   "id": "6b4c6282-7265-4284-aeb8-354a28189c26",
   "metadata": {},
   "outputs": [],
   "source": [
    "# create data subsets for parties\n",
    "dem = tweets_with_urls[tweets_with_urls[\"party\"] == \"Democrat\"]\n",
    "rep = tweets_with_urls[tweets_with_urls[\"party\"] == \"Republican\"]\n",
    "datasets = {\"all\":tweets_with_urls, \"democrat\":dem, \"republican\":rep}"
   ]
  },
  {
   "cell_type": "code",
   "execution_count": 13,
   "id": "678cae4e-d5aa-49a1-b8c1-79f6a496ec46",
   "metadata": {},
   "outputs": [],
   "source": [
    "components = [\"neutral\", \"belief\", \"truth\"]\n",
    "N_bootstrap = 1000\n",
    "cols = [\"fishy_60\", \"fishy_40\", \"fishy_20\"] + [f\"C_{i}\" for i in range(0, 9)]"
   ]
  },
  {
   "cell_type": "code",
   "execution_count": 14,
   "id": "7b4cf97c-fad5-46d3-bccd-cf801aeea463",
   "metadata": {},
   "outputs": [],
   "source": [
    "def run_bootstrap_honesty_misinfo(dataset):\n",
    "    tmp = pd.DataFrame()\n",
    "    tweet_sample = datasets[dataset].sample(len(datasets[dataset]), replace=True)\n",
    "    row = {}\n",
    "    for col in cols:\n",
    "        agg = tweet_sample[[col] + components]\\\n",
    "                .groupby(col).agg(sum)\n",
    "        try:\n",
    "            res = agg.loc[1] / agg.loc[0]\n",
    "        except KeyError:\n",
    "            return tmp\n",
    "        for comp in components:\n",
    "            tmp = pd.concat([tmp, pd.DataFrame({\n",
    "                \"misinfo_label\":[col],\n",
    "                \"honesty_component\":[comp],\n",
    "                \"percentage\":[res[comp]]\n",
    "            })])\n",
    "            if comp != \"neutral\":\n",
    "                tmp = pd.concat([tmp, pd.DataFrame({\n",
    "                        \"misinfo_label\":[col],\n",
    "                        \"honesty_component\":[f\"{comp}_diff\"],\n",
    "                        \"percentage\":[res[comp] - res[\"neutral\"]]\n",
    "                    })])\n",
    "            \n",
    "    return tmp"
   ]
  },
  {
   "cell_type": "code",
   "execution_count": 15,
   "id": "17751eeb-0776-4442-850b-a4ad70f7f3b1",
   "metadata": {},
   "outputs": [
    {
     "name": "stderr",
     "output_type": "stream",
     "text": [
      "100%|██████████████████████████████████████████████████████████████████████████████████████████████████████████████████████████████████████████████████████████████████████████| 1000/1000 [06:06<00:00,  2.73it/s]\n"
     ]
    }
   ],
   "source": [
    "fname = \"misinfo_label_and_honesty_component\"\n",
    "bootstrap_results_both = pd.DataFrame()\n",
    "pool = Pool(10)\n",
    "\n",
    "for tmp in tqdm(pool.imap_unordered(\n",
    "    func=run_bootstrap_honesty_misinfo, \n",
    "    iterable=[\"all\"] * N_bootstrap), \n",
    "    total=N_bootstrap):\n",
    "        bootstrap_results_both = pd.concat([bootstrap_results_both, tmp])\n",
    "bootstrap_results_both = bootstrap_results_both.reset_index(drop=True)\n",
    "bootstrap_results_both.to_csv(join(dst, fname + \".csv\"), index=False)\n",
    "pool.close()"
   ]
  },
  {
   "cell_type": "code",
   "execution_count": 16,
   "id": "8b660aea-6aaa-4ef8-ac64-8a6e206e50aa",
   "metadata": {},
   "outputs": [
    {
     "name": "stderr",
     "output_type": "stream",
     "text": [
      "100%|██████████████████████████████████████████████████████████████████████████████████████████████████████████████████████████████████████████████████████████████████████████| 1000/1000 [03:20<00:00,  4.98it/s]\n"
     ]
    }
   ],
   "source": [
    "fname = \"misinfo_label_and_honesty_component_dem\"\n",
    "bootstrap_result_dem = pd.DataFrame()\n",
    "pool = Pool(10)\n",
    "\n",
    "for tmp in tqdm(pool.imap_unordered(\n",
    "    func=run_bootstrap_honesty_misinfo, \n",
    "    iterable=[\"democrat\"] * N_bootstrap), \n",
    "    total=N_bootstrap):\n",
    "        bootstrap_result_dem = pd.concat([bootstrap_result_dem, tmp])\n",
    "bootstrap_result_dem = bootstrap_result_dem.reset_index(drop=True)\n",
    "bootstrap_result_dem.to_csv(join(dst, fname + \".csv\"), index=False)\n",
    "pool.close()"
   ]
  },
  {
   "cell_type": "code",
   "execution_count": 17,
   "id": "28795a6b-59aa-4563-967e-55e99246243b",
   "metadata": {},
   "outputs": [
    {
     "name": "stderr",
     "output_type": "stream",
     "text": [
      "100%|██████████████████████████████████████████████████████████████████████████████████████████████████████████████████████████████████████████████████████████████████████████| 1000/1000 [02:19<00:00,  7.18it/s]\n"
     ]
    }
   ],
   "source": [
    "fname = \"misinfo_label_and_honesty_component_rep\"\n",
    "bootstrap_result_rep = pd.DataFrame()\n",
    "pool = Pool(10)\n",
    "\n",
    "for tmp in tqdm(pool.imap_unordered(\n",
    "    func=run_bootstrap_honesty_misinfo, \n",
    "    iterable=[\"republican\"] * N_bootstrap), \n",
    "    total=N_bootstrap):\n",
    "        bootstrap_result_rep = pd.concat([bootstrap_result_rep, tmp])\n",
    "bootstrap_result_rep = bootstrap_result_rep.reset_index(drop=True)\n",
    "bootstrap_result_rep.to_csv(join(dst, fname + \".csv\"), index=False)\n",
    "pool.close()"
   ]
  },
  {
   "cell_type": "markdown",
   "id": "fc80c5a3-f48a-4e1c-a55a-d5b6721bbc4d",
   "metadata": {},
   "source": [
    "## Honesty share"
   ]
  },
  {
   "cell_type": "code",
   "execution_count": 36,
   "id": "58ab659e-e3e4-46dc-80bc-025837d23ee2",
   "metadata": {},
   "outputs": [],
   "source": [
    "def run_bootstrap_user_honesty_share(i):\n",
    "    bootstrap_honesty = pd.DataFrame()\n",
    "    user_sample = users.sample(frac=1, replace=True)\n",
    "    \n",
    "    for col in [\"fishy_share_60\", \"fishy_share_40\", \"fishy_share_20\",\n",
    "                \"C_0_share\", \"C_1_share\", \"C_2_share\",\n",
    "                \"C_3_share\", \"C_4_share\", \"C_5_share\", \"C_6_share\",\n",
    "                \"C_7_share\", \"C_8_share\"]:\n",
    "        \n",
    "        corr_belief = user_sample[[\"belief_share\", col]].corr()\\\n",
    "            .loc[\"belief_share\", col]\n",
    "        corr_truth = user_sample[[\"truth_share\", col]].corr()\\\n",
    "            .loc[\"truth_share\", col]\n",
    "        corr_neutral = user_sample[[\"neutral_share\", col]].corr()\\\n",
    "            .loc[\"neutral_share\", col] \n",
    "\n",
    "        sparman_corr_belief, spearman_pval_belief = \\\n",
    "            spearmanr(user_sample[\"belief_share\"], user_sample[col])\n",
    "        sparman_corr_truth, spearman_pval_truth = \\\n",
    "            spearmanr(user_sample[\"truth_share\"], user_sample[col])\n",
    "        sparman_corr_neutral, spearman_pval_neutral = \\\n",
    "            spearmanr(user_sample[\"neutral_share\"], user_sample[col])\n",
    "\n",
    "        for corr, comp in zip([corr_belief, corr_truth, corr_neutral],\n",
    "                              [\"belief\", \"truth\", \"neutral\"]):\n",
    "            bootstrap_honesty = pd.concat([bootstrap_honesty, pd.DataFrame({\n",
    "                \"val\":[corr],\n",
    "                \"val_type\":[\"pearson_correlation\"],\n",
    "                \"component\":[comp],\n",
    "                \"misinfo_type\":[col]\n",
    "            })])\n",
    "\n",
    "        for corr, comp in zip([sparman_corr_belief, sparman_corr_truth, sparman_corr_neutral],\n",
    "                              [\"belief\", \"truth\", \"neutral\"]):\n",
    "            bootstrap_honesty = pd.concat([bootstrap_honesty, pd.DataFrame({\n",
    "                \"val\":[corr],\n",
    "                \"val_type\":[\"spearman_correlation\"],\n",
    "                \"component\":[comp],\n",
    "                \"misinfo_type\":[col]\n",
    "            })])\n",
    "\n",
    "        for pval, comp in zip([spearman_pval_belief, spearman_pval_truth, spearman_pval_neutral],\n",
    "                              [\"belief\", \"truth\", \"neutral\"]):\n",
    "            bootstrap_honesty = pd.concat([bootstrap_honesty, pd.DataFrame({\n",
    "                \"val\":[pval],\n",
    "                \"val_type\":[\"spearman_pval\"],\n",
    "                \"component\":[comp],\n",
    "                \"misinfo_type\":[col]\n",
    "            })])\n",
    "    return bootstrap_honesty"
   ]
  },
  {
   "cell_type": "code",
   "execution_count": 37,
   "id": "6a495313-4a12-4ef3-a398-56220c892572",
   "metadata": {},
   "outputs": [
    {
     "name": "stderr",
     "output_type": "stream",
     "text": [
      "100%|███████████████████████████████████████████████████████████████████████████████████████████████████████████████████████████████████████████████████████████████████████████████████████████████████████████████████████████████████████████████| 10000/10000 [03:47<00:00, 44.03it/s]\n"
     ]
    }
   ],
   "source": [
    "fname = \"user_honesty_share\"\n",
    "N_bootstrap = 10000\n",
    "pool = Pool(10)\n",
    "bootstrap_honesty = pd.DataFrame()\n",
    "for tmp in tqdm(pool.imap_unordered(\n",
    "    func=run_bootstrap_user_honesty_share, \n",
    "    iterable = range(N_bootstrap)), \n",
    "    total = N_bootstrap):\n",
    "        bootstrap_honesty = pd.concat([bootstrap_honesty, tmp])\n",
    "bootstrap_honesty = bootstrap_honesty.reset_index(drop=True)\n",
    "bootstrap_honesty.to_csv(join(dst, fname + \".csv\"), index=False)\n",
    "pool.close()"
   ]
  },
  {
   "cell_type": "markdown",
   "id": "aee041a6-5497-4dff-b4ce-c25bad90cecd",
   "metadata": {},
   "source": [
    "## Log honesty share"
   ]
  },
  {
   "cell_type": "code",
   "execution_count": 38,
   "id": "ed355214-b842-4149-a23d-1d05de805e15",
   "metadata": {},
   "outputs": [],
   "source": [
    "def run_bootstrap_user_honesty_share_log(i):\n",
    "    bootstrap_honesty_log = pd.DataFrame()\n",
    "    user_sample = users.sample(frac=1, replace=True).copy()\n",
    "    user_sample[\"belief_share\"] = np.log(user_sample[\"belief_share\"] + 0.01)\n",
    "    user_sample[\"truth_share\"] = np.log(user_sample[\"truth_share\"] + 0.01)\n",
    "    \n",
    "    for col in [\"fishy_share_60\", \"fishy_share_40\", \"fishy_share_20\",\n",
    "                \"C_0_share\", \"C_1_share\", \"C_2_share\",\n",
    "                \"C_3_share\", \"C_4_share\", \"C_5_share\", \"C_6_share\",\n",
    "                \"C_7_share\", \"C_8_share\"]:\n",
    "        corr_belief = user_sample[[\"belief_share\", col]].corr()\\\n",
    "            .loc[\"belief_share\", col]\n",
    "        corr_truth = user_sample[[\"truth_share\", col]].corr()\\\n",
    "            .loc[\"truth_share\", col]\n",
    "        corr_neutral = user_sample[[\"neutral_share\", col]].corr()\\\n",
    "            .loc[\"neutral_share\", col] \n",
    "\n",
    "        sparman_corr_belief, spearman_pval_belief = \\\n",
    "            spearmanr(user_sample[\"belief_share\"], user_sample[col])\n",
    "        sparman_corr_truth, spearman_pval_truth = \\\n",
    "            spearmanr(user_sample[\"truth_share\"], user_sample[col])\n",
    "        sparman_corr_neutral, spearman_pval_neutral = \\\n",
    "            spearmanr(user_sample[\"neutral_share\"], user_sample[col])\n",
    "\n",
    "        for corr, comp in zip([corr_belief, corr_truth, corr_neutral],\n",
    "                              [\"belief\", \"truth\", \"neutral\"]):\n",
    "            bootstrap_honesty_log = pd.concat([bootstrap_honesty_log, pd.DataFrame({\n",
    "                \"val\":[corr],\n",
    "                \"val_type\":[\"pearson_correlation\"],\n",
    "                \"component\":[comp],\n",
    "                \"misinfo_type\":[col]\n",
    "            })])\n",
    "\n",
    "        for corr, comp in zip([sparman_corr_belief, sparman_corr_truth, sparman_corr_neutral],\n",
    "                              [\"belief\", \"truth\", \"neutral\"]):\n",
    "            bootstrap_honesty_log = pd.concat([bootstrap_honesty_log, pd.DataFrame({\n",
    "                \"val\":[corr],\n",
    "                \"val_type\":[\"spearman_correlation\"],\n",
    "                \"component\":[comp],\n",
    "                \"misinfo_type\":[col]\n",
    "            })])\n",
    "\n",
    "        for pval, comp in zip([spearman_pval_belief, spearman_pval_truth, spearman_pval_neutral],\n",
    "                              [\"belief\", \"truth\", \"neutral\"]):\n",
    "            bootstrap_honesty_log = pd.concat([bootstrap_honesty_log, pd.DataFrame({\n",
    "                \"val\":[pval],\n",
    "                \"val_type\":[\"spearman_pval\"],\n",
    "                \"component\":[comp],\n",
    "                \"misinfo_type\":[col]\n",
    "            })])\n",
    "        \n",
    "    return bootstrap_honesty_log"
   ]
  },
  {
   "cell_type": "code",
   "execution_count": null,
   "id": "d7386364-da3c-40cd-89f0-22826b80f926",
   "metadata": {},
   "outputs": [],
   "source": [
    "fname = \"user_honesty_share_log\"\n",
    "N_bootstrap = 10000\n",
    "pool = Pool(10)\n",
    "bootstrap_honesty_log = pd.DataFrame()\n",
    "for tmp in tqdm(pool.imap_unordered(\n",
    "    func=run_bootstrap_user_honesty_share_log, \n",
    "    iterable = range(N_bootstrap)), \n",
    "    total = N_bootstrap):\n",
    "        bootstrap_honesty_log = pd.concat([bootstrap_honesty_log, tmp])\n",
    "bootstrap_honesty_log = bootstrap_honesty_log.reset_index(drop=True)\n",
    "bootstrap_honesty_log.to_csv(join(dst, fname + \".csv\"), index=False)\n",
    "pool.close()"
   ]
  },
  {
   "cell_type": "code",
   "execution_count": null,
   "id": "d4471c3e-f35a-4c10-8f47-409e5d33d4d7",
   "metadata": {},
   "outputs": [],
   "source": []
  }
 ],
 "metadata": {
  "kernelspec": {
   "display_name": "Python 3 (ipykernel)",
   "language": "python",
   "name": "python3"
  },
  "language_info": {
   "codemirror_mode": {
    "name": "ipython",
    "version": 3
   },
   "file_extension": ".py",
   "mimetype": "text/x-python",
   "name": "python",
   "nbconvert_exporter": "python",
   "pygments_lexer": "ipython3",
   "version": "3.9.5"
  }
 },
 "nbformat": 4,
 "nbformat_minor": 5
}
