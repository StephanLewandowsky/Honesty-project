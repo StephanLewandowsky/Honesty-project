{
 "cells": [
  {
   "cell_type": "markdown",
   "id": "bced947d-4eba-4a31-b3ce-3d42c9d4820f",
   "metadata": {},
   "source": [
    "# Get ULRs tweeted by US politicians"
   ]
  },
  {
   "cell_type": "code",
   "execution_count": 18,
   "id": "3ef145c6-7725-480b-ab4a-cddc550df5af",
   "metadata": {},
   "outputs": [],
   "source": [
    "import pandas as pd\n",
    "import numpy as np\n",
    "from os.path import join\n",
    "\n",
    "from twitter_functions import extract_domain"
   ]
  },
  {
   "cell_type": "code",
   "execution_count": 2,
   "id": "a04aa25a-9175-4347-8e7c-74783b5a8681",
   "metadata": {},
   "outputs": [],
   "source": [
    "src = \"../../data/twitter\"\n",
    "fname = \"combined_US_politician_twitter_timelines_2010-11-06_to_2021-12-14_clean.csv.gzip\"\n",
    "\n",
    "df = pd.read_csv(join(src, fname),\n",
    "                 compression=\"gzip\",\n",
    "                 usecols=[\"id\", \"author_id\", \"created_at\", \"expanded_urls\"])"
   ]
  },
  {
   "cell_type": "code",
   "execution_count": 4,
   "id": "a56befd5-5c9d-4166-8204-c232c5a6d9ec",
   "metadata": {},
   "outputs": [],
   "source": [
    "df[\"expanded_urls\"] = df[\"expanded_urls\"].fillna(\"[]\")\n",
    "df[\"expanded_urls\"] = df[\"expanded_urls\"].apply(lambda x: eval(x))\n",
    "df[\"has_url\"] = df[\"expanded_urls\"].apply(lambda x: len(x) > 0)\n",
    "df = df[df[\"has_url\"]].drop(columns=[\"has_url\"])"
   ]
  },
  {
   "cell_type": "code",
   "execution_count": 6,
   "id": "67207723-fe59-4fda-bfef-3124e717ea4e",
   "metadata": {},
   "outputs": [],
   "source": [
    "URLs = []\n",
    "for url_list in df[\"expanded_urls\"]:\n",
    "    URLs.extend(url_list)\n",
    "URLs = pd.DataFrame({\"url\":list(set(URLs))})\n",
    "URLs[\"domain\"] = URLs[\"url\"].apply(extract_domain)"
   ]
  },
  {
   "cell_type": "code",
   "execution_count": 7,
   "id": "d56a2022-6014-4c55-bea1-fa9fd24b5674",
   "metadata": {},
   "outputs": [],
   "source": [
    "# shorteners from this repo: https://github.com/boutetnico/url-shorteners\n",
    "# NOTE: update list periodically\n",
    "shortener_dst = \"../../../../utilities/url_shorteners/url-shorteners\"\n",
    "url_shorteners = list(np.loadtxt(join(shortener_dst, \"list.txt\"), dtype=str))\n",
    "\n",
    "# add URL shorteners based on manual inspections of all URLs that appeared >100\n",
    "# times in the dataset\n",
    "url_shorteners.extend([\n",
    "    \"fb.me\", \"buff.ly\", \"nyti.ms\", \"wapo.st\", \"youtu.be\", \"1.usa.gov\", \"fxn.ws\",\n",
    "    \"on.fb.me\", \"politi.co\", \"trib.al\", \"washex.am\", \"hill.cm\", \"cnb.cx\",\n",
    "    \"hubs.ly\", \"cs.pn\",\"n.pr\", \"conta.cc\", \"mi.tt\", \"usat.ly\", \"abcn.ws\",\n",
    "    \"reut.rs\", \"cbsn.ws\", \"huff.to\", \"instagr.am\", \"bloom.bg\", \"fw.to\", \n",
    "    \"ift.tt\", \"strib.mn\", \"lat.ms\", \"afs.mn\", \"dpo.st\", \"mailchi.mp\",\n",
    "    \"dailysign.al\", \"tmblr.co\", \"rub.io\", \"yhoo.it\", \"omny.fm\", \"chrl.ie\",\n",
    "    \"tulsi.to\", \"apne.ws\", \"hrc.io\", \"ed.gr\", \"ti.me\", \"herit.ag\", \"indy.st\",\n",
    "    \"ofa.bo\", \"trib.in\", \"azc.cc\", \"bsun.md\", \"wjcf.co\", \"bityl.co\", \"go.shr.lc\"\n",
    "])"
   ]
  },
  {
   "cell_type": "code",
   "execution_count": 8,
   "id": "6d6eaa13-3ba9-42fd-b5ef-d1e7998abaf5",
   "metadata": {},
   "outputs": [],
   "source": [
    "shortened_urls = URLs[URLs[\"domain\"].isin(url_shorteners)]\n",
    "unshortened_urls = URLs[~URLs[\"domain\"].isin(url_shorteners)]\n",
    "shortened_urls[\"url\"].to_csv(\"url_list.csv.gzip\", compression=\"gzip\", index=False)"
   ]
  }
 ],
 "metadata": {
  "kernelspec": {
   "display_name": "Python 3 (ipykernel)",
   "language": "python",
   "name": "python3"
  },
  "language_info": {
   "codemirror_mode": {
    "name": "ipython",
    "version": 3
   },
   "file_extension": ".py",
   "mimetype": "text/x-python",
   "name": "python",
   "nbconvert_exporter": "python",
   "pygments_lexer": "ipython3",
   "version": "3.9.7"
  }
 },
 "nbformat": 4,
 "nbformat_minor": 5
}
