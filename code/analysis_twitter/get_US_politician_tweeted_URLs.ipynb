{
 "cells": [
  {
   "cell_type": "markdown",
   "id": "bced947d-4eba-4a31-b3ce-3d42c9d4820f",
   "metadata": {},
   "source": [
    "# Get ULRs tweeted by US politicians"
   ]
  },
  {
   "cell_type": "code",
   "execution_count": 1,
   "id": "3ef145c6-7725-480b-ab4a-cddc550df5af",
   "metadata": {},
   "outputs": [],
   "source": [
    "import pandas as pd\n",
    "import numpy as np\n",
    "from os.path import join\n",
    "from os import listdir\n",
    "\n",
    "import sys\n",
    "sys.path.append('../../../../utilities/twitter_functions')\n",
    "from twitter_functions import extract_domain"
   ]
  },
  {
   "cell_type": "markdown",
   "id": "d76325ae-c262-43a1-8b93-ce545e1ed384",
   "metadata": {},
   "source": [
    "## Extract shortened URLs"
   ]
  },
  {
   "cell_type": "code",
   "execution_count": 48,
   "id": "a04aa25a-9175-4347-8e7c-74783b5a8681",
   "metadata": {},
   "outputs": [],
   "source": [
    "src = \"../../data/twitter\"\n",
    "fname = \"combined_US_politician_twitter_timelines_2010-11-06_to_2021-12-14_clean.csv.gzip\"\n",
    "\n",
    "df = pd.read_csv(join(src, fname),\n",
    "                 compression=\"gzip\",\n",
    "                 usecols=[\"id\", \"author_id\", \"created_at\", \"expanded_urls\"])"
   ]
  },
  {
   "cell_type": "code",
   "execution_count": 49,
   "id": "a56befd5-5c9d-4166-8204-c232c5a6d9ec",
   "metadata": {},
   "outputs": [],
   "source": [
    "df[\"expanded_urls\"] = df[\"expanded_urls\"].fillna(\"[]\")\n",
    "df[\"expanded_urls\"] = df[\"expanded_urls\"].apply(lambda x: eval(x))\n",
    "df[\"has_url\"] = df[\"expanded_urls\"].apply(lambda x: len(x) > 0)\n",
    "df = df[df[\"has_url\"]].drop(columns=[\"has_url\"])"
   ]
  },
  {
   "cell_type": "code",
   "execution_count": 50,
   "id": "67207723-fe59-4fda-bfef-3124e717ea4e",
   "metadata": {},
   "outputs": [],
   "source": [
    "URLs = []\n",
    "for url_list in df[\"expanded_urls\"]:\n",
    "    URLs.extend(url_list)\n",
    "URLs = pd.DataFrame({\"url\":list(set(URLs))})\n",
    "URLs[\"domain\"] = URLs[\"url\"].apply(extract_domain)"
   ]
  },
  {
   "cell_type": "code",
   "execution_count": 51,
   "id": "d56a2022-6014-4c55-bea1-fa9fd24b5674",
   "metadata": {},
   "outputs": [],
   "source": [
    "# shorteners from this repo: https://github.com/boutetnico/url-shorteners\n",
    "# NOTE: update list periodically\n",
    "shortener_dst = \"../../../../utilities/url_shorteners/url-shorteners\"\n",
    "url_shorteners = list(np.loadtxt(join(shortener_dst, \"list.txt\"), dtype=str))\n",
    "\n",
    "# add URL shorteners based on manual inspections of all URLs that appeared >100\n",
    "# times in the dataset\n",
    "url_shorteners.extend([\n",
    "    \"fb.me\", \"buff.ly\", \"nyti.ms\", \"wapo.st\", \"youtu.be\", \"1.usa.gov\", \"fxn.ws\",\n",
    "    \"on.fb.me\", \"politi.co\", \"trib.al\", \"washex.am\", \"hill.cm\", \"cnb.cx\",\n",
    "    \"hubs.ly\", \"cs.pn\",\"n.pr\", \"conta.cc\", \"mi.tt\", \"usat.ly\", \"abcn.ws\",\n",
    "    \"reut.rs\", \"cbsn.ws\", \"huff.to\", \"instagr.am\", \"bloom.bg\", \"fw.to\", \n",
    "    \"ift.tt\", \"strib.mn\", \"lat.ms\", \"afs.mn\", \"dpo.st\", \"mailchi.mp\",\n",
    "    \"dailysign.al\", \"tmblr.co\", \"rub.io\", \"yhoo.it\", \"omny.fm\", \"chrl.ie\",\n",
    "    \"tulsi.to\", \"apne.ws\", \"hrc.io\", \"ed.gr\", \"ti.me\", \"herit.ag\", \"indy.st\",\n",
    "    \"ofa.bo\", \"trib.in\", \"azc.cc\", \"bsun.md\", \"wjcf.co\", \"bityl.co\", \"go.shr.lc\"\n",
    "])"
   ]
  },
  {
   "cell_type": "code",
   "execution_count": 52,
   "id": "6d6eaa13-3ba9-42fd-b5ef-d1e7998abaf5",
   "metadata": {},
   "outputs": [],
   "source": [
    "shortened_urls = URLs[URLs[\"domain\"].isin(url_shorteners)]\n",
    "unshortened_urls = URLs[~URLs[\"domain\"].isin(url_shorteners)]\n",
    "shortened_urls[\"url\"].to_csv(\"url_list.csv.gzip\", compression=\"gzip\", index=False)"
   ]
  },
  {
   "cell_type": "code",
   "execution_count": 53,
   "id": "c273e64f-3fa0-4df6-a465-3f97ba2998e7",
   "metadata": {},
   "outputs": [],
   "source": [
    "shortened_urls[\"url\"][1204 * 100:].to_csv(\"url_list2.csv.gzip\", compression=\"gzip\", index=False)"
   ]
  },
  {
   "cell_type": "markdown",
   "id": "4bc780a5-f6ae-429f-b51c-da2293d37d2d",
   "metadata": {},
   "source": [
    "## Load unraveled URLs"
   ]
  },
  {
   "cell_type": "markdown",
   "id": "79a93d62-bc13-4018-96e4-b456a01942d2",
   "metadata": {},
   "source": [
    "Unraveling is done with the `unrael_url` utility on the server."
   ]
  },
  {
   "cell_type": "code",
   "execution_count": 63,
   "id": "3bdfbd07-1dfd-41b4-a431-643c5f8866fb",
   "metadata": {},
   "outputs": [
    {
     "name": "stdout",
     "output_type": "stream",
     "text": [
      "receiving incremental file list\n",
      "\n",
      "sent 20 bytes  received 31,364 bytes  20,922.67 bytes/sec\n",
      "total size is 6,362,451  speedup is 202.73\n"
     ]
    }
   ],
   "source": [
    "! rsync -avze ssh jlasser@medea:/home/jlasser/Honesty-project/data/twitter/unraveled_urls/ ../../data/twitter/unraveled_urls/"
   ]
  },
  {
   "cell_type": "code",
   "execution_count": null,
   "id": "dc5cafdc-122a-497c-bc0e-76bba1084e62",
   "metadata": {},
   "outputs": [],
   "source": [
    "! rsync -avze ssh jlasser@medea:/home/jlasser/Honesty-project/data/twitter/unraveled_urls2/ ../../data/twitter/unraveled_urls2/"
   ]
  },
  {
   "cell_type": "code",
   "execution_count": 85,
   "id": "8fdf3090-5f67-4a30-b15c-eae4d841e801",
   "metadata": {},
   "outputs": [],
   "source": [
    "src = '../../data/twitter/unraveled_urls'\n",
    "\n",
    "files = listdir(src)\n",
    "unraveled_urls = pd.DataFrame()\n",
    "for f in files:\n",
    "    tmp = pd.read_csv(join(src, f), compression=\"gzip\")\n",
    "    unraveled_urls = pd.concat([unraveled_urls, tmp])"
   ]
  },
  {
   "cell_type": "code",
   "execution_count": 86,
   "id": "c9c5fdf4-fbae-4ead-b0b3-d67a58fff063",
   "metadata": {},
   "outputs": [],
   "source": [
    "# note: unravelling crashed once because of a malformatted string and had to\n",
    "# be started again, to unravel the remaining urls in a separate folder\n",
    "src = '../../data/twitter/unraveled_urls2'\n",
    "\n",
    "files = listdir(src)\n",
    "for f in files:\n",
    "    tmp = pd.read_csv(join(src, f), compression=\"gzip\")\n",
    "    unraveled_urls = pd.concat([unraveled_urls, tmp])\n",
    "unraveled_urls = unraveled_urls.reset_index(drop=True)"
   ]
  },
  {
   "cell_type": "markdown",
   "id": "5f2c6617-e46a-4ba3-897b-eede0f7ef702",
   "metadata": {},
   "source": [
    "## Add hosts from timeouts"
   ]
  },
  {
   "cell_type": "code",
   "execution_count": 87,
   "id": "fe0d1f01-a809-40a6-9159-63ae173ee366",
   "metadata": {},
   "outputs": [
    {
     "name": "stdout",
     "output_type": "stream",
     "text": [
      "15114 timeouts (10.26%)\n"
     ]
    }
   ],
   "source": [
    "timeouts = len(unraveled_urls) - len(unraveled_urls[\"status_code\"].dropna())\n",
    "print(\"{} timeouts ({:1.2f}%)\".format(\\\n",
    "        timeouts,\n",
    "        (timeouts / len(unraveled_urls[\"status_code\"].dropna()) * 100)))"
   ]
  },
  {
   "cell_type": "code",
   "execution_count": 88,
   "id": "30a790e9-dc38-4fca-979e-8900f7db1fd0",
   "metadata": {},
   "outputs": [],
   "source": [
    "def extract_host(unraveled_url):\n",
    "    if unraveled_url == unraveled_url and unraveled_url.startswith(\"Cannot\"):\n",
    "        host = unraveled_url.split(\" \")[4].split(\":\")[0]\n",
    "        return host\n",
    "    else:\n",
    "        return unraveled_url"
   ]
  },
  {
   "cell_type": "code",
   "execution_count": 89,
   "id": "4898b983-1159-4c5a-a9e5-5cabe245af8c",
   "metadata": {},
   "outputs": [],
   "source": [
    "unraveled_urls[\"unraveled_url\"] = unraveled_urls[\"unraveled_url\"].apply(extract_host)"
   ]
  },
  {
   "cell_type": "code",
   "execution_count": 90,
   "id": "d91bac94-7997-497a-947c-727432388130",
   "metadata": {},
   "outputs": [],
   "source": [
    "dst = '../../data/twitter'\n",
    "unraveled_urls.to_csv(join(dst, \"unraveled_urls.csv.xz\"), index=False,\n",
    "                      compression=\"xz\")"
   ]
  }
 ],
 "metadata": {
  "kernelspec": {
   "display_name": "Python 3 (ipykernel)",
   "language": "python",
   "name": "python3"
  },
  "language_info": {
   "codemirror_mode": {
    "name": "ipython",
    "version": 3
   },
   "file_extension": ".py",
   "mimetype": "text/x-python",
   "name": "python",
   "nbconvert_exporter": "python",
   "pygments_lexer": "ipython3",
   "version": "3.9.7"
  }
 },
 "nbformat": 4,
 "nbformat_minor": 5
}
