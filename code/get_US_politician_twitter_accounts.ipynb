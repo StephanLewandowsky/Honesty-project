{
 "cells": [
  {
   "cell_type": "code",
   "execution_count": 1,
   "id": "39c02718-dc2b-4ca6-8bee-59f46413633c",
   "metadata": {},
   "outputs": [],
   "source": [
    "import pandas as pd\n",
    "import numpy as np\n",
    "from os.path import join"
   ]
  },
  {
   "cell_type": "code",
   "execution_count": 2,
   "id": "95aaed50-e29a-4af5-b807-babad7bd044e",
   "metadata": {},
   "outputs": [],
   "source": [
    "dst = \"../data/twitter/US_politician_twitter_accounts\""
   ]
  },
  {
   "cell_type": "markdown",
   "id": "c6933b8f-d351-4f52-9753-d0d33b6a8b38",
   "metadata": {},
   "source": [
    "# Download data"
   ]
  },
  {
   "cell_type": "code",
   "execution_count": 3,
   "id": "d7c89a5c-bc1b-4391-81e9-646f2502f850",
   "metadata": {},
   "outputs": [],
   "source": [
    "# 114th congress (only senators!)\n",
    "url = \"https://www.socialseer.com/resources/us-senator-twitter-accounts-114th-congress-historical/\"\n",
    "df = pd.read_html(url)[0]\n",
    "df.columns = df.loc[0]\n",
    "df = df.drop(0)\n",
    "df[\"congress\"] = 114\n",
    "df.to_csv(join(dst, \"raw\", \"114_congress.csv\"), index=False)"
   ]
  },
  {
   "cell_type": "code",
   "execution_count": 4,
   "id": "8d893fd9-1473-4f54-97ab-aad48c508724",
   "metadata": {},
   "outputs": [],
   "source": [
    "# 115th congress (only senators!)\n",
    "url = \"https://www.socialseer.com/resources/us-senator-twitter-accounts/\"\n",
    "df = pd.read_html(url)[0]\n",
    "df.columns = df.loc[0]\n",
    "df = df.drop(0)\n",
    "df[\"congress\"] = 115\n",
    "df.to_csv(join(dst, \"raw\", \"115_congress.csv\"), index=False)"
   ]
  },
  {
   "cell_type": "code",
   "execution_count": 5,
   "id": "fa3594c8-6a0b-4a3f-bac2-10b4aabbf1c4",
   "metadata": {},
   "outputs": [],
   "source": [
    "# 116 congress (senate and house) manually downloaded from \n",
    "# https://dataverse.harvard.edu/dataset.xhtml?persistentId=doi:10.7910/DVN/MBOJNS\n",
    "df_house = pd.read_csv(join(dst, \"raw\", \"congress116-house-accounts.csv\"))\n",
    "df_senate = pd.read_csv(join(dst, \"raw\", \"congress116-senate-accounts.csv\"))\n",
    "df_house[\"chamber\"] = \"house\"\n",
    "df_senate[\"chamber\"] = \"senate\"\n",
    "df = pd.concat([df_house, df_senate])\n",
    "df[\"congress\"] = 116\n",
    "df.to_csv(join(dst, \"raw\", \"116_congress.csv\"), index=False)"
   ]
  },
  {
   "cell_type": "code",
   "execution_count": 6,
   "id": "b7d58922-2152-42cd-9cdf-fecd4550f8c9",
   "metadata": {},
   "outputs": [],
   "source": [
    "# 117th congress (senate and house)\n",
    "url = \"https://triagecancer.org/congressional-social-media\"\n",
    "df = pd.read_html(url)[0]\n",
    "df[\"congress\"] = 117\n",
    "df.to_csv(join(dst, \"raw\", \"117_congress.csv\"), index=False)"
   ]
  },
  {
   "cell_type": "markdown",
   "id": "0b3d7661-6b7e-468c-88a9-5943b41c23df",
   "metadata": {},
   "source": [
    "# Clean and merge data"
   ]
  },
  {
   "cell_type": "code",
   "execution_count": 8,
   "id": "0f619133-7bca-434c-a3d2-812e5697e747",
   "metadata": {},
   "outputs": [],
   "source": [
    "df_114 = pd.read_csv(join(dst, \"raw\", \"114_congress.csv\"), \n",
    "                     usecols = [\"Official Senator Twitter ID\",\n",
    "                                \"Senate Staff Twitter Id\",\n",
    "                                \"Campaign/Other ID\", \n",
    "                                \"congress\"])\n",
    "df_115 = pd.read_csv(join(dst, \"raw\", \"115_congress.csv\"),\n",
    "                    usecols = [\"Official Twitter\", \n",
    "                               \"Staff Twitter\",\n",
    "                               \"Campaign Twitter\",\n",
    "                               \"congress\"])\n",
    "df_116 = pd.read_csv(join(dst, \"raw\", \"116_congress.csv\"),\n",
    "                    usecols=[\"Token\", \"congress\"])\n",
    "df_117 = pd.read_csv(join(dst, \"raw\", \"117_congress.csv\"),\n",
    "                    usecols=[\"Twitter\", \"congress\"])"
   ]
  },
  {
   "cell_type": "code",
   "execution_count": 9,
   "id": "1b4aca4a-7289-4bbb-8be3-30bb0837a951",
   "metadata": {},
   "outputs": [],
   "source": [
    "df_114 = df_114.rename(columns={\"Official Senator Twitter ID\":\"official\",\n",
    "                                \"Senate Staff Twitter Id\":\"staff\",\n",
    "                                \"Campaign/Other ID\":\"campaign\"})\n",
    "df_114 = pd.melt(df_114, value_vars=[\"official\", \"staff\", \"campaign\"], \n",
    "        id_vars=[\"congress\"], var_name=\"type\", value_name=\"handle\")\n",
    "\n",
    "df_115 = df_115.rename(columns={\"Official Twitter\":\"official\",\n",
    "                                \"Staff Twitter\":\"staff\",\n",
    "                                \"Campaign Twitter\":\"campaign\"})\n",
    "df_115 = pd.melt(df_115, value_vars=[\"official\", \"staff\", \"campaign\"], \n",
    "        id_vars=[\"congress\"], var_name=\"type\", value_name=\"handle\")\n",
    "\n",
    "df_116 = df_116.rename(columns={\"Token\":\"handle\"})\n",
    "df_116[\"type\"] = \"official\"\n",
    "df_117 = df_117.rename(columns={\"Twitter\":\"handle\"})\n",
    "df_117[\"type\"] = \"official\""
   ]
  },
  {
   "cell_type": "code",
   "execution_count": 10,
   "id": "45d3a1b8-3030-43b9-80aa-6d9d5cfb3837",
   "metadata": {},
   "outputs": [
    {
     "name": "stdout",
     "output_type": "stream",
     "text": [
      "197 handles found for 114th congress\n",
      "202 handles found for 115th congress\n",
      "944 handles found for 116th congress\n",
      "538 handles found for 117th congress\n"
     ]
    }
   ],
   "source": [
    "print(f\"{len(df_114.dropna())} handles found for 114th congress\")\n",
    "print(f\"{len(df_115.dropna())} handles found for 115th congress\")\n",
    "print(f\"{len(df_116.dropna())} handles found for 116th congress\")\n",
    "print(f\"{len(df_117.dropna())} handles found for 117th congress\")"
   ]
  },
  {
   "cell_type": "code",
   "execution_count": 11,
   "id": "20a5eb7e-7079-4dc9-9cd5-5d8d597d9ade",
   "metadata": {},
   "outputs": [],
   "source": [
    "df = pd.concat([df_114, df_115, df_116, df_117])\n",
    "df = df.dropna()\n",
    "df[\"handle\"] = df[\"handle\"].apply(lambda x: x.replace(\"@\", \"\"))"
   ]
  },
  {
   "cell_type": "code",
   "execution_count": 12,
   "id": "bcb43731-01f6-409d-9b6b-1319044cf856",
   "metadata": {},
   "outputs": [
    {
     "name": "stdout",
     "output_type": "stream",
     "text": [
      "found a total of 1881 handles\n",
      "found a total of 1143 unique handles\n"
     ]
    }
   ],
   "source": [
    "print(f\"found a total of {len(df)} handles\")\n",
    "print(f\"found a total of {len(df.handle.unique())} unique handles\")"
   ]
  },
  {
   "cell_type": "code",
   "execution_count": 13,
   "id": "1ec7c5ea-b3d1-4688-a063-8e70a54df3c2",
   "metadata": {},
   "outputs": [],
   "source": [
    "df.to_csv(join(dst, \"clean\", \"congress-member-twitter-handles_114-117.csv\"), index=False)\n",
    "df[[\"handle\"]]\\\n",
    "    .drop_duplicates()\\\n",
    "    .to_csv(join(dst, \"clean\", \"congress-member-unique-twitter-handles_114-117.csv\"), index=False)"
   ]
  }
 ],
 "metadata": {
  "kernelspec": {
   "display_name": "Python 3",
   "language": "python",
   "name": "python3"
  },
  "language_info": {
   "codemirror_mode": {
    "name": "ipython",
    "version": 3
   },
   "file_extension": ".py",
   "mimetype": "text/x-python",
   "name": "python",
   "nbconvert_exporter": "python",
   "pygments_lexer": "ipython3",
   "version": "3.9.5"
  }
 },
 "nbformat": 4,
 "nbformat_minor": 5
}
