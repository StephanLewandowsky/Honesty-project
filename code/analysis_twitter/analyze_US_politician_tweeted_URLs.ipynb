{
 "cells": [
  {
   "cell_type": "markdown",
   "id": "091cf97f-62cd-4ed7-8771-2c665fa69d3d",
   "metadata": {},
   "source": [
    "# Analyze ULRs tweeted by US politicians"
   ]
  },
  {
   "cell_type": "code",
   "execution_count": 280,
   "id": "bfbf0e0d-2eb5-4664-8904-40b8bc1a8bb2",
   "metadata": {},
   "outputs": [],
   "source": [
    "import pandas as pd\n",
    "import numpy as np\n",
    "from os.path import join\n",
    "from os import listdir\n",
    "import matplotlib.pyplot as plt\n",
    "from scipy.stats import ttest_ind\n",
    "import itertools\n",
    "import seaborn as sns\n",
    "\n",
    "import sys\n",
    "sys.path.append('../../../../utilities/twitter_functions')\n",
    "import twitter_functions as tf"
   ]
  },
  {
   "cell_type": "code",
   "execution_count": 3,
   "id": "ed62b5eb-4455-4b28-b112-4ee0ed00099b",
   "metadata": {},
   "outputs": [],
   "source": [
    "# colors\n",
    "demblue = \"#0015BC\"\n",
    "repred = \"#FF0000\"\n",
    "indgrey = \"#696969\"\n",
    "\n",
    "ax_label_fontsize = 16\n",
    "leg_label_fontsize = 14"
   ]
  },
  {
   "cell_type": "markdown",
   "id": "543ef70f-90a3-4f42-b844-83e8eef29218",
   "metadata": {},
   "source": [
    "## Massage data"
   ]
  },
  {
   "cell_type": "code",
   "execution_count": 107,
   "id": "2051d8bd-3b46-43ab-8bf0-40185d544808",
   "metadata": {},
   "outputs": [
    {
     "name": "stderr",
     "output_type": "stream",
     "text": [
      "/home/jana/anaconda3/envs/nlp/lib/python3.9/site-packages/IPython/core/interactiveshell.py:3444: DtypeWarning: Columns (11) have mixed types.Specify dtype option on import or set low_memory=False.\n",
      "  exec(code_obj, self.user_global_ns, self.user_ns)\n"
     ]
    }
   ],
   "source": [
    "src = \"../../data/twitter\"\n",
    "fname = \"combined_US_politician_twitter_timelines_2010-11-06_to_2022-03-16_clean.csv.gzip\"\n",
    "df = pd.read_csv(join(src, fname),\n",
    "                 compression=\"gzip\",\n",
    "                 usecols=[\"id\", \"author_id\", \"created_at\", \"expanded_urls\",\n",
    "                          \"retweeted\", \"quoted\", \"reply\"])\n",
    "df = df.drop_duplicates(subset=\"id\")"
   ]
  },
  {
   "cell_type": "code",
   "execution_count": 108,
   "id": "25820f64-ef0a-489e-acb7-f722bbd8f0d5",
   "metadata": {},
   "outputs": [],
   "source": [
    "df[\"expanded_urls\"] = df[\"expanded_urls\"].fillna(\"[]\")\n",
    "df[\"expanded_urls\"] = df[\"expanded_urls\"].apply(lambda x: eval(x))\n",
    "df[\"has_url\"] = df[\"expanded_urls\"].apply(lambda x: len(x) > 0)"
   ]
  },
  {
   "cell_type": "code",
   "execution_count": 109,
   "id": "59b41fcd-0624-437f-804a-855d9ef38563",
   "metadata": {},
   "outputs": [],
   "source": [
    "# expand the url lists into individual columns\n",
    "urls = df['expanded_urls']\\\n",
    "    .apply(pd.Series)\\\n",
    "    .reset_index()\\\n",
    "    .melt(id_vars='index')\\\n",
    "    .dropna()[['index', 'value']]\\\n",
    "    .set_index('index')"
   ]
  },
  {
   "cell_type": "code",
   "execution_count": 110,
   "id": "bf3a4743-8b3a-4520-9a52-8442fd56142f",
   "metadata": {},
   "outputs": [],
   "source": [
    "urls = pd.merge(\n",
    "    urls,\n",
    "    df[['id']],\n",
    "    left_index=True,\n",
    "    right_index=True).rename(columns={'value_x': 'expanded_urls'})\n",
    "\n",
    "df = pd.merge(df, urls, left_on=\"id\", right_on=\"id\", how=\"left\")\n",
    "\n",
    "df[\"N_urls\"] = df[\"expanded_urls\"].apply(lambda x: len(x))\n",
    "df = df.rename(columns={\"value\":\"url\"})\n",
    "\n",
    "df.to_csv(join(src, \"combined_US_politician_twitter_timelines_2010-11-06_to_2021-03-16_clean_urls.csv.xz\"),\n",
    "          compression=\"xz\", index=False)"
   ]
  },
  {
   "cell_type": "markdown",
   "id": "88cf1dbd-ca5b-4261-b003-dd794507d2e2",
   "metadata": {},
   "source": [
    "## Import unraveled URLs"
   ]
  },
  {
   "cell_type": "markdown",
   "id": "3535fffd-1e4d-417a-a705-7334678fa3b4",
   "metadata": {},
   "source": [
    "Note: run the following to unravel a list of URLs:  \n",
    "`python ../../../utilities/unravel_urls/unravel_urls.py url_list.csv.gzip -dst unraveled_urls3/ -v 1`"
   ]
  },
  {
   "cell_type": "code",
   "execution_count": 112,
   "id": "ef7de22c-cb59-4fea-9c41-9d6b3f0efd4a",
   "metadata": {},
   "outputs": [],
   "source": [
    "src = \"../../data/twitter\"\n",
    "df = pd.read_csv(join(src, \"combined_US_politician_twitter_timelines_2010-11-06_to_2021-03-16_clean_urls.csv.xz\"),\n",
    "          compression=\"xz\")\n",
    "df[\"id\"] = df[\"id\"].apply(lambda x: x.replace('\"', ''))\n",
    "df[\"author_id\"] = df[\"author_id\"].apply(lambda x: x.replace('\"', ''))"
   ]
  },
  {
   "cell_type": "code",
   "execution_count": 113,
   "id": "d68098bf-df55-4c9a-8c17-c432851a576e",
   "metadata": {},
   "outputs": [],
   "source": [
    "unraveled_urls = pd.read_csv(join(src, \"unraveled_urls.csv.xz\"),\n",
    "                             compression=\"xz\")"
   ]
  },
  {
   "cell_type": "code",
   "execution_count": 114,
   "id": "4d5ddaa5-1ca2-478f-8d19-9b2389968aaf",
   "metadata": {},
   "outputs": [],
   "source": [
    "# split into a table with and a table without URLs\n",
    "no_urls = df[df[\"has_url\"] == False].copy()\n",
    "df = df[df[\"has_url\"] == True]"
   ]
  },
  {
   "cell_type": "code",
   "execution_count": 115,
   "id": "51663730-dc7b-47bb-b268-d67ab106e554",
   "metadata": {},
   "outputs": [],
   "source": [
    "# add URL information\n",
    "df = pd.merge(df, unraveled_urls, left_on=\"url\", right_on=\"url\", how=\"left\")\n",
    "\n",
    "# add indicator of whether the URL was originally shortened\n",
    "df[\"shortened\"] = False\n",
    "df.loc[df[\"unraveled_url\"].dropna().index, \"shortened\"] = True\n",
    "\n",
    "# replace the shortened URL with the unraveled URL\n",
    "df.loc[df[\"unraveled_url\"].dropna().index, \"url\"] = \\\n",
    "    df.loc[df[\"unraveled_url\"].dropna().index, \"unraveled_url\"]\n",
    "df = df.drop(columns=[\"unraveled_url\"])"
   ]
  },
  {
   "cell_type": "code",
   "execution_count": 116,
   "id": "ea600261-5b14-4853-924b-bc48ad826e66",
   "metadata": {
    "tags": []
   },
   "outputs": [
    {
     "name": "stdout",
     "output_type": "stream",
     "text": [
      "found malformed URL https\n",
      "found malformed URL http\n",
      "found malformed URL http\n",
      "found malformed URL http\n",
      "found malformed URL http\n",
      "found malformed URL http\n",
      "found malformed URL http\n",
      "found malformed URL http\n",
      "found malformed URL http\n",
      "found malformed URL http\n",
      "found malformed URL http\n",
      "found malformed URL http\n",
      "found malformed URL http\n",
      "found malformed URL http\n",
      "found malformed URL http\n",
      "found malformed URL http\n",
      "found malformed URL http\n",
      "found malformed URL http\n",
      "found malformed URL http\n",
      "found malformed URL http\n",
      "found malformed URL http\n",
      "found malformed URL http\n"
     ]
    }
   ],
   "source": [
    "# extract the domain from the URL\n",
    "df[\"domain\"] = df[\"url\"].apply(tf.extract_domain)"
   ]
  },
  {
   "cell_type": "markdown",
   "id": "5d799851-f027-48ff-a978-b4e5039a3d3a",
   "metadata": {},
   "source": [
    "## Find fishy domains with newsguard data"
   ]
  },
  {
   "cell_type": "markdown",
   "id": "8f47ad03-3fc0-427f-8690-556665d8b6a3",
   "metadata": {},
   "source": [
    "Newsguard rating cutoff: 60 (see [description](https://www.newsguardtech.com/ratings/rating-process-criteria/))."
   ]
  },
  {
   "cell_type": "code",
   "execution_count": 119,
   "id": "487170f2-258b-43ef-8d3f-8cbd13ee7630",
   "metadata": {},
   "outputs": [],
   "source": [
    "newsguard_score_cutoff = 60\n",
    "newsguard_src = \"../../data/newsguard/newsguard_2022-03/03\"\n",
    "nutrition_labels = pd.read_csv(join(newsguard_src, \"metadata-2022030100.csv\"))\n",
    "\n",
    "nutrition_labels = nutrition_labels\\\n",
    "    .sort_values(by=[\"Domain\", \"Last Updated\"], ascending=False)\n",
    "nutrition_labels = nutrition_labels.drop_duplicates(subset=[\"Domain\"])\n",
    "\n",
    "# threshold scores to create a \"fishy\" label\n",
    "nutrition_labels[\"fishy\"] = 0\n",
    "nutrition_labels[\"fishy_40\"] = 0\n",
    "nutrition_labels[\"fishy_20\"] = 0\n",
    "nutrition_labels.loc[nutrition_labels[nutrition_labels[\"Score\"] < newsguard_score_cutoff].index, \"fishy\"] = 1\n",
    "fishy_domains = set(nutrition_labels[nutrition_labels[\"fishy\"] == 1][\"Domain\"])\n",
    "nutrition_labels.loc[nutrition_labels[nutrition_labels[\"Score\"] < 40].index, \"fishy_40\"] = 1\n",
    "fishy_40_domains = set(nutrition_labels[nutrition_labels[\"fishy_40\"] == 1][\"Domain\"])\n",
    "nutrition_labels.loc[nutrition_labels[nutrition_labels[\"Score\"] < 20].index, \"fishy_20\"] = 1\n",
    "fishy_20_domains = set(nutrition_labels[nutrition_labels[\"fishy_20\"] == 1][\"Domain\"])"
   ]
  },
  {
   "cell_type": "code",
   "execution_count": 122,
   "id": "7c1f53c6-f96e-4b55-b784-03a9a898f9e1",
   "metadata": {},
   "outputs": [],
   "source": [
    "nutrition_cols = [\n",
    "    \"fishy\", \"fishy_40\", \"fishy_20\", \"Domain\",\n",
    "    \"Rating\", \"Score\", \"Country\", \"Language\", \n",
    "    \"Does not repeatedly publish false content\",\n",
    "    \"Gathers and presents information responsibly\",\n",
    "    \"Regularly corrects or clarifies errors\",\n",
    "    \"Handles the difference between news and opinion responsibly\",\n",
    "    \"Avoids deceptive headlines\",\n",
    "    \"Website discloses ownership and financing\",\n",
    "    \"Clearly labels advertising\",\n",
    "    \"Reveals who's in charge, including any possible conflicts of interest\",\n",
    "    \"The site provides names of content creators, along with either contact or biographical information\"\n",
    "]\n",
    "nutrition_categories = {col:f\"C_{i}\" for i, col in enumerate(nutrition_cols[8:])}"
   ]
  },
  {
   "cell_type": "code",
   "execution_count": 124,
   "id": "a2318cc4-3aa3-4b94-9f99-a538f17fb945",
   "metadata": {},
   "outputs": [],
   "source": [
    "nut_cat_dict = {\n",
    "    \"fishy\": \"domains with a NewsGuard\\nscore of < 60\",\n",
    "    \"fishy_40\": \"domains with a NewsGuard\\nscore of < 40\",\n",
    "    \"fishy_20\":\"domains with a NewsGuard\\nscore of < 20\",\n",
    "    \"C_0\":\"repeatedly publishes false information\",\n",
    "    \"C_1\":\"doesn't gather and present\\ninformation responsibly\",\n",
    "    \"C_2\":\"doesn't regularly correct\\nor clarify errors\",\n",
    "    \"C_3\":\"doesn't handle the difference\\nbetween news and opinion responsibly\",\n",
    "    \"C_4\":\"uses deceptive headlines\",\n",
    "    \"C_5\":\"doesn't disclose website\\nownership and financing\",\n",
    "    \"C_6\":\"doesn't label advertising\",\n",
    "    \"C_7\":\"doesn't reveal conflicts\\nof interest and who is in charge\",\n",
    "    \"C_8\":\"doesn't provide names and\\nbios of content creators\"\n",
    "}"
   ]
  },
  {
   "cell_type": "code",
   "execution_count": 125,
   "id": "11cd8960-2a23-4bc5-b224-7853dcef2ae6",
   "metadata": {},
   "outputs": [],
   "source": [
    "# add the nutrition information to the tweets\n",
    "df = pd.merge(df, nutrition_labels[nutrition_cols],\n",
    "         left_on=\"domain\", right_on=\"Domain\", how=\"left\")\n",
    "\n",
    "df = df.rename(columns=nutrition_categories)\n",
    "\n",
    "# clean up the labels\n",
    "for col in nutrition_categories.values():\n",
    "    df[col] = df[col].replace({\"Yes\":0, \"No\":1})"
   ]
  },
  {
   "cell_type": "markdown",
   "id": "3ee94af9-2cf9-42e0-82c6-b42844d65d5d",
   "metadata": {},
   "source": [
    "## Count fishy domains in politician Tweets"
   ]
  },
  {
   "cell_type": "code",
   "execution_count": 126,
   "id": "61625a9f-f30b-49e2-8e22-9c205025c1dd",
   "metadata": {},
   "outputs": [
    {
     "name": "stdout",
     "output_type": "stream",
     "text": [
      "1378/184223 (0.75%) shortened domains are fishy\n",
      "5503/1706510 (0.32%) unshortened domains are fishy\n",
      "184223/1890733 (9.74%) of links are shortened\n"
     ]
    }
   ],
   "source": [
    "N_shortened = len(df[(df[\"shortened\"] == True)])\n",
    "N_shortened_fishy = len(df[(df[\"shortened\"] == True) & (df[\"fishy\"] == 1)])\n",
    "print(\"{}/{} ({:1.2f}%) shortened domains are fishy\"\\\n",
    "      .format(N_shortened_fishy, N_shortened, \n",
    "              (N_shortened_fishy / N_shortened) * 100))\n",
    "\n",
    "N_unshortened = len(df[(df[\"shortened\"] == False)])\n",
    "N_unshortened_fishy = len(df[(df[\"shortened\"] == False) & (df[\"fishy\"] == 1)])\n",
    "print(\"{}/{} ({:1.2f}%) unshortened domains are fishy\"\\\n",
    "      .format(N_unshortened_fishy, N_unshortened, \n",
    "              (N_unshortened_fishy / N_unshortened) * 100))\n",
    "\n",
    "print(\"{}/{} ({:1.2f}%) of links are shortened\"\\\n",
    "      .format(N_shortened, N_shortened + N_unshortened,\n",
    "              (N_shortened / (N_shortened + N_unshortened)) * 100))"
   ]
  },
  {
   "cell_type": "code",
   "execution_count": 127,
   "id": "00176ee6-caba-4b02-86d3-9db38bb7cb23",
   "metadata": {},
   "outputs": [
    {
     "name": "stdout",
     "output_type": "stream",
     "text": [
      "556/184223 (0.30%) shortened domains are fishy (40)\n",
      "2215/1706510 (0.13%) unshortened domains are fishy (40)\n",
      "184223/1890733 (9.74%) of links are shortened\n"
     ]
    }
   ],
   "source": [
    "N_shortened = len(df[(df[\"shortened\"] == True)])\n",
    "N_shortened_fishy = len(df[(df[\"shortened\"] == True) & (df[\"fishy_40\"] == 1)])\n",
    "print(\"{}/{} ({:1.2f}%) shortened domains are fishy (40)\"\\\n",
    "      .format(N_shortened_fishy, N_shortened, \n",
    "              (N_shortened_fishy / N_shortened) * 100))\n",
    "\n",
    "N_unshortened = len(df[(df[\"shortened\"] == False)])\n",
    "N_unshortened_fishy = len(df[(df[\"shortened\"] == False) & (df[\"fishy_40\"] == 1)])\n",
    "print(\"{}/{} ({:1.2f}%) unshortened domains are fishy (40)\"\\\n",
    "      .format(N_unshortened_fishy, N_unshortened, \n",
    "              (N_unshortened_fishy / N_unshortened) * 100))\n",
    "\n",
    "print(\"{}/{} ({:1.2f}%) of links are shortened\"\\\n",
    "      .format(N_shortened, N_shortened + N_unshortened,\n",
    "              (N_shortened / (N_shortened + N_unshortened)) * 100))"
   ]
  },
  {
   "cell_type": "code",
   "execution_count": 128,
   "id": "b777a363-1a23-4c1d-bbd0-30c0e84260ae",
   "metadata": {},
   "outputs": [
    {
     "name": "stdout",
     "output_type": "stream",
     "text": [
      "137/184223 (0.07%) shortened domains are fishy (20)\n",
      "1023/1706510 (0.06%) unshortened domains are fishy (20)\n",
      "184223/1890733 (9.74%) of links are shortened\n"
     ]
    }
   ],
   "source": [
    "N_shortened = len(df[(df[\"shortened\"] == True)])\n",
    "N_shortened_fishy = len(df[(df[\"shortened\"] == True) & (df[\"fishy_20\"] == 1)])\n",
    "print(\"{}/{} ({:1.2f}%) shortened domains are fishy (20)\"\\\n",
    "      .format(N_shortened_fishy, N_shortened, \n",
    "              (N_shortened_fishy / N_shortened) * 100))\n",
    "\n",
    "N_unshortened = len(df[(df[\"shortened\"] == False)])\n",
    "N_unshortened_fishy = len(df[(df[\"shortened\"] == False) & (df[\"fishy_20\"] == 1)])\n",
    "print(\"{}/{} ({:1.2f}%) unshortened domains are fishy (20)\"\\\n",
    "      .format(N_unshortened_fishy, N_unshortened, \n",
    "              (N_unshortened_fishy / N_unshortened) * 100))\n",
    "\n",
    "print(\"{}/{} ({:1.2f}%) of links are shortened\"\\\n",
    "      .format(N_shortened, N_shortened + N_unshortened,\n",
    "              (N_shortened / (N_shortened + N_unshortened)) * 100))"
   ]
  },
  {
   "cell_type": "code",
   "execution_count": 129,
   "id": "845d0805-c21d-44f8-b84f-c6b9f7e7774d",
   "metadata": {},
   "outputs": [],
   "source": [
    "# put the tweets with and without URLs back together\n",
    "no_urls[\"shortened\"] = False\n",
    "no_urls[\"domain\"] = np.nan\n",
    "no_urls[\"fishy\"] = 0\n",
    "no_urls[\"fishy_40\"] = 0\n",
    "no_urls[\"fishy_20\"] = 0\n",
    "for col in nutrition_categories.values():\n",
    "    no_urls[col] = 0\n",
    "no_urls[\"Domain\"] = np.nan\n",
    "no_urls[\"Rating\"] = np.nan\n",
    "no_urls[\"Score\"] = np.nan\n",
    "no_urls[\"Language\"] = np.nan\n",
    "no_urls[\"Country\"] = np.nan\n",
    "\n",
    "all_tweets = pd.concat([df, no_urls])\n",
    "del df\n",
    "del no_urls"
   ]
  },
  {
   "cell_type": "code",
   "execution_count": 130,
   "id": "a2acc166-0467-45ec-86dc-3c20d661989c",
   "metadata": {},
   "outputs": [
    {
     "data": {
      "text/html": [
       "<div>\n",
       "<style scoped>\n",
       "    .dataframe tbody tr th:only-of-type {\n",
       "        vertical-align: middle;\n",
       "    }\n",
       "\n",
       "    .dataframe tbody tr th {\n",
       "        vertical-align: top;\n",
       "    }\n",
       "\n",
       "    .dataframe thead th {\n",
       "        text-align: right;\n",
       "    }\n",
       "</style>\n",
       "<table border=\"1\" class=\"dataframe\">\n",
       "  <thead>\n",
       "    <tr style=\"text-align: right;\">\n",
       "      <th></th>\n",
       "      <th>fishy</th>\n",
       "      <th>fishy_40</th>\n",
       "      <th>fishy_20</th>\n",
       "      <th>C_0</th>\n",
       "      <th>C_1</th>\n",
       "      <th>C_2</th>\n",
       "      <th>C_3</th>\n",
       "      <th>C_4</th>\n",
       "      <th>C_5</th>\n",
       "      <th>C_6</th>\n",
       "      <th>C_7</th>\n",
       "      <th>C_8</th>\n",
       "    </tr>\n",
       "    <tr>\n",
       "      <th>id</th>\n",
       "      <th></th>\n",
       "      <th></th>\n",
       "      <th></th>\n",
       "      <th></th>\n",
       "      <th></th>\n",
       "      <th></th>\n",
       "      <th></th>\n",
       "      <th></th>\n",
       "      <th></th>\n",
       "      <th></th>\n",
       "      <th></th>\n",
       "      <th></th>\n",
       "    </tr>\n",
       "  </thead>\n",
       "  <tbody>\n",
       "    <tr>\n",
       "      <th>1000000245584072704</th>\n",
       "      <td>0.0</td>\n",
       "      <td>0.0</td>\n",
       "      <td>0.0</td>\n",
       "      <td>0.0</td>\n",
       "      <td>0.0</td>\n",
       "      <td>0.0</td>\n",
       "      <td>0.0</td>\n",
       "      <td>0.0</td>\n",
       "      <td>0.0</td>\n",
       "      <td>0.0</td>\n",
       "      <td>0.0</td>\n",
       "      <td>0.0</td>\n",
       "    </tr>\n",
       "    <tr>\n",
       "      <th>1000001121384050690</th>\n",
       "      <td>0.0</td>\n",
       "      <td>0.0</td>\n",
       "      <td>0.0</td>\n",
       "      <td>0.0</td>\n",
       "      <td>0.0</td>\n",
       "      <td>0.0</td>\n",
       "      <td>0.0</td>\n",
       "      <td>0.0</td>\n",
       "      <td>0.0</td>\n",
       "      <td>0.0</td>\n",
       "      <td>0.0</td>\n",
       "      <td>0.0</td>\n",
       "    </tr>\n",
       "  </tbody>\n",
       "</table>\n",
       "</div>"
      ],
      "text/plain": [
       "                     fishy  fishy_40  fishy_20  C_0  C_1  C_2  C_3  C_4  C_5  \\\n",
       "id                                                                             \n",
       "1000000245584072704    0.0       0.0       0.0  0.0  0.0  0.0  0.0  0.0  0.0   \n",
       "1000001121384050690    0.0       0.0       0.0  0.0  0.0  0.0  0.0  0.0  0.0   \n",
       "\n",
       "                     C_6  C_7  C_8  \n",
       "id                                  \n",
       "1000000245584072704  0.0  0.0  0.0  \n",
       "1000001121384050690  0.0  0.0  0.0  "
      ]
     },
     "execution_count": 130,
     "metadata": {},
     "output_type": "execute_result"
    }
   ],
   "source": [
    "fishy_tweet_count = all_tweets[[\"id\", \"fishy\", \"fishy_40\", \"fishy_20\"] + list(nutrition_categories.values())]\\\n",
    "    .groupby(\"id\")\\\n",
    "    .sum()\n",
    "fishy_tweet_count.head(2)"
   ]
  },
  {
   "cell_type": "code",
   "execution_count": 131,
   "id": "8320be32-b581-4247-b0ad-1ec5ed0e898a",
   "metadata": {},
   "outputs": [
    {
     "name": "stdout",
     "output_type": "stream",
     "text": [
      "6867/2588559 (0.265%) tweets contain fishy urls\n",
      "6867/2588559 (0.107%) tweets contain fishy (40) urls\n",
      "6867/2588559 (0.045%) tweets contain fishy (20) urls\n",
      "2440/2588559 (0.094%) tweets contain urls to domains that repeatedly publishe false content\n",
      "30452/2588559 (1.176%) tweets contain urls to domains that do not represent information responsibly\n",
      "34815/2588559 (1.345%) tweets contain urls to domains that do not correct or clarify errors\n",
      "45043/2588559 (1.740%) tweets contain urls to domains that do not handle differences between news and opinion responsibly\n",
      "1647/2588559 (0.064%) tweets contain urls to domains that use deceptive headlines\n",
      "63290/2588559 (2.445%) tweets contain urls to domains that do not disclose ownership and financing\n",
      "29668/2588559 (1.146%) tweets contain urls to domains that do not clearly label advertising\n",
      "33505/2588559 (1.294%) tweets contain urls to domains that do not reveal person in charge\n",
      "31869/2588559 (1.231%) tweets contain urls to domains that do not reveal names of content creators\n"
     ]
    }
   ],
   "source": [
    "N_tweets = len(fishy_tweet_count)\n",
    "N_fishy_tweets = len(fishy_tweet_count[fishy_tweet_count[\"fishy\"] > 0])\n",
    "print(\"{}/{} ({:1.3f}%) tweets contain fishy urls\"\\\n",
    "      .format(N_fishy_tweets, N_tweets, (N_fishy_tweets / N_tweets) * 100))\n",
    "\n",
    "N_fishy_40_tweets = len(fishy_tweet_count[fishy_tweet_count[\"fishy_40\"] > 0])\n",
    "print(\"{}/{} ({:1.3f}%) tweets contain fishy (40) urls\"\\\n",
    "      .format(N_fishy_tweets, N_tweets, (N_fishy_40_tweets / N_tweets) * 100))\n",
    "\n",
    "N_fishy_20_tweets = len(fishy_tweet_count[fishy_tweet_count[\"fishy_20\"] > 0])\n",
    "print(\"{}/{} ({:1.3f}%) tweets contain fishy (20) urls\"\\\n",
    "      .format(N_fishy_tweets, N_tweets, (N_fishy_20_tweets / N_tweets) * 100))\n",
    "\n",
    "N_C_0_tweets = len(fishy_tweet_count[fishy_tweet_count[\"C_0\"] > 0])\n",
    "print(\"{}/{} ({:1.3f}%) tweets contain urls to domains that repeatedly publishe false content\"\\\n",
    "      .format(N_C_0_tweets, N_tweets, (N_C_0_tweets / N_tweets) * 100))\n",
    "\n",
    "N_C_1_tweets = len(fishy_tweet_count[fishy_tweet_count[\"C_1\"] > 0])\n",
    "print(\"{}/{} ({:1.3f}%) tweets contain urls to domains that do not represent information responsibly\"\\\n",
    "      .format(N_C_1_tweets, N_tweets, (N_C_1_tweets / N_tweets) * 100))\n",
    "\n",
    "N_C_2_tweets = len(fishy_tweet_count[fishy_tweet_count[\"C_2\"] > 0])\n",
    "print(\"{}/{} ({:1.3f}%) tweets contain urls to domains that do not correct or clarify errors\"\\\n",
    "      .format(N_C_2_tweets, N_tweets, (N_C_2_tweets / N_tweets) * 100))\n",
    "\n",
    "N_C_3_tweets = len(fishy_tweet_count[fishy_tweet_count[\"C_3\"] > 0])\n",
    "print(\"{}/{} ({:1.3f}%) tweets contain urls to domains that do not handle differences between news and opinion responsibly\"\\\n",
    "      .format(N_C_3_tweets, N_tweets, (N_C_3_tweets / N_tweets) * 100))\n",
    "\n",
    "N_C_4_tweets = len(fishy_tweet_count[fishy_tweet_count[\"C_4\"] > 0])\n",
    "print(\"{}/{} ({:1.3f}%) tweets contain urls to domains that use deceptive headlines\"\\\n",
    "      .format(N_C_4_tweets, N_tweets, (N_C_4_tweets / N_tweets) * 100))\n",
    "\n",
    "N_C_5_tweets = len(fishy_tweet_count[fishy_tweet_count[\"C_5\"] > 0])\n",
    "print(\"{}/{} ({:1.3f}%) tweets contain urls to domains that do not disclose ownership and financing\"\\\n",
    "      .format(N_C_5_tweets, N_tweets, (N_C_5_tweets / N_tweets) * 100))\n",
    "\n",
    "N_C_6_tweets = len(fishy_tweet_count[fishy_tweet_count[\"C_6\"] > 0])\n",
    "print(\"{}/{} ({:1.3f}%) tweets contain urls to domains that do not clearly label advertising\"\\\n",
    "      .format(N_C_6_tweets, N_tweets, (N_C_6_tweets / N_tweets) * 100))\n",
    "\n",
    "N_C_7_tweets = len(fishy_tweet_count[fishy_tweet_count[\"C_7\"] > 0])\n",
    "print(\"{}/{} ({:1.3f}%) tweets contain urls to domains that do not reveal person in charge\"\\\n",
    "      .format(N_C_7_tweets, N_tweets, (N_C_7_tweets / N_tweets) * 100))\n",
    "\n",
    "N_C_8_tweets = len(fishy_tweet_count[fishy_tweet_count[\"C_8\"] > 0])\n",
    "print(\"{}/{} ({:1.3f}%) tweets contain urls to domains that do not reveal names of content creators\"\\\n",
    "      .format(N_C_8_tweets, N_tweets, (N_C_8_tweets / N_tweets) * 100))"
   ]
  },
  {
   "cell_type": "code",
   "execution_count": 132,
   "id": "98e5bc5b-5f83-4693-a3db-33f1f48feff2",
   "metadata": {},
   "outputs": [
    {
     "data": {
      "text/html": [
       "<div>\n",
       "<style scoped>\n",
       "    .dataframe tbody tr th:only-of-type {\n",
       "        vertical-align: middle;\n",
       "    }\n",
       "\n",
       "    .dataframe tbody tr th {\n",
       "        vertical-align: top;\n",
       "    }\n",
       "\n",
       "    .dataframe thead tr th {\n",
       "        text-align: left;\n",
       "    }\n",
       "\n",
       "    .dataframe thead tr:last-of-type th {\n",
       "        text-align: right;\n",
       "    }\n",
       "</style>\n",
       "<table border=\"1\" class=\"dataframe\">\n",
       "  <thead>\n",
       "    <tr>\n",
       "      <th></th>\n",
       "      <th colspan=\"2\" halign=\"left\">fishy</th>\n",
       "      <th colspan=\"2\" halign=\"left\">fishy_40</th>\n",
       "      <th colspan=\"2\" halign=\"left\">fishy_20</th>\n",
       "      <th colspan=\"2\" halign=\"left\">C_0</th>\n",
       "      <th colspan=\"2\" halign=\"left\">C_1</th>\n",
       "      <th>...</th>\n",
       "      <th colspan=\"2\" halign=\"left\">C_4</th>\n",
       "      <th colspan=\"2\" halign=\"left\">C_5</th>\n",
       "      <th colspan=\"2\" halign=\"left\">C_6</th>\n",
       "      <th colspan=\"2\" halign=\"left\">C_7</th>\n",
       "      <th colspan=\"2\" halign=\"left\">C_8</th>\n",
       "    </tr>\n",
       "    <tr>\n",
       "      <th></th>\n",
       "      <th>sum</th>\n",
       "      <th>count</th>\n",
       "      <th>sum</th>\n",
       "      <th>count</th>\n",
       "      <th>sum</th>\n",
       "      <th>count</th>\n",
       "      <th>sum</th>\n",
       "      <th>count</th>\n",
       "      <th>sum</th>\n",
       "      <th>count</th>\n",
       "      <th>...</th>\n",
       "      <th>sum</th>\n",
       "      <th>count</th>\n",
       "      <th>sum</th>\n",
       "      <th>count</th>\n",
       "      <th>sum</th>\n",
       "      <th>count</th>\n",
       "      <th>sum</th>\n",
       "      <th>count</th>\n",
       "      <th>sum</th>\n",
       "      <th>count</th>\n",
       "    </tr>\n",
       "    <tr>\n",
       "      <th>author_id</th>\n",
       "      <th></th>\n",
       "      <th></th>\n",
       "      <th></th>\n",
       "      <th></th>\n",
       "      <th></th>\n",
       "      <th></th>\n",
       "      <th></th>\n",
       "      <th></th>\n",
       "      <th></th>\n",
       "      <th></th>\n",
       "      <th></th>\n",
       "      <th></th>\n",
       "      <th></th>\n",
       "      <th></th>\n",
       "      <th></th>\n",
       "      <th></th>\n",
       "      <th></th>\n",
       "      <th></th>\n",
       "      <th></th>\n",
       "      <th></th>\n",
       "      <th></th>\n",
       "    </tr>\n",
       "  </thead>\n",
       "  <tbody>\n",
       "    <tr>\n",
       "      <th>1009269193</th>\n",
       "      <td>0.0</td>\n",
       "      <td>1578</td>\n",
       "      <td>0.0</td>\n",
       "      <td>1578</td>\n",
       "      <td>0.0</td>\n",
       "      <td>1578</td>\n",
       "      <td>0.0</td>\n",
       "      <td>1558</td>\n",
       "      <td>1.0</td>\n",
       "      <td>1558</td>\n",
       "      <td>...</td>\n",
       "      <td>0.0</td>\n",
       "      <td>1558</td>\n",
       "      <td>74.0</td>\n",
       "      <td>1558</td>\n",
       "      <td>12.0</td>\n",
       "      <td>1505</td>\n",
       "      <td>19.0</td>\n",
       "      <td>1558</td>\n",
       "      <td>23.0</td>\n",
       "      <td>1558</td>\n",
       "    </tr>\n",
       "    <tr>\n",
       "      <th>1011053278304591872</th>\n",
       "      <td>0.0</td>\n",
       "      <td>15</td>\n",
       "      <td>0.0</td>\n",
       "      <td>15</td>\n",
       "      <td>0.0</td>\n",
       "      <td>15</td>\n",
       "      <td>0.0</td>\n",
       "      <td>15</td>\n",
       "      <td>0.0</td>\n",
       "      <td>15</td>\n",
       "      <td>...</td>\n",
       "      <td>0.0</td>\n",
       "      <td>15</td>\n",
       "      <td>0.0</td>\n",
       "      <td>15</td>\n",
       "      <td>0.0</td>\n",
       "      <td>15</td>\n",
       "      <td>0.0</td>\n",
       "      <td>15</td>\n",
       "      <td>1.0</td>\n",
       "      <td>15</td>\n",
       "    </tr>\n",
       "  </tbody>\n",
       "</table>\n",
       "<p>2 rows × 24 columns</p>\n",
       "</div>"
      ],
      "text/plain": [
       "                    fishy       fishy_40       fishy_20        C_0        C_1  \\\n",
       "                      sum count      sum count      sum count  sum count  sum   \n",
       "author_id                                                                       \n",
       "1009269193            0.0  1578      0.0  1578      0.0  1578  0.0  1558  1.0   \n",
       "1011053278304591872   0.0    15      0.0    15      0.0    15  0.0    15  0.0   \n",
       "\n",
       "                           ...  C_4         C_5         C_6         C_7        \\\n",
       "                    count  ...  sum count   sum count   sum count   sum count   \n",
       "author_id                  ...                                                  \n",
       "1009269193           1558  ...  0.0  1558  74.0  1558  12.0  1505  19.0  1558   \n",
       "1011053278304591872    15  ...  0.0    15   0.0    15   0.0    15   0.0    15   \n",
       "\n",
       "                      C_8        \n",
       "                      sum count  \n",
       "author_id                        \n",
       "1009269193           23.0  1558  \n",
       "1011053278304591872   1.0    15  \n",
       "\n",
       "[2 rows x 24 columns]"
      ]
     },
     "execution_count": 132,
     "metadata": {},
     "output_type": "execute_result"
    }
   ],
   "source": [
    "fishy_user_count = all_tweets[[\"author_id\", \"fishy\", \"fishy_40\", \"fishy_20\"] + list(nutrition_categories.values())]\\\n",
    "    .groupby(\"author_id\")\\\n",
    "    .agg([\"sum\", \"count\"])\n",
    "fishy_user_count.head(2)"
   ]
  },
  {
   "cell_type": "code",
   "execution_count": 133,
   "id": "cc140839-4d7c-4aa1-9bd2-828091478645",
   "metadata": {},
   "outputs": [],
   "source": [
    "fishy_user_count[\"share\"] = fishy_user_count[\"fishy\"][\"sum\"] / \\\n",
    "                            fishy_user_count[\"fishy\"][\"count\"]\n",
    "fishy_user_count[\"share_40\"] = fishy_user_count[\"fishy_40\"][\"sum\"] / \\\n",
    "                            fishy_user_count[\"fishy_40\"][\"count\"]\n",
    "fishy_user_count[\"share_20\"] = fishy_user_count[\"fishy_20\"][\"sum\"] / \\\n",
    "                            fishy_user_count[\"fishy_20\"][\"count\"]\n",
    "\n",
    "for col in nutrition_categories.values():\n",
    "    fishy_user_count[f\"{col}_share\"] = fishy_user_count[col][\"sum\"] / \\\n",
    "                                       fishy_user_count[col][\"count\"]"
   ]
  },
  {
   "cell_type": "code",
   "execution_count": 134,
   "id": "30c193b7-6af8-4c30-aff9-fbef53d24281",
   "metadata": {},
   "outputs": [
    {
     "name": "stdout",
     "output_type": "stream",
     "text": [
      "415/1035 did not share any fishy links\n",
      "the most fishy user has 9.71% tweets with fishy links\n"
     ]
    }
   ],
   "source": [
    "N_no_shares = len(fishy_user_count[fishy_user_count[\"share\"] == 0])\n",
    "print(f\"{N_no_shares}/{len(fishy_user_count)} did not share any fishy links\")\n",
    "\n",
    "max_share = fishy_user_count[\"share\"].max()\n",
    "print(\"the most fishy user has {:1.2f}% tweets with fishy links\"\\\n",
    "      .format(max_share * 100))"
   ]
  },
  {
   "cell_type": "code",
   "execution_count": 135,
   "id": "254240bf-a533-4975-bae1-a9f69ca6555d",
   "metadata": {},
   "outputs": [
    {
     "name": "stdout",
     "output_type": "stream",
     "text": [
      "617/1035 did not share any fishy (40) links\n",
      "the most fishy user has 4.81% tweets with fishy (40) links\n"
     ]
    }
   ],
   "source": [
    "N_no_shares = len(fishy_user_count[fishy_user_count[\"share_40\"] == 0])\n",
    "print(f\"{N_no_shares}/{len(fishy_user_count)} did not share any fishy (40) links\")\n",
    "\n",
    "max_share = fishy_user_count[\"share_40\"].max()\n",
    "print(\"the most fishy user has {:1.2f}% tweets with fishy (40) links\"\\\n",
    "      .format(max_share * 100))"
   ]
  },
  {
   "cell_type": "code",
   "execution_count": 136,
   "id": "7731ddcd-13c6-4ba5-95a4-e3655cca5240",
   "metadata": {},
   "outputs": [
    {
     "name": "stdout",
     "output_type": "stream",
     "text": [
      "804/1035 did not share any fishy (20) links\n",
      "the most fishy user has 2.95% tweets with fishy (20) links\n"
     ]
    }
   ],
   "source": [
    "N_no_shares = len(fishy_user_count[fishy_user_count[\"share_20\"] == 0])\n",
    "print(f\"{N_no_shares}/{len(fishy_user_count)} did not share any fishy (20) links\")\n",
    "\n",
    "max_share = fishy_user_count[\"share_20\"].max()\n",
    "print(\"the most fishy user has {:1.2f}% tweets with fishy (20) links\"\\\n",
    "      .format(max_share * 100))"
   ]
  },
  {
   "cell_type": "code",
   "execution_count": 147,
   "id": "8bca2469-6a08-4c6b-a72f-a6a0b91859c0",
   "metadata": {},
   "outputs": [
    {
     "data": {
      "image/png": "[encoded data removed]",
      "text/plain": [
       "<Figure size 864x216 with 3 Axes>"
      ]
     },
     "metadata": {
      "needs_background": "light"
     },
     "output_type": "display_data"
    }
   ],
   "source": [
    "fig, axes = plt.subplots(1, 3, figsize=(12, 3))\n",
    "\n",
    "for ax, col, add in zip(axes.flatten(), \n",
    "                        [\"share\", \"share_40\", \"share_20\"],\n",
    "                        [\"(60)\", \"(40)\", \"(20)\"]):\n",
    "    ax.hist(fishy_user_count[col] * 100, \n",
    "            bins=np.arange(0, 6, 0.25), rwidth=0.9)\n",
    "    ax.set_xlabel(f\"share of tweets with fishy {add} links [%]\")\n",
    "    ax.set_ylabel(\"number of Congress accounts\")\n",
    "fig.tight_layout()"
   ]
  },
  {
   "cell_type": "code",
   "execution_count": 148,
   "id": "38ce3a00-11e4-4734-b452-8e67d868223b",
   "metadata": {},
   "outputs": [
    {
     "data": {
      "image/png": "[encoded data removed]",
      "text/plain": [
       "<Figure size 648x432 with 9 Axes>"
      ]
     },
     "metadata": {
      "needs_background": "light"
     },
     "output_type": "display_data"
    }
   ],
   "source": [
    "fig, axes = plt.subplots(3, 3, figsize=(9, 6))\n",
    "for ax, col in zip(axes.flatten(), nutrition_categories.values()):\n",
    "    ax.hist(fishy_user_count[f\"{col}_share\"] * 100, \n",
    "            bins=np.arange(0, 25, 1), rwidth=0.9)\n",
    "    ax.set_xlabel(nut_cat_dict[col])\n",
    "    ax.set_ylabel(\"# accounts\")\n",
    "fig.tight_layout()"
   ]
  },
  {
   "cell_type": "code",
   "execution_count": 149,
   "id": "6799c30e-0e57-49aa-9d74-94224150e24a",
   "metadata": {},
   "outputs": [],
   "source": [
    "# flatten the hierarchical indices\n",
    "fishy_user_count = fishy_user_count.reset_index()\n",
    "fishy_user_count.columns = ['_'.join(col).strip(\"_\") \\\n",
    "                            for col in fishy_user_count.columns.values]"
   ]
  },
  {
   "cell_type": "code",
   "execution_count": 151,
   "id": "cda71403-0d56-4581-a573-892117222337",
   "metadata": {},
   "outputs": [
    {
     "data": {
      "text/html": [
       "<div>\n",
       "<style scoped>\n",
       "    .dataframe tbody tr th:only-of-type {\n",
       "        vertical-align: middle;\n",
       "    }\n",
       "\n",
       "    .dataframe tbody tr th {\n",
       "        vertical-align: top;\n",
       "    }\n",
       "\n",
       "    .dataframe thead th {\n",
       "        text-align: right;\n",
       "    }\n",
       "</style>\n",
       "<table border=\"1\" class=\"dataframe\">\n",
       "  <thead>\n",
       "    <tr style=\"text-align: right;\">\n",
       "      <th></th>\n",
       "      <th>author_id</th>\n",
       "      <th>fishy_sum</th>\n",
       "      <th>fishy_count</th>\n",
       "      <th>fishy_40_sum</th>\n",
       "      <th>fishy_40_count</th>\n",
       "      <th>fishy_20_sum</th>\n",
       "      <th>fishy_20_count</th>\n",
       "      <th>C_0_sum</th>\n",
       "      <th>C_0_count</th>\n",
       "      <th>C_1_sum</th>\n",
       "      <th>...</th>\n",
       "      <th>share_20</th>\n",
       "      <th>C_0_share</th>\n",
       "      <th>C_1_share</th>\n",
       "      <th>C_2_share</th>\n",
       "      <th>C_3_share</th>\n",
       "      <th>C_4_share</th>\n",
       "      <th>C_5_share</th>\n",
       "      <th>C_6_share</th>\n",
       "      <th>C_7_share</th>\n",
       "      <th>C_8_share</th>\n",
       "    </tr>\n",
       "  </thead>\n",
       "  <tbody>\n",
       "    <tr>\n",
       "      <th>0</th>\n",
       "      <td>1009269193</td>\n",
       "      <td>0.0</td>\n",
       "      <td>1578</td>\n",
       "      <td>0.0</td>\n",
       "      <td>1578</td>\n",
       "      <td>0.0</td>\n",
       "      <td>1578</td>\n",
       "      <td>0.0</td>\n",
       "      <td>1558</td>\n",
       "      <td>1.0</td>\n",
       "      <td>...</td>\n",
       "      <td>0.0</td>\n",
       "      <td>0.0</td>\n",
       "      <td>0.000642</td>\n",
       "      <td>0.031451</td>\n",
       "      <td>0.003211</td>\n",
       "      <td>0.0</td>\n",
       "      <td>0.047497</td>\n",
       "      <td>0.007973</td>\n",
       "      <td>0.012195</td>\n",
       "      <td>0.014763</td>\n",
       "    </tr>\n",
       "    <tr>\n",
       "      <th>1</th>\n",
       "      <td>1011053278304591872</td>\n",
       "      <td>0.0</td>\n",
       "      <td>15</td>\n",
       "      <td>0.0</td>\n",
       "      <td>15</td>\n",
       "      <td>0.0</td>\n",
       "      <td>15</td>\n",
       "      <td>0.0</td>\n",
       "      <td>15</td>\n",
       "      <td>0.0</td>\n",
       "      <td>...</td>\n",
       "      <td>0.0</td>\n",
       "      <td>0.0</td>\n",
       "      <td>0.000000</td>\n",
       "      <td>0.000000</td>\n",
       "      <td>0.000000</td>\n",
       "      <td>0.0</td>\n",
       "      <td>0.000000</td>\n",
       "      <td>0.000000</td>\n",
       "      <td>0.000000</td>\n",
       "      <td>0.066667</td>\n",
       "    </tr>\n",
       "  </tbody>\n",
       "</table>\n",
       "<p>2 rows × 37 columns</p>\n",
       "</div>"
      ],
      "text/plain": [
       "             author_id  fishy_sum  fishy_count  fishy_40_sum  fishy_40_count  \\\n",
       "0           1009269193        0.0         1578           0.0            1578   \n",
       "1  1011053278304591872        0.0           15           0.0              15   \n",
       "\n",
       "   fishy_20_sum  fishy_20_count  C_0_sum  C_0_count  C_1_sum  ...  share_20  \\\n",
       "0           0.0            1578      0.0       1558      1.0  ...       0.0   \n",
       "1           0.0              15      0.0         15      0.0  ...       0.0   \n",
       "\n",
       "   C_0_share  C_1_share  C_2_share  C_3_share  C_4_share  C_5_share  \\\n",
       "0        0.0   0.000642   0.031451   0.003211        0.0   0.047497   \n",
       "1        0.0   0.000000   0.000000   0.000000        0.0   0.000000   \n",
       "\n",
       "   C_6_share  C_7_share  C_8_share  \n",
       "0   0.007973   0.012195   0.014763  \n",
       "1   0.000000   0.000000   0.066667  \n",
       "\n",
       "[2 rows x 37 columns]"
      ]
     },
     "execution_count": 151,
     "metadata": {},
     "output_type": "execute_result"
    }
   ],
   "source": [
    "fishy_user_count.head(2)"
   ]
  },
  {
   "cell_type": "markdown",
   "id": "330ace86-ba91-418e-9dc5-f9e3bedc6f75",
   "metadata": {},
   "source": [
    "## Add party affiliation to the mix"
   ]
  },
  {
   "cell_type": "code",
   "execution_count": 152,
   "id": "074a81b5-3c24-4f05-8955-89a3911c9749",
   "metadata": {},
   "outputs": [],
   "source": [
    "# author IDs have become converted to floats / integers and lost the last 4\n",
    "# digits. We have a list of the correct IDs stored as strings and use it to\n",
    "# match the corrupted IDs back to the correct ones based on the first 13 digits\n",
    "# of the IDs\n",
    "\n",
    "ids = np.loadtxt(join(src, \"correct_author_ids.txt\"))\n",
    "ids = pd.DataFrame({\"id\":ids}).sort_values(by=\"id\")\n",
    "ids[\"id\"] = ids[\"id\"].astype(int).astype(str)\n",
    "partial_ids = ids[ids[\"id\"].apply(lambda x: len(x) >=14)].copy()\n",
    "partial_ids[\"id_part\"] = partial_ids[\"id\"].apply(lambda x: x[0:13])\n",
    "partial_ids = {row[\"id_part\"]:row[\"id\"] for i, row in partial_ids.iterrows()}\n",
    "\n",
    "def match_id(old_id):\n",
    "    if len(old_id) > 16:\n",
    "        id_part = old_id[0:13]\n",
    "        if id_part in partial_ids.keys():\n",
    "            correct_id = partial_ids[id_part]\n",
    "            return correct_id\n",
    "    return old_id"
   ]
  },
  {
   "cell_type": "markdown",
   "id": "73494fcc-5016-4446-bb1b-d538bd836698",
   "metadata": {},
   "source": [
    "## Make a user data frame"
   ]
  },
  {
   "cell_type": "code",
   "execution_count": 153,
   "id": "7f8a9c4b-f4c4-4e92-96e3-6cb30b166c52",
   "metadata": {},
   "outputs": [],
   "source": [
    "# load party affiliation, strip \" used to ensure author_ids are stored as\n",
    "# strings and not numbers\n",
    "party_affiliation = pd.read_csv(join(src, \"party_affiliations_complete.csv\"))\n",
    "party_affiliation[\"author_id\"] = party_affiliation[\"author_id\"]\\\n",
    "    .apply(lambda x: x.replace('\"', ''))\n",
    "\n",
    "party_affiliation[\"author_id\"] = party_affiliation[\"author_id\"].apply(match_id)\n",
    "fishy_user_count[\"author_id\"] = fishy_user_count[\"author_id\"].apply(match_id)\n",
    "\n",
    "# merge fishy link information and information about party affiliation\n",
    "user_df = pd.merge(\n",
    "    fishy_user_count, \n",
    "    party_affiliation, \n",
    "    how=\"left\", \n",
    "    left_on=\"author_id\",\n",
    "    right_on=\"author_id\"\n",
    ").copy()"
   ]
  },
  {
   "cell_type": "code",
   "execution_count": 159,
   "id": "efefd750-312d-4ab6-a3c7-bfead1aa8d0d",
   "metadata": {},
   "outputs": [
    {
     "data": {
      "image/png": "[encoded data removed]",
      "text/plain": [
       "<Figure size 432x576 with 3 Axes>"
      ]
     },
     "metadata": {
      "needs_background": "light"
     },
     "output_type": "display_data"
    }
   ],
   "source": [
    "fig, axes = plt.subplots(3, 1, figsize=(6, 8))\n",
    "dem = user_df[user_df[\"party\"] == \"Democrat\"]\n",
    "rep = user_df[user_df[\"party\"] == \"Republican\"]\n",
    "ind = user_df[user_df[\"party\"] == \"Independent\"]\n",
    "\n",
    "for ax, col, add in zip(axes.flatten(), [\"share\", \"share_40\", \"share_20\"],\n",
    "                        [\"(60)\", \"(40)\", \"(20)\"]):\n",
    "    ax.hist([dem[col] * 100, rep[col] * 100, ind[col] * 100], \n",
    "            bins=np.arange(0, 10, 0.5), rwidth=0.9, \n",
    "            label=[\"Democrat\", \"Republican\", \"Independent\"],\n",
    "            color=[demblue, repred, indgrey])\n",
    "    ax.set_xlabel(f\"share of tweets with fishy {add} links [%]\",\n",
    "                  fontsize=ax_label_fontsize)\n",
    "    ax.set_ylabel(\"# accounts\", fontsize=ax_label_fontsize)\n",
    "    ax.legend(fontsize=leg_label_fontsize)\n",
    "    ax.set_ylim(0.7, 1e3)\n",
    "    ax.set_yscale('log')\n",
    "fig.tight_layout()\n",
    "plt.savefig(\"../../plots/fishy_share.pdf\")"
   ]
  },
  {
   "cell_type": "code",
   "execution_count": 160,
   "id": "4f465833-3068-4f81-bcbe-e43f2f9c9691",
   "metadata": {},
   "outputs": [
    {
     "data": {
      "image/png": "[encoded data removed]",
      "text/plain": [
       "<Figure size 720x432 with 9 Axes>"
      ]
     },
     "metadata": {
      "needs_background": "light"
     },
     "output_type": "display_data"
    }
   ],
   "source": [
    "fig, axes = plt.subplots(3, 3, figsize=(10, 6))\n",
    "for ax, col, i in zip(axes.flatten(),\n",
    "                      nutrition_categories.values(),\n",
    "                      range(len(axes.flatten()))):\n",
    "    ax.hist([dem[f\"{col}_share\"] * 100,\n",
    "             rep[f\"{col}_share\"] * 100,\n",
    "             ind[f\"{col}_share\"] * 100], \n",
    "            bins=np.arange(0, 25, 1), rwidth=0.9,\n",
    "            label=[\"Democrat\", \"Republican\", \"Independent\"],\n",
    "            color=[demblue, repred, indgrey])\n",
    "    ax.set_title(nut_cat_dict[col], fontsize=9)\n",
    "    if i in [6, 7]:\n",
    "        ax.set_xlabel(\"share of tweets with links [%]\")\n",
    "    ax.set_ylabel(\"# accounts\")\n",
    "    ax.legend()\n",
    "fig.tight_layout()\n",
    "plt.savefig(\"../../plots/nutrition_label_share.pdf\")"
   ]
  },
  {
   "cell_type": "code",
   "execution_count": 161,
   "id": "7dbb4dd3-6370-4fde-8a7e-0bd7b7d83d87",
   "metadata": {},
   "outputs": [
    {
     "data": {
      "text/plain": [
       "breitbart.com           2403\n",
       "thefederalist.com        703\n",
       "newsmax.com              638\n",
       "lifenews.com             341\n",
       "theepochtimes.com        220\n",
       "redstate.com             198\n",
       "hannity.com              161\n",
       "dailykos.com             158\n",
       "oann.com                 108\n",
       "thenationalpulse.com      91\n",
       "Name: Domain, dtype: int64"
      ]
     },
     "execution_count": 161,
     "metadata": {},
     "output_type": "execute_result"
    }
   ],
   "source": [
    "all_tweets[all_tweets[\"fishy\"] == 1][\"Domain\"].value_counts()[0:10]"
   ]
  },
  {
   "cell_type": "code",
   "execution_count": 162,
   "id": "dec02ef6-d626-4d93-93d5-c0c7b485ca9f",
   "metadata": {},
   "outputs": [
    {
     "data": {
      "text/plain": [
       "thefederalist.com       703\n",
       "newsmax.com             638\n",
       "lifenews.com            341\n",
       "hannity.com             161\n",
       "dailykos.com            158\n",
       "oann.com                108\n",
       "thenationalpulse.com     91\n",
       "thegatewaypundit.com     45\n",
       "thehayride.com           40\n",
       "lifesitenews.com         39\n",
       "Name: Domain, dtype: int64"
      ]
     },
     "execution_count": 162,
     "metadata": {},
     "output_type": "execute_result"
    }
   ],
   "source": [
    "all_tweets[all_tweets[\"fishy_40\"] == 1][\"Domain\"].value_counts()[0:10]"
   ]
  },
  {
   "cell_type": "code",
   "execution_count": 163,
   "id": "5644b1dd-4884-40e9-b190-9f167b7a22e7",
   "metadata": {},
   "outputs": [
    {
     "data": {
      "text/plain": [
       "thefederalist.com       703\n",
       "oann.com                108\n",
       "thenationalpulse.com     91\n",
       "lifesitenews.com         39\n",
       "revolver.news            39\n",
       "wnd.com                  27\n",
       "warroom.org              24\n",
       "zerohedge.com            20\n",
       "americanthinker.com      15\n",
       "rushlimbaugh.com         13\n",
       "Name: Domain, dtype: int64"
      ]
     },
     "execution_count": 163,
     "metadata": {},
     "output_type": "execute_result"
    }
   ],
   "source": [
    "all_tweets[all_tweets[\"fishy_20\"] == 1][\"Domain\"].value_counts()[0:10]"
   ]
  },
  {
   "cell_type": "markdown",
   "id": "e3b69f7c-fa99-479f-9a6f-8044a514dd69",
   "metadata": {},
   "source": [
    "## Add ideology scores"
   ]
  },
  {
   "cell_type": "code",
   "execution_count": 194,
   "id": "f84fbcdb-e3d4-4b2d-aca4-8287478c5907",
   "metadata": {},
   "outputs": [],
   "source": [
    "fname = \"govtrack-stats-{}-{}-ideology.csv\"\n",
    "scores = pd.DataFrame()\n",
    "for year in range(2013, 2021):\n",
    "    for chamber in [\"house\", \"senate\"]:\n",
    "        tmp = pd.read_csv(join(src, \"ideology_scores\",\n",
    "                               fname.format(year, chamber)))\n",
    "        tmp[\"year\"] = year\n",
    "        tmp[\"name\"] = tmp[\"name\"].apply(lambda x: x.replace(\"b'\", \"\"))\n",
    "        tmp[\"name\"] = tmp[\"name\"].apply(lambda x: x.replace(\"'\", \"\").lower())\n",
    "        scores = pd.concat([scores, tmp])"
   ]
  },
  {
   "cell_type": "code",
   "execution_count": 165,
   "id": "ccd1f8e3-c49c-41ac-bb87-730503d0c6ba",
   "metadata": {},
   "outputs": [],
   "source": [
    "counts = scores[\"name\"].value_counts()\n",
    "# a single politician can have at maximum 8 entries for 8 different years\n",
    "# 2013 to 2020\n",
    "unique_names = list(counts[counts <= 8].index)\n",
    "\n",
    "unique_scores = scores[scores[\"name\"].isin(unique_names)]\\\n",
    "    .sort_values(by=\"year\", ascending=False)\\\n",
    "    .drop_duplicates(subset=[\"name\"])\\\n",
    "    .set_index(\"name\")\n",
    "unique_names = list(set(unique_scores.index))\n",
    "\n",
    "def match_score(account_name):\n",
    "    if account_name == account_name:\n",
    "        account_name = set(account_name.lower().split(\" \"))\n",
    "        for name in unique_names:\n",
    "            if name in account_name:\n",
    "                return unique_scores.loc[name][\"id\"]\n",
    "    else:\n",
    "        return np.nan\n",
    "    \n",
    "user_df[\"ideology_score_id\"] = user_df[\"name\"].apply(match_score)"
   ]
  },
  {
   "cell_type": "code",
   "execution_count": 166,
   "id": "0577e99b-10fd-48dc-af97-fa13ef3374b6",
   "metadata": {},
   "outputs": [],
   "source": [
    "# add hand-matched missing scores\n",
    "missing_scores = pd.read_csv(join(src, \"missing_scores.csv\"))\n",
    "missing_scores = {row[\"handle\"]:row[\"ideology_score_id\"] \\\n",
    "                  for i, row in missing_scores.iterrows()}\n",
    "\n",
    "# merge on the handle since this seems to be the most consistent index between\n",
    "# the two datasets\n",
    "user_df = user_df.set_index(\"handle\")\n",
    "for handle, score_id in missing_scores.items():\n",
    "    user_df.loc[handle, \"ideology_score_id\"] = score_id\n",
    "    \n",
    "user_df = user_df.reset_index()"
   ]
  },
  {
   "cell_type": "markdown",
   "id": "16c5f1bd-42cc-4935-af92-b3ce25e8f9db",
   "metadata": {},
   "source": [
    "### Ideology score exploration"
   ]
  },
  {
   "cell_type": "code",
   "execution_count": 195,
   "id": "c836ffdf-f53f-46e5-ba45-df49bcde3194",
   "metadata": {},
   "outputs": [],
   "source": [
    "scores = pd.merge(scores, user_df[[\"party\", \"handle\", \"author_id\", \"ideology_score_id\"]].drop_duplicates(subset=[\"ideology_score_id\"]),\n",
    "                  how=\"left\", left_on=\"id\", right_on=\"ideology_score_id\")"
   ]
  },
  {
   "cell_type": "code",
   "execution_count": 197,
   "id": "d3767166-ca94-4b6a-ad31-695abc076d2e",
   "metadata": {},
   "outputs": [],
   "source": [
    "scores = scores.sort_values(by=[\"handle\", \"year\"])"
   ]
  },
  {
   "cell_type": "code",
   "execution_count": 213,
   "id": "1a1bb63a-6fdf-4238-820c-bf42063163c2",
   "metadata": {},
   "outputs": [
    {
     "data": {
      "text/plain": [
       "pandas.core.series.Series"
      ]
     },
     "execution_count": 213,
     "metadata": {},
     "output_type": "execute_result"
    }
   ],
   "source": [
    "type(user_data)"
   ]
  },
  {
   "cell_type": "code",
   "execution_count": 256,
   "id": "5d52c425-218a-40b5-b239-b94d9fa6451a",
   "metadata": {},
   "outputs": [
    {
     "data": {
      "image/png": "[encoded data removed]",
      "text/plain": [
       "<Figure size 864x288 with 2 Axes>"
      ]
     },
     "metadata": {
      "needs_background": "light"
     },
     "output_type": "display_data"
    }
   ],
   "source": [
    "subset = scores.dropna(subset=[\"party\"])\n",
    "subset = subset.set_index(\"handle\")\n",
    "dem = subset[subset[\"party\"] == \"Democrat\"]\n",
    "rep = subset[subset[\"party\"] == \"Republican\"]\n",
    "ind = subset[subset[\"party\"] == \"Independent\"]\n",
    "\n",
    "diffs = pd.DataFrame()\n",
    "\n",
    "fig, axes = plt.subplots(1, 2, figsize=(12, 4))\n",
    "ax = axes[0]\n",
    "for dataset, color, party in zip([dem, rep, ind],\n",
    "                                 [demblue, repred, indgrey],\n",
    "                                 [\"Democrat\", \"Republican\", \"Independent\"]): \n",
    "    for handle in dataset.index.unique():\n",
    "        user_data = dataset.loc[handle]\n",
    "        if type(user_data) != pd.core.series.Series:\n",
    "            x1 = user_data.iloc[0][\"year\"]\n",
    "            x2 = user_data.iloc[-1][\"year\"] - x1\n",
    "            y1 = user_data.iloc[0][\"ideology\"]\n",
    "            y2 = user_data.iloc[-1][\"ideology\"] - y1\n",
    "            \n",
    "            diffs = diffs.append({\n",
    "                \"party\":party,\n",
    "                \"ideology_difference\":y2\n",
    "            }, ignore_index=True)\n",
    "\n",
    "        ax.arrow(x1, y1, x2, y2, color=color, alpha=0.2, \n",
    "                 width=0.001, head_width=0.03, head_length=0.25)\n",
    "ax.set_ylabel(\"ideology score\")\n",
    "ax.set_xlabel(\"year\")\n",
    "        \n",
    "ax = axes[1]\n",
    "dem = diffs[diffs[\"party\"] == \"Democrat\"]\n",
    "rep = diffs[diffs[\"party\"] == \"Republican\"]\n",
    "ind = diffs[diffs[\"party\"] == \"Independent\"]\n",
    "\n",
    "ax.hist([dem[\"ideology_difference\"], rep[\"ideology_difference\"]],\n",
    "        color=[demblue, repred], bins=np.arange(-0.3, 0.3, 0.05),\n",
    "        label=[\"Democrat\", \"Republican\"])\n",
    "ax.set_ylabel(\"congress member count\")\n",
    "ax.set_xlabel(\"ideology score difference\")\n",
    "ax.legend(fontsize=12)\n",
    "\n",
    "plt.savefig(\"../../plots/ideology_scores.png\",\n",
    "            bbox_inches=\"tight\", facecolor=\"white\")"
   ]
  },
  {
   "cell_type": "code",
   "execution_count": 244,
   "id": "dffe5e95-3d44-4228-a5ab-5fb399e1057c",
   "metadata": {},
   "outputs": [
    {
     "data": {
      "text/html": [
       "<div>\n",
       "<style scoped>\n",
       "    .dataframe tbody tr th:only-of-type {\n",
       "        vertical-align: middle;\n",
       "    }\n",
       "\n",
       "    .dataframe tbody tr th {\n",
       "        vertical-align: top;\n",
       "    }\n",
       "\n",
       "    .dataframe thead th {\n",
       "        text-align: right;\n",
       "    }\n",
       "</style>\n",
       "<table border=\"1\" class=\"dataframe\">\n",
       "  <thead>\n",
       "    <tr style=\"text-align: right;\">\n",
       "      <th></th>\n",
       "      <th>ideology_difference</th>\n",
       "    </tr>\n",
       "    <tr>\n",
       "      <th>party</th>\n",
       "      <th></th>\n",
       "    </tr>\n",
       "  </thead>\n",
       "  <tbody>\n",
       "    <tr>\n",
       "      <th>Democrat</th>\n",
       "      <td>-0.008268</td>\n",
       "    </tr>\n",
       "    <tr>\n",
       "      <th>Independent</th>\n",
       "      <td>0.057141</td>\n",
       "    </tr>\n",
       "    <tr>\n",
       "      <th>Republican</th>\n",
       "      <td>0.001116</td>\n",
       "    </tr>\n",
       "  </tbody>\n",
       "</table>\n",
       "</div>"
      ],
      "text/plain": [
       "             ideology_difference\n",
       "party                           \n",
       "Democrat               -0.008268\n",
       "Independent             0.057141\n",
       "Republican              0.001116"
      ]
     },
     "execution_count": 244,
     "metadata": {},
     "output_type": "execute_result"
    }
   ],
   "source": [
    "diffs.groupby(\"party\").agg(\"mean\")"
   ]
  },
  {
   "cell_type": "code",
   "execution_count": 167,
   "id": "fe944a1f-251b-430d-9579-6a67553b9509",
   "metadata": {},
   "outputs": [],
   "source": [
    "# for many accounts, there is more than one ideology score since they were \n",
    "# active over many years. We calculate the mean, std and count of the ideology\n",
    "# score for each user and add this information to the user_df\n",
    "scores_agg = scores[[\"id\", \"ideology\"]]\\\n",
    "    .groupby(\"id\")\\\n",
    "    .agg([\"mean\", \"std\", \"count\"])\n",
    "scores_agg = scores_agg.reset_index()\n",
    "scores_agg.columns = ['_'.join(col).strip(\"_\") \\\n",
    "                            for col in scores_agg.columns.values]\n",
    "\n",
    "user_df = user_df.merge(scores_agg, how=\"left\", \n",
    "                      left_on=\"ideology_score_id\", right_on=\"id\")"
   ]
  },
  {
   "cell_type": "code",
   "execution_count": 168,
   "id": "d959c96f-a5ae-49a7-921c-daa5700a5ed8",
   "metadata": {},
   "outputs": [
    {
     "data": {
      "image/png": "[encoded data removed]",
      "text/plain": [
       "<Figure size 432x288 with 1 Axes>"
      ]
     },
     "metadata": {
      "needs_background": "light"
     },
     "output_type": "display_data"
    }
   ],
   "source": [
    "fig, ax = plt.subplots()\n",
    "dem = user_df[user_df[\"party\"] == \"Democrat\"]\n",
    "rep = user_df[user_df[\"party\"] == \"Republican\"]\n",
    "ind = user_df[user_df[\"party\"] == \"Independent\"]\n",
    "ax.hist([dem[\"ideology_mean\"], rep[\"ideology_mean\"], ind[\"ideology_mean\"]], \n",
    "        bins=np.arange(0, 1, 0.05), rwidth=0.9, \n",
    "        label=[\"Democrat\", \"Republican\", \"Independent\"],\n",
    "        color=[demblue, repred, indgrey])\n",
    "ax.set_xlabel(\"mean ideology score\")\n",
    "ax.set_ylabel(\"number of Congress accounts\")\n",
    "ax.legend()\n",
    "plt.savefig(\"../../plots/ideology_scores.pdf\")"
   ]
  },
  {
   "cell_type": "code",
   "execution_count": 314,
   "id": "59700929-3035-4cb0-b18d-f9643d55fd1d",
   "metadata": {},
   "outputs": [],
   "source": [
    "congress_twitter_handles = pd.read_csv(join(src, \"US_politician_twitter_accounts\", \"clean\", \"congress-member-twitter-handles_114-117.csv\"))\n",
    "congress_twitter_handles = congress_twitter_handles\\\n",
    "    .sort_values(by=\"congress\", ascending=False)\\\n",
    "    .drop_duplicates(subset=\"handle\")\\\n",
    "    .reset_index(drop=True)"
   ]
  },
  {
   "cell_type": "code",
   "execution_count": 316,
   "id": "c68d8b49-ce34-4add-9578-1bc61ee429ed",
   "metadata": {},
   "outputs": [],
   "source": [
    "user_df = pd.merge(user_df, congress_twitter_handles, how=\"left\", left_on=\"handle\", right_on=\"handle\")"
   ]
  },
  {
   "cell_type": "code",
   "execution_count": 332,
   "id": "effb569f-816f-4b2c-8d2a-5d87482ba155",
   "metadata": {},
   "outputs": [
    {
     "name": "stderr",
     "output_type": "stream",
     "text": [
      "<ipython-input-332-f34c60a0668d>:61: UserWarning: Boolean Series key will be reindexed to match DataFrame index.\n",
      "  dem_active = subsubset[(subsubset[\"party\"] == \"Democrat\") & (subset[\"congress\"] == 117)]\n",
      "<ipython-input-332-f34c60a0668d>:62: UserWarning: Boolean Series key will be reindexed to match DataFrame index.\n",
      "  rep_active = subsubset[(subsubset[\"party\"] == \"Republican\") & (subset[\"congress\"] == 117)]\n",
      "<ipython-input-332-f34c60a0668d>:63: UserWarning: Boolean Series key will be reindexed to match DataFrame index.\n",
      "  ind_active = subsubset[(subsubset[\"party\"] == \"Independent\") & (subset[\"congress\"] == 117)]\n",
      "<ipython-input-332-f34c60a0668d>:64: UserWarning: Boolean Series key will be reindexed to match DataFrame index.\n",
      "  dem_inactive = subsubset[(subsubset[\"party\"] == \"Democrat\") & (subset[\"congress\"] != 117)]\n",
      "<ipython-input-332-f34c60a0668d>:65: UserWarning: Boolean Series key will be reindexed to match DataFrame index.\n",
      "  rep_inactive = subsubset[(subsubset[\"party\"] == \"Republican\") & (subset[\"congress\"] != 117)]\n",
      "<ipython-input-332-f34c60a0668d>:66: UserWarning: Boolean Series key will be reindexed to match DataFrame index.\n",
      "  ind_inactive = subsubset[(subsubset[\"party\"] == \"Independent\") & (subset[\"congress\"] != 117)]\n"
     ]
    },
    {
     "data": {
      "image/png": "[encoded data removed]",
      "text/plain": [
       "<Figure size 432x288 with 2 Axes>"
      ]
     },
     "metadata": {
      "needs_background": "light"
     },
     "output_type": "display_data"
    }
   ],
   "source": [
    "from matplotlib.gridspec import GridSpec\n",
    "# share = cutoff @ NewsGuard < 60 \n",
    "# share_40 = cutoff @ NewsGuard < 40 \n",
    "# share_20 = cutoff @ NewsGuard < 20 \n",
    "fishy_col = \"share\"\n",
    "cutoff = 60\n",
    "\n",
    "fig = plt.figure()\n",
    "gs = GridSpec(2, 1, height_ratios=[4, 1])\n",
    "ax = fig.add_subplot(gs[0])\n",
    "ax2 = fig.add_subplot(gs[1])\n",
    "\n",
    "subset = user_df.dropna(subset=[\"ideology_mean\", fishy_col])\n",
    "dem_active = subset[(subset[\"party\"] == \"Democrat\") & (subset[\"congress\"] == 117)]\n",
    "rep_active = subset[(subset[\"party\"] == \"Republican\") & (subset[\"congress\"] == 117)]\n",
    "ind_active = subset[(subset[\"party\"] == \"Independent\") & (subset[\"congress\"] == 117)]\n",
    "dem_inactive = subset[(subset[\"party\"] == \"Democrat\") & (subset[\"congress\"] != 117)]\n",
    "rep_inactive = subset[(subset[\"party\"] == \"Republican\") & (subset[\"congress\"] != 117)]\n",
    "ind_inactive = subset[(subset[\"party\"] == \"Independent\") & (subset[\"congress\"] != 117)]\n",
    "\n",
    "stuff = ax.errorbar(dem_active[\"ideology_mean\"], dem_active[fishy_col] * 100, fmt='^',\n",
    "           xerr=dem_active[\"ideology_std\"], color=demblue,\n",
    "           label=\"Democrat\", alpha=0.5, ms=5)\n",
    "markers, caps, bars = stuff\n",
    "[bar.set_alpha(0.2) for bar in bars]\n",
    "stuff = ax.errorbar(dem_inactive[\"ideology_mean\"], dem_inactive[fishy_col] * 100, fmt='o',\n",
    "           xerr=dem_inactive[\"ideology_std\"], color=demblue, alpha=0.2, ms=3)\n",
    "markers, caps, bars = stuff\n",
    "[bar.set_alpha(0.2) for bar in bars]\n",
    "\n",
    "stuff = ax.errorbar(rep_active[\"ideology_mean\"], rep_active[fishy_col] * 100, fmt='^',\n",
    "           xerr=rep_active[\"ideology_std\"], color=repred,\n",
    "           label=\"Republican\", alpha=0.5, ms=5)\n",
    "markers, caps, bars = stuff\n",
    "[bar.set_alpha(0.2) for bar in bars]\n",
    "stuff = ax.errorbar(rep_inactive[\"ideology_mean\"], rep_inactive[fishy_col] * 100, fmt='o',\n",
    "           xerr=rep_inactive[\"ideology_std\"], color=repred, alpha=0.2, ms=3)\n",
    "markers, caps, bars = stuff\n",
    "[bar.set_alpha(0.2) for bar in bars]\n",
    "\n",
    "stuff = ax.errorbar(ind_active[\"ideology_mean\"], ind_active[fishy_col] * 100, fmt='^',\n",
    "           xerr=ind_active[\"ideology_std\"], color=indgrey,\n",
    "           label=\"Independent\", alpha=0.5, ms=5)\n",
    "markers, caps, bars = stuff\n",
    "[bar.set_alpha(0.2) for bar in bars]\n",
    "stuff = ax.errorbar(ind_inactive[\"ideology_mean\"], ind_inactive[fishy_col] * 100, fmt='o',\n",
    "           xerr=ind_inactive[\"ideology_std\"], color=indgrey, alpha=0.2, ms=3)\n",
    "markers, caps, bars = stuff\n",
    "[bar.set_alpha(0.2) for bar in bars]\n",
    "\n",
    "ax.legend()\n",
    "ax.set_yscale('log')\n",
    "ax.set_ylabel(\"share of tweets with fishy links [%]\")\n",
    "ax.set_ylim(2e-2, 5e1)\n",
    "ax.set_xticks([])\n",
    "\n",
    "subsubset = subset[subset[fishy_col] == 0].copy()\n",
    "subsubset[fishy_col] = subsubset[fishy_col]\\\n",
    "    .apply(lambda x: x + np.random.rand() * 2 - 1)\n",
    "\n",
    "dem_active = subsubset[(subsubset[\"party\"] == \"Democrat\") & (subset[\"congress\"] == 117)]\n",
    "rep_active = subsubset[(subsubset[\"party\"] == \"Republican\") & (subset[\"congress\"] == 117)]\n",
    "ind_active = subsubset[(subsubset[\"party\"] == \"Independent\") & (subset[\"congress\"] == 117)]\n",
    "dem_inactive = subsubset[(subsubset[\"party\"] == \"Democrat\") & (subset[\"congress\"] != 117)]\n",
    "rep_inactive = subsubset[(subsubset[\"party\"] == \"Republican\") & (subset[\"congress\"] != 117)]\n",
    "ind_inactive = subsubset[(subsubset[\"party\"] == \"Independent\") & (subset[\"congress\"] != 117)]\n",
    "\n",
    "ax2.scatter(dem_active[\"ideology_mean\"], dem_active[fishy_col], color=demblue, alpha=0.5,\n",
    "            label=\"Democrat\", s=20, marker=\"^\")\n",
    "ax2.scatter(dem_inactive[\"ideology_mean\"], dem_inactive[fishy_col], color=demblue,\n",
    "            alpha=0.2, s=5)\n",
    "\n",
    "ax2.scatter(rep_active[\"ideology_mean\"], rep_active[fishy_col], color=repred, alpha=0.5,\n",
    "            label=\"Republican\", s=20, marker=\"^\")\n",
    "ax2.scatter(rep_inactive[\"ideology_mean\"], rep_inactive[fishy_col], color=repred,\n",
    "            alpha=0.2, s=5)\n",
    "\n",
    "ax2.scatter(ind_active[\"ideology_mean\"], ind_active[fishy_col], color=indgrey, alpha=0.3,\n",
    "            label=\"Independent\", s=20, marker=\"^\")\n",
    "ax2.scatter(ind_inactive[\"ideology_mean\"], ind_inactive[fishy_col], color=indgrey, \n",
    "            alpha=0.2, s=5)\n",
    "\n",
    "ax2.set_yticks([])\n",
    "ax2.set_xlabel(\"ideology score\")\n",
    "ax2.set_ylim([-1.5, 1.5])\n",
    "ax2.set_ylabel(\"no fishy\\nlinks\")\n",
    "plt.savefig(f\"../../plots/ideology_scores_and_fishy_links_cutoff_{cutoff}.pdf\")\n",
    "plt.savefig(f\"../../plots/ideology_scores_and_fishy_links_cutoff_{cutoff}.png\",\n",
    "            bbox_inches=\"tight\", facecolor=\"white\")"
   ]
  },
  {
   "cell_type": "markdown",
   "id": "a86479ee-d34b-4be0-877f-e6c2069e6c62",
   "metadata": {},
   "source": [
    "## Add truth seeking & belief speaking scores"
   ]
  },
  {
   "cell_type": "code",
   "execution_count": 174,
   "id": "3696c613-8c20-4f9a-b3f8-35e9bac65fb3",
   "metadata": {},
   "outputs": [],
   "source": [
    "src = \"../../data/twitter\""
   ]
  },
  {
   "cell_type": "code",
   "execution_count": 40,
   "id": "163ffb2d-c248-477d-aaba-902f68e41073",
   "metadata": {},
   "outputs": [
    {
     "name": "stdout",
     "output_type": "stream",
     "text": [
      "receiving incremental file list\n",
      "\n",
      "sent 20 bytes  received 138 bytes  105.33 bytes/sec\n",
      "total size is 667,007,968  speedup is 4,221,569.42\n"
     ]
    }
   ],
   "source": [
    "! rsync -avze ssh jlasser@medea:/data/honesty/corpora/Twitter/combined_US_politician_twitter_timelines_2010-11-06_to_2022-03-16_threshold_label.csv ../../data/twitter/combined_US_politician_twitter_timelines_2010-11-06_to_2022-03-16_threshold_label.csv --progress"
   ]
  },
  {
   "cell_type": "code",
   "execution_count": 175,
   "id": "ed1add77-277c-42c7-b8e2-3a26013b1e13",
   "metadata": {},
   "outputs": [],
   "source": [
    "fname = \"combined_US_politician_twitter_timelines_2010-11-06_to_2022-03-16_threshold_label.csv\"\n",
    "cols = [\"id\", \"author_id\", \"belief_label\", \"truth_label\", \"understanding_label\"]\n",
    "honesty_tweets = pd.read_csv(join(src, fname), usecols=cols)\n",
    "\n",
    "honesty_tweets[\"author_id\"] = honesty_tweets[\"author_id\"].apply(lambda x: x.replace('\"', ''))\n",
    "honesty_tweets[\"id\"] = honesty_tweets[\"id\"].apply(lambda x: x.replace('\"', ''))\n",
    "honesty_tweets = honesty_tweets.rename(columns={\n",
    "    \"belief_label\":\"belief\",\n",
    "    \"truth_label\":\"truth\",\n",
    "    \"understanding_label\":\"understanding\"})"
   ]
  },
  {
   "cell_type": "markdown",
   "id": "0c30c392-811a-4f70-93f6-1fb7c81de9cb",
   "metadata": {},
   "source": [
    "### User-level analysis"
   ]
  },
  {
   "cell_type": "code",
   "execution_count": 178,
   "id": "e6b557ba-7747-4c9d-bffa-f31637d179ea",
   "metadata": {},
   "outputs": [],
   "source": [
    "honesty_label_count = honesty_tweets[[\"author_id\", \"belief\", \"truth\", \"understanding\"]]\\\n",
    "    .groupby(\"author_id\")\\\n",
    "    .agg([\"sum\", \"count\"])\n",
    "\n",
    "for col in [\"belief\", \"truth\", \"understanding\"]:\n",
    "    honesty_label_count[f\"{col}_share\"] = honesty_label_count[col][\"sum\"] / \\\n",
    "    honesty_label_count[col][\"count\"]\n",
    "    \n",
    "honesty_label_count.columns = ['_'.join(col).strip(\"_\") \\\n",
    "                            for col in honesty_label_count.columns.values]\n",
    "honesty_label_count = honesty_label_count.reset_index()\n",
    "honesty_label_count[\"author_id\"] = honesty_label_count[\"author_id\"].apply(match_id)"
   ]
  },
  {
   "cell_type": "code",
   "execution_count": 179,
   "id": "e0ab6a71-7fce-4366-ba19-3034284ade1c",
   "metadata": {},
   "outputs": [],
   "source": [
    "user_df = user_df.merge(honesty_label_count, how=\"left\", left_on=\"author_id\", \n",
    "             right_on=\"author_id\")"
   ]
  },
  {
   "cell_type": "code",
   "execution_count": 257,
   "id": "9e10ed9e-2d8f-4de1-8ff9-274a27b5a312",
   "metadata": {},
   "outputs": [
    {
     "data": {
      "image/png": "[encoded data removed]",
      "text/plain": [
       "<Figure size 360x720 with 3 Axes>"
      ]
     },
     "metadata": {
      "needs_background": "light"
     },
     "output_type": "display_data"
    }
   ],
   "source": [
    "fig, axes = plt.subplots(3, 1, figsize=(5, 10))\n",
    "dem = user_df[user_df[\"party\"] == \"Democrat\"]\n",
    "rep = user_df[user_df[\"party\"] == \"Republican\"]\n",
    "ind = user_df[user_df[\"party\"] == \"Independent\"]\n",
    "\n",
    "for ax, col, label in zip(axes.flatten(), \n",
    "        [\"belief_share\", \"truth_share\", \"understanding_share\"],\n",
    "        [\"belief speaking\", \"truth seeking\", \"understanding\"]):\n",
    "    stuff = ax.errorbar(dem[\"ideology_mean\"], dem[col] * 100 + 0.1, fmt='o',\n",
    "               xerr=dem[\"ideology_std\"], color='b',\n",
    "               label=\"Democrat\", alpha=0.3)\n",
    "    markers, caps, bars = stuff\n",
    "    [bar.set_alpha(0.2) for bar in bars]\n",
    "\n",
    "    stuff = ax.errorbar(rep[\"ideology_mean\"], rep[col] * 100 + 0.1, fmt='o',\n",
    "               xerr=rep[\"ideology_std\"], color='r', label=\"Republican\", alpha=0.3)\n",
    "    markers, caps, bars = stuff\n",
    "    [bar.set_alpha(0.2) for bar in bars]\n",
    "\n",
    "    stuff = ax.errorbar(ind[\"ideology_mean\"], ind[col] * 100 + 0.1, fmt='o',\n",
    "               color='grey', label=\"Independent\", alpha=0.3)\n",
    "    markers, caps, bars = stuff\n",
    "    [bar.set_alpha(0.2) for bar in bars]\n",
    "\n",
    "    ax.legend(loc=2)\n",
    "    ax.set_xlabel(\"ideology score\")\n",
    "    ax.set_ylabel(f\"share of {label} tweets [%]\")\n",
    "    ax.set_ylim(0, 50)\n",
    "plt.savefig(\"../../plots/ideology_and_honesty_labels.pdf\")"
   ]
  },
  {
   "cell_type": "markdown",
   "id": "87260d04-4f74-468a-9f96-bd25d3424361",
   "metadata": {},
   "source": [
    "### Tweet-level analysis"
   ]
  },
  {
   "cell_type": "code",
   "execution_count": 258,
   "id": "3551178d-2299-45e0-9bd1-92525a867327",
   "metadata": {},
   "outputs": [
    {
     "data": {
      "text/plain": [
       "1824800"
      ]
     },
     "execution_count": 258,
     "metadata": {},
     "output_type": "execute_result"
    }
   ],
   "source": [
    "len(honesty_tweets)"
   ]
  },
  {
   "cell_type": "code",
   "execution_count": 259,
   "id": "5c44aa80-2af7-4ddb-8256-1d89a9a20a96",
   "metadata": {},
   "outputs": [],
   "source": [
    "original_tweets = all_tweets[all_tweets[\"retweeted\"] == False]#.drop_duplicates(subset=[\"id\"])"
   ]
  },
  {
   "cell_type": "code",
   "execution_count": 260,
   "id": "2946fc21-9f70-4361-be51-f077b8039dd2",
   "metadata": {},
   "outputs": [
    {
     "data": {
      "text/plain": [
       "2324378"
      ]
     },
     "execution_count": 260,
     "metadata": {},
     "output_type": "execute_result"
    }
   ],
   "source": [
    "len(original_tweets)"
   ]
  },
  {
   "cell_type": "code",
   "execution_count": 261,
   "id": "07fe385a-51d5-42f1-b055-41bdcc8fb0f0",
   "metadata": {},
   "outputs": [],
   "source": [
    "tweet_df = pd.merge(honesty_tweets[[\"id\", \"belief\", \"truth\", \"understanding\"]], \n",
    "         original_tweets, how=\"right\", left_on=\"id\", right_on=\"id\")"
   ]
  },
  {
   "cell_type": "code",
   "execution_count": 262,
   "id": "df934d7e-ad53-4a11-a6d5-57ac49434f8d",
   "metadata": {},
   "outputs": [
    {
     "data": {
      "text/plain": [
       "2324378"
      ]
     },
     "execution_count": 262,
     "metadata": {},
     "output_type": "execute_result"
    }
   ],
   "source": [
    "len(tweet_df)"
   ]
  },
  {
   "cell_type": "code",
   "execution_count": 263,
   "id": "38b18d03-d784-4084-a7e2-ba712c02965d",
   "metadata": {},
   "outputs": [],
   "source": [
    "#tweet_df[\"belief\"] = tweet_df[\"belief\"].fillna(0)\n",
    "#tweet_df[\"truth\"] = tweet_df[\"truth\"].fillna(0)\n",
    "#tweet_df[\"understanding\"] = tweet_df[\"understanding\"].fillna(0)"
   ]
  },
  {
   "cell_type": "code",
   "execution_count": 264,
   "id": "164e6cd0-bcfd-40c3-98fa-0aa3250f3ed7",
   "metadata": {},
   "outputs": [],
   "source": [
    "tweets_with_urls = tweet_df[tweet_df[\"has_url\"] == True]"
   ]
  },
  {
   "cell_type": "code",
   "execution_count": 265,
   "id": "2eaaecca-48af-40fc-ab26-49e987321048",
   "metadata": {},
   "outputs": [
    {
     "data": {
      "text/plain": [
       "1611219"
      ]
     },
     "execution_count": 265,
     "metadata": {},
     "output_type": "execute_result"
    }
   ],
   "source": [
    "len(tweets_with_urls[\"belief\"].dropna())"
   ]
  },
  {
   "cell_type": "code",
   "execution_count": 266,
   "id": "e347cb8d-56c9-40aa-b73d-06a695129758",
   "metadata": {},
   "outputs": [
    {
     "data": {
      "text/plain": [
       "1787962"
      ]
     },
     "execution_count": 266,
     "metadata": {},
     "output_type": "execute_result"
    }
   ],
   "source": [
    "len(tweets_with_urls)"
   ]
  },
  {
   "cell_type": "code",
   "execution_count": 272,
   "id": "5a8b3bc5-178e-47c9-a2b5-1bbeddb938be",
   "metadata": {},
   "outputs": [
    {
     "data": {
      "text/html": [
       "<div>\n",
       "<style scoped>\n",
       "    .dataframe tbody tr th:only-of-type {\n",
       "        vertical-align: middle;\n",
       "    }\n",
       "\n",
       "    .dataframe tbody tr th {\n",
       "        vertical-align: top;\n",
       "    }\n",
       "\n",
       "    .dataframe thead th {\n",
       "        text-align: right;\n",
       "    }\n",
       "</style>\n",
       "<table border=\"1\" class=\"dataframe\">\n",
       "  <thead>\n",
       "    <tr style=\"text-align: right;\">\n",
       "      <th></th>\n",
       "      <th>id</th>\n",
       "      <th>belief</th>\n",
       "      <th>truth</th>\n",
       "      <th>understanding</th>\n",
       "      <th>author_id</th>\n",
       "      <th>created_at</th>\n",
       "      <th>expanded_urls</th>\n",
       "      <th>retweeted</th>\n",
       "      <th>quoted</th>\n",
       "      <th>reply</th>\n",
       "      <th>...</th>\n",
       "      <th>Language</th>\n",
       "      <th>C_0</th>\n",
       "      <th>C_1</th>\n",
       "      <th>C_2</th>\n",
       "      <th>C_3</th>\n",
       "      <th>C_4</th>\n",
       "      <th>C_5</th>\n",
       "      <th>C_6</th>\n",
       "      <th>C_7</th>\n",
       "      <th>C_8</th>\n",
       "    </tr>\n",
       "  </thead>\n",
       "  <tbody>\n",
       "    <tr>\n",
       "      <th>0</th>\n",
       "      <td>1468826484668305411</td>\n",
       "      <td>0.0</td>\n",
       "      <td>0.0</td>\n",
       "      <td>1.0</td>\n",
       "      <td>20597460</td>\n",
       "      <td>2021-12-09T06:14:58.000Z</td>\n",
       "      <td>['https://twitter.com/nasa/status/146882382488...</td>\n",
       "      <td>False</td>\n",
       "      <td>True</td>\n",
       "      <td>False</td>\n",
       "      <td>...</td>\n",
       "      <td>NaN</td>\n",
       "      <td>NaN</td>\n",
       "      <td>NaN</td>\n",
       "      <td>NaN</td>\n",
       "      <td>NaN</td>\n",
       "      <td>NaN</td>\n",
       "      <td>NaN</td>\n",
       "      <td>NaN</td>\n",
       "      <td>NaN</td>\n",
       "      <td>NaN</td>\n",
       "    </tr>\n",
       "    <tr>\n",
       "      <th>1</th>\n",
       "      <td>1468326655789776906</td>\n",
       "      <td>0.0</td>\n",
       "      <td>0.0</td>\n",
       "      <td>1.0</td>\n",
       "      <td>20597460</td>\n",
       "      <td>2021-12-07T21:08:49.000Z</td>\n",
       "      <td>['https://www.nasa.gov/press-release/nasa-admi...</td>\n",
       "      <td>False</td>\n",
       "      <td>False</td>\n",
       "      <td>False</td>\n",
       "      <td>...</td>\n",
       "      <td>en</td>\n",
       "      <td>0.0</td>\n",
       "      <td>0.0</td>\n",
       "      <td>0.0</td>\n",
       "      <td>0.0</td>\n",
       "      <td>0.0</td>\n",
       "      <td>0.0</td>\n",
       "      <td>NaN</td>\n",
       "      <td>0.0</td>\n",
       "      <td>0.0</td>\n",
       "    </tr>\n",
       "    <tr>\n",
       "      <th>2</th>\n",
       "      <td>1468222412353413125</td>\n",
       "      <td>0.0</td>\n",
       "      <td>1.0</td>\n",
       "      <td>0.0</td>\n",
       "      <td>20597460</td>\n",
       "      <td>2021-12-07T14:14:36.000Z</td>\n",
       "      <td>['https://twitter.com/NASA/status/146816808383...</td>\n",
       "      <td>False</td>\n",
       "      <td>True</td>\n",
       "      <td>False</td>\n",
       "      <td>...</td>\n",
       "      <td>NaN</td>\n",
       "      <td>NaN</td>\n",
       "      <td>NaN</td>\n",
       "      <td>NaN</td>\n",
       "      <td>NaN</td>\n",
       "      <td>NaN</td>\n",
       "      <td>NaN</td>\n",
       "      <td>NaN</td>\n",
       "      <td>NaN</td>\n",
       "      <td>NaN</td>\n",
       "    </tr>\n",
       "    <tr>\n",
       "      <th>3</th>\n",
       "      <td>1468000953534144519</td>\n",
       "      <td>0.0</td>\n",
       "      <td>0.0</td>\n",
       "      <td>0.0</td>\n",
       "      <td>20597460</td>\n",
       "      <td>2021-12-06T23:34:36.000Z</td>\n",
       "      <td>['https://twitter.com/SenBillNelson/status/146...</td>\n",
       "      <td>False</td>\n",
       "      <td>False</td>\n",
       "      <td>False</td>\n",
       "      <td>...</td>\n",
       "      <td>NaN</td>\n",
       "      <td>NaN</td>\n",
       "      <td>NaN</td>\n",
       "      <td>NaN</td>\n",
       "      <td>NaN</td>\n",
       "      <td>NaN</td>\n",
       "      <td>NaN</td>\n",
       "      <td>NaN</td>\n",
       "      <td>NaN</td>\n",
       "      <td>NaN</td>\n",
       "    </tr>\n",
       "    <tr>\n",
       "      <th>4</th>\n",
       "      <td>1463270886367105028</td>\n",
       "      <td>0.0</td>\n",
       "      <td>1.0</td>\n",
       "      <td>0.0</td>\n",
       "      <td>20597460</td>\n",
       "      <td>2021-11-23T22:19:00.000Z</td>\n",
       "      <td>['https://twitter.com/SenBillNelson/status/146...</td>\n",
       "      <td>False</td>\n",
       "      <td>False</td>\n",
       "      <td>False</td>\n",
       "      <td>...</td>\n",
       "      <td>NaN</td>\n",
       "      <td>NaN</td>\n",
       "      <td>NaN</td>\n",
       "      <td>NaN</td>\n",
       "      <td>NaN</td>\n",
       "      <td>NaN</td>\n",
       "      <td>NaN</td>\n",
       "      <td>NaN</td>\n",
       "      <td>NaN</td>\n",
       "      <td>NaN</td>\n",
       "    </tr>\n",
       "  </tbody>\n",
       "</table>\n",
       "<p>5 rows × 33 columns</p>\n",
       "</div>"
      ],
      "text/plain": [
       "                    id  belief  truth  understanding author_id  \\\n",
       "0  1468826484668305411     0.0    0.0            1.0  20597460   \n",
       "1  1468326655789776906     0.0    0.0            1.0  20597460   \n",
       "2  1468222412353413125     0.0    1.0            0.0  20597460   \n",
       "3  1468000953534144519     0.0    0.0            0.0  20597460   \n",
       "4  1463270886367105028     0.0    1.0            0.0  20597460   \n",
       "\n",
       "                 created_at  \\\n",
       "0  2021-12-09T06:14:58.000Z   \n",
       "1  2021-12-07T21:08:49.000Z   \n",
       "2  2021-12-07T14:14:36.000Z   \n",
       "3  2021-12-06T23:34:36.000Z   \n",
       "4  2021-11-23T22:19:00.000Z   \n",
       "\n",
       "                                       expanded_urls  retweeted  quoted  \\\n",
       "0  ['https://twitter.com/nasa/status/146882382488...      False    True   \n",
       "1  ['https://www.nasa.gov/press-release/nasa-admi...      False   False   \n",
       "2  ['https://twitter.com/NASA/status/146816808383...      False    True   \n",
       "3  ['https://twitter.com/SenBillNelson/status/146...      False   False   \n",
       "4  ['https://twitter.com/SenBillNelson/status/146...      False   False   \n",
       "\n",
       "   reply  ...  Language  C_0  C_1  C_2  C_3  C_4  C_5  C_6  C_7  C_8  \n",
       "0  False  ...       NaN  NaN  NaN  NaN  NaN  NaN  NaN  NaN  NaN  NaN  \n",
       "1  False  ...        en  0.0  0.0  0.0  0.0  0.0  0.0  NaN  0.0  0.0  \n",
       "2  False  ...       NaN  NaN  NaN  NaN  NaN  NaN  NaN  NaN  NaN  NaN  \n",
       "3  False  ...       NaN  NaN  NaN  NaN  NaN  NaN  NaN  NaN  NaN  NaN  \n",
       "4  False  ...       NaN  NaN  NaN  NaN  NaN  NaN  NaN  NaN  NaN  NaN  \n",
       "\n",
       "[5 rows x 33 columns]"
      ]
     },
     "execution_count": 272,
     "metadata": {},
     "output_type": "execute_result"
    }
   ],
   "source": [
    "tweets_with_urls.head(5)"
   ]
  },
  {
   "cell_type": "code",
   "execution_count": 270,
   "id": "9322f63d-bd42-4f6e-a1d7-a71b822773f6",
   "metadata": {},
   "outputs": [
    {
     "data": {
      "text/html": [
       "<div>\n",
       "<style scoped>\n",
       "    .dataframe tbody tr th:only-of-type {\n",
       "        vertical-align: middle;\n",
       "    }\n",
       "\n",
       "    .dataframe tbody tr th {\n",
       "        vertical-align: top;\n",
       "    }\n",
       "\n",
       "    .dataframe thead th {\n",
       "        text-align: right;\n",
       "    }\n",
       "</style>\n",
       "<table border=\"1\" class=\"dataframe\">\n",
       "  <thead>\n",
       "    <tr style=\"text-align: right;\">\n",
       "      <th></th>\n",
       "      <th>belief</th>\n",
       "      <th>truth</th>\n",
       "      <th>understanding</th>\n",
       "    </tr>\n",
       "    <tr>\n",
       "      <th>fishy</th>\n",
       "      <th></th>\n",
       "      <th></th>\n",
       "      <th></th>\n",
       "    </tr>\n",
       "  </thead>\n",
       "  <tbody>\n",
       "    <tr>\n",
       "      <th>0.0</th>\n",
       "      <td>35993.0</td>\n",
       "      <td>45922.0</td>\n",
       "      <td>52920.0</td>\n",
       "    </tr>\n",
       "    <tr>\n",
       "      <th>1.0</th>\n",
       "      <td>660.0</td>\n",
       "      <td>842.0</td>\n",
       "      <td>1108.0</td>\n",
       "    </tr>\n",
       "  </tbody>\n",
       "</table>\n",
       "</div>"
      ],
      "text/plain": [
       "        belief    truth  understanding\n",
       "fishy                                 \n",
       "0.0    35993.0  45922.0        52920.0\n",
       "1.0      660.0    842.0         1108.0"
      ]
     },
     "execution_count": 270,
     "metadata": {},
     "output_type": "execute_result"
    }
   ],
   "source": [
    "agg"
   ]
  },
  {
   "cell_type": "code",
   "execution_count": 269,
   "id": "24afaac4-0128-4a34-a060-70d34129996c",
   "metadata": {},
   "outputs": [],
   "source": [
    "agg = tweets_with_urls[[\"fishy\"] + [\"belief\", \"truth\", \"understanding\"]]\\\n",
    "                .groupby(\"fishy\").agg(sum)"
   ]
  },
  {
   "cell_type": "code",
   "execution_count": 273,
   "id": "4584f2a9-3a86-408e-baa3-21b48dfe7e8a",
   "metadata": {},
   "outputs": [
    {
     "name": "stdout",
     "output_type": "stream",
     "text": [
      "0\n",
      "10\n",
      "20\n",
      "30\n",
      "40\n",
      "50\n",
      "60\n",
      "70\n",
      "80\n",
      "90\n"
     ]
    }
   ],
   "source": [
    "N_bootstrap = 100\n",
    "cols = [\"fishy\", \"fishy_40\", \"fishy_20\"] + [f\"C_{i}\" for i in range(0, 9)]\n",
    "bootstrap_results = pd.DataFrame()\n",
    "for i in range(N_bootstrap):\n",
    "    if i%10 == 0:\n",
    "        print(i)\n",
    "    tweet_sample = tweets_with_urls.sample(len(tweets_with_urls), replace=True)\n",
    "    row = {}\n",
    "    for col in cols:\n",
    "        agg = tweet_sample[[col] + [\"belief\", \"truth\", \"understanding\"]]\\\n",
    "                .groupby(col).agg(sum)\n",
    "        res = agg.loc[1] / agg.loc[0]\n",
    "        for comp in [\"belief\", \"truth\", \"understanding\"]:\n",
    "            bootstrap_results = bootstrap_results.append({\n",
    "                \"misinfo_label\":col,\n",
    "                \"honesty_component\":comp,\n",
    "                \"percentage\":res[comp]\n",
    "            }, ignore_index=True)"
   ]
  },
  {
   "cell_type": "code",
   "execution_count": 274,
   "id": "02d4fc43-fdb9-45f2-8cc5-8b11e1a19ef2",
   "metadata": {},
   "outputs": [],
   "source": [
    "tweets_with_urls = tweets_with_urls.merge(user_df[[\"author_id\", \"party\"]],\n",
    "                        how=\"left\", left_on=\"author_id\", right_on=\"author_id\")"
   ]
  },
  {
   "cell_type": "code",
   "execution_count": 278,
   "id": "d593ffa8-2a9b-467c-bc45-1295f64220d5",
   "metadata": {},
   "outputs": [
    {
     "name": "stdout",
     "output_type": "stream",
     "text": [
      "0\n",
      "10\n",
      "20\n",
      "30\n",
      "40\n",
      "50\n",
      "60\n",
      "70\n",
      "80\n",
      "90\n"
     ]
    }
   ],
   "source": [
    "N_bootstrap = 100\n",
    "cols = [\"fishy\", \"fishy_40\", \"fishy_20\"] + [f\"C_{i}\" for i in range(0, 9)]\n",
    "dem = tweets_with_urls[tweets_with_urls[\"party\"] == \"Democrat\"]\n",
    "bootstrap_results_dem = pd.DataFrame()\n",
    "for i in range(N_bootstrap):\n",
    "    if i%10 == 0:\n",
    "        print(i)\n",
    "    tweet_sample = dem.sample(len(dem), replace=True)\n",
    "    row = {}\n",
    "    for col in cols:\n",
    "        agg = tweet_sample[[col] + [\"belief\", \"truth\", \"understanding\"]]\\\n",
    "                .groupby(col).agg(sum)\n",
    "        \n",
    "        try:\n",
    "            res = agg.loc[1] / agg.loc[0]\n",
    "        except KeyError:\n",
    "            res = {\"belief\":0, \"truth\":0, \"understanding\":0}\n",
    "        for comp in [\"belief\", \"truth\", \"understanding\"]:\n",
    "            bootstrap_results_dem = bootstrap_results_dem.append({\n",
    "                \"misinfo_label\":col,\n",
    "                \"honesty_component\":comp,\n",
    "                \"percentage\":res[comp]\n",
    "            }, ignore_index=True)"
   ]
  },
  {
   "cell_type": "code",
   "execution_count": 279,
   "id": "175c3350-8368-4de3-beac-8f7f9e20363e",
   "metadata": {},
   "outputs": [
    {
     "name": "stdout",
     "output_type": "stream",
     "text": [
      "0\n",
      "10\n",
      "20\n",
      "30\n",
      "40\n",
      "50\n",
      "60\n",
      "70\n",
      "80\n",
      "90\n"
     ]
    }
   ],
   "source": [
    "N_bootstrap = 100\n",
    "cols = [\"fishy\", \"fishy_40\", \"fishy_20\"] + [f\"C_{i}\" for i in range(0, 9)]\n",
    "rep = tweets_with_urls[tweets_with_urls[\"party\"] == \"Republican\"]\n",
    "bootstrap_results_rep = pd.DataFrame()\n",
    "for i in range(N_bootstrap):\n",
    "    if i%10 == 0:\n",
    "        print(i)\n",
    "    tweet_sample = rep.sample(len(rep), replace=True)\n",
    "    row = {}\n",
    "    for col in cols:\n",
    "        agg = tweet_sample[[col] + [\"belief\", \"truth\", \"understanding\"]]\\\n",
    "                .groupby(col).agg(sum)\n",
    "        res = agg.loc[1] / agg.loc[0]\n",
    "        for comp in [\"belief\", \"truth\", \"understanding\"]:\n",
    "            bootstrap_results_rep = bootstrap_results_rep.append({\n",
    "                \"misinfo_label\":col,\n",
    "                \"honesty_component\":comp,\n",
    "                \"percentage\":res[comp]\n",
    "            }, ignore_index=True)"
   ]
  },
  {
   "cell_type": "code",
   "execution_count": 283,
   "id": "e62f010b-b233-4fba-95d0-893c29f43fa9",
   "metadata": {},
   "outputs": [],
   "source": [
    "# percentage of all tweets that have a given honesty component and are fishy\n",
    "bootstrap_results[\"percentage\"] = bootstrap_results[\"percentage\"] * 100"
   ]
  },
  {
   "cell_type": "code",
   "execution_count": 292,
   "id": "290dc605-a8b0-442b-a8ce-2ce28548ee2d",
   "metadata": {},
   "outputs": [
    {
     "data": {
      "image/png": "[encoded data removed]",
      "text/plain": [
       "<Figure size 432x288 with 1 Axes>"
      ]
     },
     "metadata": {
      "needs_background": "light"
     },
     "output_type": "display_data"
    }
   ],
   "source": [
    "subset = bootstrap_results[bootstrap_results[\"honesty_component\"] != \"understanding\"]\n",
    "order = [\"fishy\", \"C_4\", \"C_0\", \"C_1\", \"C_2\", \"C_6\", \"C_8\", \"C_7\",\n",
    "         \"C_3\", \"C_5\"]\n",
    "palette = [\"#1e3d59\", \"#ff6e40\", \"#ffc13b\"]\n",
    "g = sns.catplot(x=\"percentage\", y=\"misinfo_label\",\n",
    "                hue=\"honesty_component\",\n",
    "                data=subset, kind=\"bar\",\n",
    "                height=4, aspect=1.5, order=order,\n",
    "                legend_out=False, palette=palette);\n",
    "g.ax.set_ylabel(\"\")\n",
    "g.ax.set_xlabel(\"share of tweets within an honesty component \\nthat fulfills the NewsGuard criterion [%]\")\n",
    "yticklabels = [nut_cat_dict[lab] for lab in order]\n",
    "g.ax.set_yticklabels(yticklabels, fontsize=8)\n",
    "g.ax.legend().set_title(\"honesty component\")\n",
    "\n",
    "for col, y in zip(order, range(0, 10)):\n",
    "    col_data = bootstrap_results[bootstrap_results[\"misinfo_label\"] == col]\n",
    "    x = col_data[[\"honesty_component\", \"percentage\"]]\\\n",
    "        .groupby(\"honesty_component\")\\\n",
    "        .agg(\"mean\").max()[\"percentage\"]\n",
    "    N = int(tweets_with_urls[col].sum())\n",
    "    if col in order[-4:]:\n",
    "        mod = -1.3\n",
    "    else:\n",
    "        mod = 0.2\n",
    "    #g.ax.text(x + mod, y, f\"N={N}\", fontsize=8, color=\"grey\")\n",
    "fig.tight_layout()\n",
    "plt.savefig(\"../../plots/fishy_links_and_honesty_components.png\",\n",
    "            bbox_inches=\"tight\", facecolor=\"white\")"
   ]
  },
  {
   "cell_type": "code",
   "execution_count": 293,
   "id": "83c1619e-211a-42c3-91bf-c726b4404613",
   "metadata": {},
   "outputs": [],
   "source": [
    "bootstrap_results_dem[\"party\"] = \"dem\"\n",
    "bootstrap_results_rep[\"party\"] = \"rep\"\n",
    "bootstrap_results_party = pd.concat([bootstrap_results_dem,\n",
    "                                     bootstrap_results_rep])\\\n",
    "    .reset_index(drop=True)\n",
    "bootstrap_results_party[\"percentage\"] = bootstrap_results_party[\"percentage\"] * 100"
   ]
  },
  {
   "cell_type": "code",
   "execution_count": 296,
   "id": "6280c671-9e9f-449b-b64e-a7af2c2e754c",
   "metadata": {},
   "outputs": [
    {
     "data": {
      "image/png": "[encoded data removed]",
      "text/plain": [
       "<Figure size 864x288 with 2 Axes>"
      ]
     },
     "metadata": {
      "needs_background": "light"
     },
     "output_type": "display_data"
    }
   ],
   "source": [
    "subset = bootstrap_results_party[bootstrap_results_party[\"honesty_component\"] != \"understanding\"]\n",
    "\n",
    "order = [\"C_4\", \"fishy\", \"C_0\", \"C_6\", \"C_8\", \"C_7\",\n",
    "         \"C_1\", \"C_2\", \"C_3\", \"C_5\"]\n",
    "palette = [\"#1e3d59\", \"#ff6e40\", \"#ffc13b\"]\n",
    "g = sns.catplot(x=\"percentage\", y=\"misinfo_label\",\n",
    "                hue=\"honesty_component\", col=\"party\",\n",
    "                data=subset, kind=\"bar\",\n",
    "                height=4, aspect=1.5, order=order,\n",
    "                legend_out=False, palette=palette);\n",
    "g.axes[0][0].set_ylabel(\"\")\n",
    "g.axes[0][0].set_ylabel(\"\")\n",
    "g.axes[0][0].set_xlabel(\"share of tweets within an honesty component \\nthat fulfills the NewsGuard criterion [%]\")\n",
    "g.axes[0][1].set_xlabel(\"share of tweets within an honesty component \\nthat fulfills the NewsGuard criterion [%]\")\n",
    "yticklabels = [nut_cat_dict[lab] for lab in order]\n",
    "g.axes[0][0].set_yticklabels(yticklabels, fontsize=8)\n",
    "g.axes[0][0].legend().set_title(\"honesty component\")\n",
    "\n",
    "fig.tight_layout()\n",
    "plt.savefig(\"../../plots/fishy_links_and_honesty_components_partysplit.png\",\n",
    "            bbox_inches=\"tight\", facecolor=\"white\")"
   ]
  },
  {
   "cell_type": "code",
   "execution_count": null,
   "id": "b349755f-6902-4574-9f7a-87e0ee675e0b",
   "metadata": {},
   "outputs": [],
   "source": [
    "dem = tweets_with_urls[tweets_with_urls[\"party\"] == \"Democrat\"]\n",
    "rep = tweets_with_urls[tweets_with_urls[\"party\"] == \"Republican\"]"
   ]
  },
  {
   "cell_type": "code",
   "execution_count": null,
   "id": "682fe34c-579a-4d76-a081-181be2309671",
   "metadata": {},
   "outputs": [],
   "source": [
    "belief_mean = dem[dem[\"belief\"] == True][\"Score\"].mean()\n",
    "belief_std = dem[dem[\"belief\"] == True][\"Score\"].std()\n",
    "truth_mean = dem[dem[\"truth\"] == True][\"Score\"].mean()\n",
    "truth_std = dem[dem[\"truth\"] == True][\"Score\"].std()\n",
    "understanding_mean = dem[dem[\"understanding\"] == True][\"Score\"].mean()\n",
    "understanding_std = dem[dem[\"understanding\"] == True][\"Score\"].std()\n",
    "print(\"belief: {:1.2f} +- {:1.2f}\".format(belief_mean, belief_std))\n",
    "print(\"truth: {:1.2f} +- {:1.2f}\".format(truth_mean, truth_std))\n",
    "print(\"understanding: {:1.2f} +- {:1.2f}\".format(understanding_mean, understanding_std))"
   ]
  },
  {
   "cell_type": "code",
   "execution_count": null,
   "id": "ec591c2f-8628-4fb4-936e-0c4e4f559f26",
   "metadata": {},
   "outputs": [],
   "source": [
    "belief_mean = rep[rep[\"belief\"] == True][\"Score\"].mean()\n",
    "belief_std = rep[rep[\"belief\"] == True][\"Score\"].std()\n",
    "truth_mean = rep[rep[\"truth\"] == True][\"Score\"].mean()\n",
    "truth_std = rep[rep[\"truth\"] == True][\"Score\"].std()\n",
    "understanding_mean = rep[rep[\"understanding\"] == True][\"Score\"].mean()\n",
    "understanding_std = rep[rep[\"understanding\"] == True][\"Score\"].std()\n",
    "print(\"belief: {:1.2f} +- {:1.2f}\".format(belief_mean, belief_std))\n",
    "print(\"truth: {:1.2f} +- {:1.2f}\".format(truth_mean, truth_std))\n",
    "print(\"understanding: {:1.2f} +- {:1.2f}\".format(understanding_mean, understanding_std))"
   ]
  },
  {
   "cell_type": "markdown",
   "id": "8630d549-be63-4151-8880-9ea24096f736",
   "metadata": {},
   "source": [
    "## Belief-speaking-vs-truth-seeking index"
   ]
  },
  {
   "cell_type": "code",
   "execution_count": 117,
   "id": "15e622ec-3fe1-4935-b5e3-475cd7db53ba",
   "metadata": {},
   "outputs": [
    {
     "data": {
      "text/html": [
       "<div>\n",
       "<style scoped>\n",
       "    .dataframe tbody tr th:only-of-type {\n",
       "        vertical-align: middle;\n",
       "    }\n",
       "\n",
       "    .dataframe tbody tr th {\n",
       "        vertical-align: top;\n",
       "    }\n",
       "\n",
       "    .dataframe thead th {\n",
       "        text-align: right;\n",
       "    }\n",
       "</style>\n",
       "<table border=\"1\" class=\"dataframe\">\n",
       "  <thead>\n",
       "    <tr style=\"text-align: right;\">\n",
       "      <th></th>\n",
       "      <th>handle</th>\n",
       "      <th>author_id</th>\n",
       "      <th>fishy_sum</th>\n",
       "      <th>fishy_count</th>\n",
       "      <th>C_0_sum</th>\n",
       "      <th>C_0_count</th>\n",
       "      <th>C_1_sum</th>\n",
       "      <th>C_1_count</th>\n",
       "      <th>C_2_sum</th>\n",
       "      <th>C_2_count</th>\n",
       "      <th>...</th>\n",
       "      <th>ideology_count</th>\n",
       "      <th>belief_sum</th>\n",
       "      <th>belief_count</th>\n",
       "      <th>truth_sum</th>\n",
       "      <th>truth_count</th>\n",
       "      <th>understanding_sum</th>\n",
       "      <th>understanding_count</th>\n",
       "      <th>belief_share</th>\n",
       "      <th>truth_share</th>\n",
       "      <th>understanding_share</th>\n",
       "    </tr>\n",
       "  </thead>\n",
       "  <tbody>\n",
       "    <tr>\n",
       "      <th>0</th>\n",
       "      <td>RepLipinski</td>\n",
       "      <td>1009269193</td>\n",
       "      <td>0.0</td>\n",
       "      <td>1578</td>\n",
       "      <td>0.0</td>\n",
       "      <td>1558</td>\n",
       "      <td>1.0</td>\n",
       "      <td>1558</td>\n",
       "      <td>49.0</td>\n",
       "      <td>1558</td>\n",
       "      <td>...</td>\n",
       "      <td>8.0</td>\n",
       "      <td>262.0</td>\n",
       "      <td>2585.0</td>\n",
       "      <td>489.0</td>\n",
       "      <td>2585.0</td>\n",
       "      <td>615.0</td>\n",
       "      <td>2585.0</td>\n",
       "      <td>0.101354</td>\n",
       "      <td>0.189168</td>\n",
       "      <td>0.237911</td>\n",
       "    </tr>\n",
       "    <tr>\n",
       "      <th>1</th>\n",
       "      <td>CaptClayHiggins</td>\n",
       "      <td>1011053278304592000</td>\n",
       "      <td>0.0</td>\n",
       "      <td>15</td>\n",
       "      <td>0.0</td>\n",
       "      <td>15</td>\n",
       "      <td>0.0</td>\n",
       "      <td>15</td>\n",
       "      <td>0.0</td>\n",
       "      <td>15</td>\n",
       "      <td>...</td>\n",
       "      <td>8.0</td>\n",
       "      <td>1.0</td>\n",
       "      <td>13.0</td>\n",
       "      <td>3.0</td>\n",
       "      <td>13.0</td>\n",
       "      <td>2.0</td>\n",
       "      <td>13.0</td>\n",
       "      <td>0.076923</td>\n",
       "      <td>0.230769</td>\n",
       "      <td>0.153846</td>\n",
       "    </tr>\n",
       "    <tr>\n",
       "      <th>2</th>\n",
       "      <td>SenBillCassidy</td>\n",
       "      <td>1017500185356852992</td>\n",
       "      <td>5.0</td>\n",
       "      <td>1971</td>\n",
       "      <td>6.0</td>\n",
       "      <td>1946</td>\n",
       "      <td>78.0</td>\n",
       "      <td>1946</td>\n",
       "      <td>97.0</td>\n",
       "      <td>1946</td>\n",
       "      <td>...</td>\n",
       "      <td>8.0</td>\n",
       "      <td>368.0</td>\n",
       "      <td>2731.0</td>\n",
       "      <td>482.0</td>\n",
       "      <td>2731.0</td>\n",
       "      <td>502.0</td>\n",
       "      <td>2731.0</td>\n",
       "      <td>0.134749</td>\n",
       "      <td>0.176492</td>\n",
       "      <td>0.183815</td>\n",
       "    </tr>\n",
       "    <tr>\n",
       "      <th>3</th>\n",
       "      <td>RepWexton</td>\n",
       "      <td>1017819745880542976</td>\n",
       "      <td>0.0</td>\n",
       "      <td>1308</td>\n",
       "      <td>0.0</td>\n",
       "      <td>1290</td>\n",
       "      <td>4.0</td>\n",
       "      <td>1290</td>\n",
       "      <td>85.0</td>\n",
       "      <td>1290</td>\n",
       "      <td>...</td>\n",
       "      <td>2.0</td>\n",
       "      <td>417.0</td>\n",
       "      <td>3027.0</td>\n",
       "      <td>641.0</td>\n",
       "      <td>3027.0</td>\n",
       "      <td>734.0</td>\n",
       "      <td>3027.0</td>\n",
       "      <td>0.137760</td>\n",
       "      <td>0.211761</td>\n",
       "      <td>0.242484</td>\n",
       "    </tr>\n",
       "    <tr>\n",
       "      <th>4</th>\n",
       "      <td>AugustPfluger</td>\n",
       "      <td>1021216905795899008</td>\n",
       "      <td>0.0</td>\n",
       "      <td>981</td>\n",
       "      <td>0.0</td>\n",
       "      <td>974</td>\n",
       "      <td>194.0</td>\n",
       "      <td>974</td>\n",
       "      <td>108.0</td>\n",
       "      <td>974</td>\n",
       "      <td>...</td>\n",
       "      <td>NaN</td>\n",
       "      <td>212.0</td>\n",
       "      <td>1736.0</td>\n",
       "      <td>272.0</td>\n",
       "      <td>1736.0</td>\n",
       "      <td>283.0</td>\n",
       "      <td>1736.0</td>\n",
       "      <td>0.122120</td>\n",
       "      <td>0.156682</td>\n",
       "      <td>0.163018</td>\n",
       "    </tr>\n",
       "    <tr>\n",
       "      <th>...</th>\n",
       "      <td>...</td>\n",
       "      <td>...</td>\n",
       "      <td>...</td>\n",
       "      <td>...</td>\n",
       "      <td>...</td>\n",
       "      <td>...</td>\n",
       "      <td>...</td>\n",
       "      <td>...</td>\n",
       "      <td>...</td>\n",
       "      <td>...</td>\n",
       "      <td>...</td>\n",
       "      <td>...</td>\n",
       "      <td>...</td>\n",
       "      <td>...</td>\n",
       "      <td>...</td>\n",
       "      <td>...</td>\n",
       "      <td>...</td>\n",
       "      <td>...</td>\n",
       "      <td>...</td>\n",
       "      <td>...</td>\n",
       "      <td>...</td>\n",
       "    </tr>\n",
       "    <tr>\n",
       "      <th>1030</th>\n",
       "      <td>jeffsessions</td>\n",
       "      <td>986781648</td>\n",
       "      <td>5.0</td>\n",
       "      <td>929</td>\n",
       "      <td>5.0</td>\n",
       "      <td>911</td>\n",
       "      <td>83.0</td>\n",
       "      <td>911</td>\n",
       "      <td>67.0</td>\n",
       "      <td>911</td>\n",
       "      <td>...</td>\n",
       "      <td>4.0</td>\n",
       "      <td>206.0</td>\n",
       "      <td>1057.0</td>\n",
       "      <td>216.0</td>\n",
       "      <td>1057.0</td>\n",
       "      <td>276.0</td>\n",
       "      <td>1057.0</td>\n",
       "      <td>0.194891</td>\n",
       "      <td>0.204352</td>\n",
       "      <td>0.261116</td>\n",
       "    </tr>\n",
       "    <tr>\n",
       "      <th>1031</th>\n",
       "      <td>JahanaHayesCT</td>\n",
       "      <td>991721030631780352</td>\n",
       "      <td>0.0</td>\n",
       "      <td>623</td>\n",
       "      <td>0.0</td>\n",
       "      <td>613</td>\n",
       "      <td>0.0</td>\n",
       "      <td>613</td>\n",
       "      <td>11.0</td>\n",
       "      <td>613</td>\n",
       "      <td>...</td>\n",
       "      <td>2.0</td>\n",
       "      <td>138.0</td>\n",
       "      <td>849.0</td>\n",
       "      <td>120.0</td>\n",
       "      <td>849.0</td>\n",
       "      <td>170.0</td>\n",
       "      <td>849.0</td>\n",
       "      <td>0.162544</td>\n",
       "      <td>0.141343</td>\n",
       "      <td>0.200236</td>\n",
       "    </tr>\n",
       "    <tr>\n",
       "      <th>1032</th>\n",
       "      <td>RodneyDavis</td>\n",
       "      <td>993153006</td>\n",
       "      <td>1.0</td>\n",
       "      <td>1633</td>\n",
       "      <td>1.0</td>\n",
       "      <td>1551</td>\n",
       "      <td>25.0</td>\n",
       "      <td>1551</td>\n",
       "      <td>29.0</td>\n",
       "      <td>1551</td>\n",
       "      <td>...</td>\n",
       "      <td>8.0</td>\n",
       "      <td>232.0</td>\n",
       "      <td>2281.0</td>\n",
       "      <td>383.0</td>\n",
       "      <td>2281.0</td>\n",
       "      <td>501.0</td>\n",
       "      <td>2281.0</td>\n",
       "      <td>0.101710</td>\n",
       "      <td>0.167909</td>\n",
       "      <td>0.219641</td>\n",
       "    </tr>\n",
       "    <tr>\n",
       "      <th>1033</th>\n",
       "      <td>RepDelBene</td>\n",
       "      <td>995193054</td>\n",
       "      <td>0.0</td>\n",
       "      <td>1967</td>\n",
       "      <td>0.0</td>\n",
       "      <td>1938</td>\n",
       "      <td>1.0</td>\n",
       "      <td>1938</td>\n",
       "      <td>23.0</td>\n",
       "      <td>1938</td>\n",
       "      <td>...</td>\n",
       "      <td>8.0</td>\n",
       "      <td>329.0</td>\n",
       "      <td>2913.0</td>\n",
       "      <td>467.0</td>\n",
       "      <td>2913.0</td>\n",
       "      <td>471.0</td>\n",
       "      <td>2913.0</td>\n",
       "      <td>0.112942</td>\n",
       "      <td>0.160316</td>\n",
       "      <td>0.161689</td>\n",
       "    </tr>\n",
       "    <tr>\n",
       "      <th>1034</th>\n",
       "      <td>RepDLesko</td>\n",
       "      <td>996094929733652480</td>\n",
       "      <td>14.0</td>\n",
       "      <td>1698</td>\n",
       "      <td>18.0</td>\n",
       "      <td>1688</td>\n",
       "      <td>301.0</td>\n",
       "      <td>1688</td>\n",
       "      <td>77.0</td>\n",
       "      <td>1688</td>\n",
       "      <td>...</td>\n",
       "      <td>3.0</td>\n",
       "      <td>386.0</td>\n",
       "      <td>3669.0</td>\n",
       "      <td>664.0</td>\n",
       "      <td>3669.0</td>\n",
       "      <td>701.0</td>\n",
       "      <td>3669.0</td>\n",
       "      <td>0.105206</td>\n",
       "      <td>0.180976</td>\n",
       "      <td>0.191060</td>\n",
       "    </tr>\n",
       "  </tbody>\n",
       "</table>\n",
       "<p>1035 rows × 48 columns</p>\n",
       "</div>"
      ],
      "text/plain": [
       "               handle            author_id  fishy_sum  fishy_count  C_0_sum  \\\n",
       "0         RepLipinski           1009269193        0.0         1578      0.0   \n",
       "1     CaptClayHiggins  1011053278304592000        0.0           15      0.0   \n",
       "2      SenBillCassidy  1017500185356852992        5.0         1971      6.0   \n",
       "3           RepWexton  1017819745880542976        0.0         1308      0.0   \n",
       "4       AugustPfluger  1021216905795899008        0.0          981      0.0   \n",
       "...               ...                  ...        ...          ...      ...   \n",
       "1030     jeffsessions            986781648        5.0          929      5.0   \n",
       "1031    JahanaHayesCT   991721030631780352        0.0          623      0.0   \n",
       "1032      RodneyDavis            993153006        1.0         1633      1.0   \n",
       "1033       RepDelBene            995193054        0.0         1967      0.0   \n",
       "1034        RepDLesko   996094929733652480       14.0         1698     18.0   \n",
       "\n",
       "      C_0_count  C_1_sum  C_1_count  C_2_sum  C_2_count  ...  ideology_count  \\\n",
       "0          1558      1.0       1558     49.0       1558  ...             8.0   \n",
       "1            15      0.0         15      0.0         15  ...             8.0   \n",
       "2          1946     78.0       1946     97.0       1946  ...             8.0   \n",
       "3          1290      4.0       1290     85.0       1290  ...             2.0   \n",
       "4           974    194.0        974    108.0        974  ...             NaN   \n",
       "...         ...      ...        ...      ...        ...  ...             ...   \n",
       "1030        911     83.0        911     67.0        911  ...             4.0   \n",
       "1031        613      0.0        613     11.0        613  ...             2.0   \n",
       "1032       1551     25.0       1551     29.0       1551  ...             8.0   \n",
       "1033       1938      1.0       1938     23.0       1938  ...             8.0   \n",
       "1034       1688    301.0       1688     77.0       1688  ...             3.0   \n",
       "\n",
       "      belief_sum  belief_count  truth_sum  truth_count  understanding_sum  \\\n",
       "0          262.0        2585.0      489.0       2585.0              615.0   \n",
       "1            1.0          13.0        3.0         13.0                2.0   \n",
       "2          368.0        2731.0      482.0       2731.0              502.0   \n",
       "3          417.0        3027.0      641.0       3027.0              734.0   \n",
       "4          212.0        1736.0      272.0       1736.0              283.0   \n",
       "...          ...           ...        ...          ...                ...   \n",
       "1030       206.0        1057.0      216.0       1057.0              276.0   \n",
       "1031       138.0         849.0      120.0        849.0              170.0   \n",
       "1032       232.0        2281.0      383.0       2281.0              501.0   \n",
       "1033       329.0        2913.0      467.0       2913.0              471.0   \n",
       "1034       386.0        3669.0      664.0       3669.0              701.0   \n",
       "\n",
       "      understanding_count  belief_share  truth_share  understanding_share  \n",
       "0                  2585.0      0.101354     0.189168             0.237911  \n",
       "1                    13.0      0.076923     0.230769             0.153846  \n",
       "2                  2731.0      0.134749     0.176492             0.183815  \n",
       "3                  3027.0      0.137760     0.211761             0.242484  \n",
       "4                  1736.0      0.122120     0.156682             0.163018  \n",
       "...                   ...           ...          ...                  ...  \n",
       "1030               1057.0      0.194891     0.204352             0.261116  \n",
       "1031                849.0      0.162544     0.141343             0.200236  \n",
       "1032               2281.0      0.101710     0.167909             0.219641  \n",
       "1033               2913.0      0.112942     0.160316             0.161689  \n",
       "1034               3669.0      0.105206     0.180976             0.191060  \n",
       "\n",
       "[1035 rows x 48 columns]"
      ]
     },
     "execution_count": 117,
     "metadata": {},
     "output_type": "execute_result"
    }
   ],
   "source": [
    "user_df"
   ]
  },
  {
   "cell_type": "code",
   "execution_count": 122,
   "id": "3a4947af-b6a4-4166-878a-f72ee735e4a0",
   "metadata": {},
   "outputs": [
    {
     "data": {
      "text/plain": [
       "0       0.651132\n",
       "3       0.605860\n",
       "5       1.000000\n",
       "8       0.580815\n",
       "11      0.477513\n",
       "          ...   \n",
       "1021    0.535168\n",
       "1023    0.456000\n",
       "1027    0.730159\n",
       "1031    0.465116\n",
       "1033    0.586683\n",
       "Length: 530, dtype: float64"
      ]
     },
     "execution_count": 122,
     "metadata": {},
     "output_type": "execute_result"
    },
    {
     "data": {
      "image/png": "[encoded data removed]",
      "text/plain": [
       "<Figure size 432x288 with 1 Axes>"
      ]
     },
     "metadata": {
      "needs_background": "light"
     },
     "output_type": "display_data"
    }
   ],
   "source": [
    "dem = user_df[user_df[\"party\"] == \"Democrat\"]\n",
    "rep = user_df[user_df[\"party\"] == \"Republican\"]\n",
    "ind = user_df[user_df[\"party\"] == \"Independent\"]\n",
    "\n",
    "fig, ax = plt.subplots()\n",
    "dem[\"truth_sum\"] / (dem[\"belief_sum\"] + dem[\"truth_sum\"])\n",
    "ax.scatter()"
   ]
  },
  {
   "cell_type": "code",
   "execution_count": 119,
   "id": "92fe3275-f3bb-42e9-8b31-e85ea1d92fc7",
   "metadata": {},
   "outputs": [
    {
     "data": {
      "text/html": [
       "<div>\n",
       "<style scoped>\n",
       "    .dataframe tbody tr th:only-of-type {\n",
       "        vertical-align: middle;\n",
       "    }\n",
       "\n",
       "    .dataframe tbody tr th {\n",
       "        vertical-align: top;\n",
       "    }\n",
       "\n",
       "    .dataframe thead th {\n",
       "        text-align: right;\n",
       "    }\n",
       "</style>\n",
       "<table border=\"1\" class=\"dataframe\">\n",
       "  <thead>\n",
       "    <tr style=\"text-align: right;\">\n",
       "      <th></th>\n",
       "      <th>handle</th>\n",
       "      <th>author_id</th>\n",
       "      <th>fishy_sum</th>\n",
       "      <th>fishy_count</th>\n",
       "      <th>C_0_sum</th>\n",
       "      <th>C_0_count</th>\n",
       "      <th>C_1_sum</th>\n",
       "      <th>C_1_count</th>\n",
       "      <th>C_2_sum</th>\n",
       "      <th>C_2_count</th>\n",
       "      <th>...</th>\n",
       "      <th>ideology_count</th>\n",
       "      <th>belief_sum</th>\n",
       "      <th>belief_count</th>\n",
       "      <th>truth_sum</th>\n",
       "      <th>truth_count</th>\n",
       "      <th>understanding_sum</th>\n",
       "      <th>understanding_count</th>\n",
       "      <th>belief_share</th>\n",
       "      <th>truth_share</th>\n",
       "      <th>understanding_share</th>\n",
       "    </tr>\n",
       "  </thead>\n",
       "  <tbody>\n",
       "    <tr>\n",
       "      <th>0</th>\n",
       "      <td>RepLipinski</td>\n",
       "      <td>1009269193</td>\n",
       "      <td>0.0</td>\n",
       "      <td>1578</td>\n",
       "      <td>0.0</td>\n",
       "      <td>1558</td>\n",
       "      <td>1.0</td>\n",
       "      <td>1558</td>\n",
       "      <td>49.0</td>\n",
       "      <td>1558</td>\n",
       "      <td>...</td>\n",
       "      <td>8.0</td>\n",
       "      <td>262.0</td>\n",
       "      <td>2585.0</td>\n",
       "      <td>489.0</td>\n",
       "      <td>2585.0</td>\n",
       "      <td>615.0</td>\n",
       "      <td>2585.0</td>\n",
       "      <td>0.101354</td>\n",
       "      <td>0.189168</td>\n",
       "      <td>0.237911</td>\n",
       "    </tr>\n",
       "    <tr>\n",
       "      <th>3</th>\n",
       "      <td>RepWexton</td>\n",
       "      <td>1017819745880542976</td>\n",
       "      <td>0.0</td>\n",
       "      <td>1308</td>\n",
       "      <td>0.0</td>\n",
       "      <td>1290</td>\n",
       "      <td>4.0</td>\n",
       "      <td>1290</td>\n",
       "      <td>85.0</td>\n",
       "      <td>1290</td>\n",
       "      <td>...</td>\n",
       "      <td>2.0</td>\n",
       "      <td>417.0</td>\n",
       "      <td>3027.0</td>\n",
       "      <td>641.0</td>\n",
       "      <td>3027.0</td>\n",
       "      <td>734.0</td>\n",
       "      <td>3027.0</td>\n",
       "      <td>0.137760</td>\n",
       "      <td>0.211761</td>\n",
       "      <td>0.242484</td>\n",
       "    </tr>\n",
       "    <tr>\n",
       "      <th>5</th>\n",
       "      <td>DickBlumenthal</td>\n",
       "      <td>102477372</td>\n",
       "      <td>0.0</td>\n",
       "      <td>6</td>\n",
       "      <td>0.0</td>\n",
       "      <td>6</td>\n",
       "      <td>0.0</td>\n",
       "      <td>6</td>\n",
       "      <td>0.0</td>\n",
       "      <td>6</td>\n",
       "      <td>...</td>\n",
       "      <td>8.0</td>\n",
       "      <td>0.0</td>\n",
       "      <td>11.0</td>\n",
       "      <td>2.0</td>\n",
       "      <td>11.0</td>\n",
       "      <td>4.0</td>\n",
       "      <td>11.0</td>\n",
       "      <td>0.000000</td>\n",
       "      <td>0.181818</td>\n",
       "      <td>0.363636</td>\n",
       "    </tr>\n",
       "    <tr>\n",
       "      <th>8</th>\n",
       "      <td>RepMarkTakano</td>\n",
       "      <td>1037321378</td>\n",
       "      <td>0.0</td>\n",
       "      <td>1812</td>\n",
       "      <td>0.0</td>\n",
       "      <td>1798</td>\n",
       "      <td>3.0</td>\n",
       "      <td>1798</td>\n",
       "      <td>11.0</td>\n",
       "      <td>1798</td>\n",
       "      <td>...</td>\n",
       "      <td>8.0</td>\n",
       "      <td>319.0</td>\n",
       "      <td>2468.0</td>\n",
       "      <td>442.0</td>\n",
       "      <td>2468.0</td>\n",
       "      <td>463.0</td>\n",
       "      <td>2468.0</td>\n",
       "      <td>0.129254</td>\n",
       "      <td>0.179092</td>\n",
       "      <td>0.187601</td>\n",
       "    </tr>\n",
       "    <tr>\n",
       "      <th>11</th>\n",
       "      <td>RepDanKildee</td>\n",
       "      <td>1045110018</td>\n",
       "      <td>0.0</td>\n",
       "      <td>1606</td>\n",
       "      <td>0.0</td>\n",
       "      <td>1566</td>\n",
       "      <td>13.0</td>\n",
       "      <td>1566</td>\n",
       "      <td>61.0</td>\n",
       "      <td>1566</td>\n",
       "      <td>...</td>\n",
       "      <td>8.0</td>\n",
       "      <td>395.0</td>\n",
       "      <td>2681.0</td>\n",
       "      <td>361.0</td>\n",
       "      <td>2681.0</td>\n",
       "      <td>500.0</td>\n",
       "      <td>2681.0</td>\n",
       "      <td>0.147333</td>\n",
       "      <td>0.134651</td>\n",
       "      <td>0.186498</td>\n",
       "    </tr>\n",
       "    <tr>\n",
       "      <th>...</th>\n",
       "      <td>...</td>\n",
       "      <td>...</td>\n",
       "      <td>...</td>\n",
       "      <td>...</td>\n",
       "      <td>...</td>\n",
       "      <td>...</td>\n",
       "      <td>...</td>\n",
       "      <td>...</td>\n",
       "      <td>...</td>\n",
       "      <td>...</td>\n",
       "      <td>...</td>\n",
       "      <td>...</td>\n",
       "      <td>...</td>\n",
       "      <td>...</td>\n",
       "      <td>...</td>\n",
       "      <td>...</td>\n",
       "      <td>...</td>\n",
       "      <td>...</td>\n",
       "      <td>...</td>\n",
       "      <td>...</td>\n",
       "      <td>...</td>\n",
       "    </tr>\n",
       "    <tr>\n",
       "      <th>1021</th>\n",
       "      <td>ReElectHank</td>\n",
       "      <td>97583689</td>\n",
       "      <td>0.0</td>\n",
       "      <td>867</td>\n",
       "      <td>0.0</td>\n",
       "      <td>837</td>\n",
       "      <td>8.0</td>\n",
       "      <td>837</td>\n",
       "      <td>30.0</td>\n",
       "      <td>837</td>\n",
       "      <td>...</td>\n",
       "      <td>8.0</td>\n",
       "      <td>152.0</td>\n",
       "      <td>1242.0</td>\n",
       "      <td>175.0</td>\n",
       "      <td>1242.0</td>\n",
       "      <td>193.0</td>\n",
       "      <td>1242.0</td>\n",
       "      <td>0.122383</td>\n",
       "      <td>0.140902</td>\n",
       "      <td>0.155395</td>\n",
       "    </tr>\n",
       "    <tr>\n",
       "      <th>1023</th>\n",
       "      <td>votemorelle</td>\n",
       "      <td>977247448820305920</td>\n",
       "      <td>0.0</td>\n",
       "      <td>98</td>\n",
       "      <td>0.0</td>\n",
       "      <td>97</td>\n",
       "      <td>0.0</td>\n",
       "      <td>97</td>\n",
       "      <td>3.0</td>\n",
       "      <td>97</td>\n",
       "      <td>...</td>\n",
       "      <td>3.0</td>\n",
       "      <td>68.0</td>\n",
       "      <td>440.0</td>\n",
       "      <td>57.0</td>\n",
       "      <td>440.0</td>\n",
       "      <td>66.0</td>\n",
       "      <td>440.0</td>\n",
       "      <td>0.154545</td>\n",
       "      <td>0.129545</td>\n",
       "      <td>0.150000</td>\n",
       "    </tr>\n",
       "    <tr>\n",
       "      <th>1027</th>\n",
       "      <td>RepConorLamb</td>\n",
       "      <td>984456621417000960</td>\n",
       "      <td>0.0</td>\n",
       "      <td>114</td>\n",
       "      <td>0.0</td>\n",
       "      <td>112</td>\n",
       "      <td>0.0</td>\n",
       "      <td>112</td>\n",
       "      <td>4.0</td>\n",
       "      <td>112</td>\n",
       "      <td>...</td>\n",
       "      <td>3.0</td>\n",
       "      <td>51.0</td>\n",
       "      <td>666.0</td>\n",
       "      <td>138.0</td>\n",
       "      <td>666.0</td>\n",
       "      <td>114.0</td>\n",
       "      <td>666.0</td>\n",
       "      <td>0.076577</td>\n",
       "      <td>0.207207</td>\n",
       "      <td>0.171171</td>\n",
       "    </tr>\n",
       "    <tr>\n",
       "      <th>1031</th>\n",
       "      <td>JahanaHayesCT</td>\n",
       "      <td>991721030631780352</td>\n",
       "      <td>0.0</td>\n",
       "      <td>623</td>\n",
       "      <td>0.0</td>\n",
       "      <td>613</td>\n",
       "      <td>0.0</td>\n",
       "      <td>613</td>\n",
       "      <td>11.0</td>\n",
       "      <td>613</td>\n",
       "      <td>...</td>\n",
       "      <td>2.0</td>\n",
       "      <td>138.0</td>\n",
       "      <td>849.0</td>\n",
       "      <td>120.0</td>\n",
       "      <td>849.0</td>\n",
       "      <td>170.0</td>\n",
       "      <td>849.0</td>\n",
       "      <td>0.162544</td>\n",
       "      <td>0.141343</td>\n",
       "      <td>0.200236</td>\n",
       "    </tr>\n",
       "    <tr>\n",
       "      <th>1033</th>\n",
       "      <td>RepDelBene</td>\n",
       "      <td>995193054</td>\n",
       "      <td>0.0</td>\n",
       "      <td>1967</td>\n",
       "      <td>0.0</td>\n",
       "      <td>1938</td>\n",
       "      <td>1.0</td>\n",
       "      <td>1938</td>\n",
       "      <td>23.0</td>\n",
       "      <td>1938</td>\n",
       "      <td>...</td>\n",
       "      <td>8.0</td>\n",
       "      <td>329.0</td>\n",
       "      <td>2913.0</td>\n",
       "      <td>467.0</td>\n",
       "      <td>2913.0</td>\n",
       "      <td>471.0</td>\n",
       "      <td>2913.0</td>\n",
       "      <td>0.112942</td>\n",
       "      <td>0.160316</td>\n",
       "      <td>0.161689</td>\n",
       "    </tr>\n",
       "  </tbody>\n",
       "</table>\n",
       "<p>530 rows × 48 columns</p>\n",
       "</div>"
      ],
      "text/plain": [
       "              handle            author_id  fishy_sum  fishy_count  C_0_sum  \\\n",
       "0        RepLipinski           1009269193        0.0         1578      0.0   \n",
       "3          RepWexton  1017819745880542976        0.0         1308      0.0   \n",
       "5     DickBlumenthal            102477372        0.0            6      0.0   \n",
       "8      RepMarkTakano           1037321378        0.0         1812      0.0   \n",
       "11      RepDanKildee           1045110018        0.0         1606      0.0   \n",
       "...              ...                  ...        ...          ...      ...   \n",
       "1021     ReElectHank             97583689        0.0          867      0.0   \n",
       "1023     votemorelle   977247448820305920        0.0           98      0.0   \n",
       "1027    RepConorLamb   984456621417000960        0.0          114      0.0   \n",
       "1031   JahanaHayesCT   991721030631780352        0.0          623      0.0   \n",
       "1033      RepDelBene            995193054        0.0         1967      0.0   \n",
       "\n",
       "      C_0_count  C_1_sum  C_1_count  C_2_sum  C_2_count  ...  ideology_count  \\\n",
       "0          1558      1.0       1558     49.0       1558  ...             8.0   \n",
       "3          1290      4.0       1290     85.0       1290  ...             2.0   \n",
       "5             6      0.0          6      0.0          6  ...             8.0   \n",
       "8          1798      3.0       1798     11.0       1798  ...             8.0   \n",
       "11         1566     13.0       1566     61.0       1566  ...             8.0   \n",
       "...         ...      ...        ...      ...        ...  ...             ...   \n",
       "1021        837      8.0        837     30.0        837  ...             8.0   \n",
       "1023         97      0.0         97      3.0         97  ...             3.0   \n",
       "1027        112      0.0        112      4.0        112  ...             3.0   \n",
       "1031        613      0.0        613     11.0        613  ...             2.0   \n",
       "1033       1938      1.0       1938     23.0       1938  ...             8.0   \n",
       "\n",
       "      belief_sum  belief_count  truth_sum  truth_count  understanding_sum  \\\n",
       "0          262.0        2585.0      489.0       2585.0              615.0   \n",
       "3          417.0        3027.0      641.0       3027.0              734.0   \n",
       "5            0.0          11.0        2.0         11.0                4.0   \n",
       "8          319.0        2468.0      442.0       2468.0              463.0   \n",
       "11         395.0        2681.0      361.0       2681.0              500.0   \n",
       "...          ...           ...        ...          ...                ...   \n",
       "1021       152.0        1242.0      175.0       1242.0              193.0   \n",
       "1023        68.0         440.0       57.0        440.0               66.0   \n",
       "1027        51.0         666.0      138.0        666.0              114.0   \n",
       "1031       138.0         849.0      120.0        849.0              170.0   \n",
       "1033       329.0        2913.0      467.0       2913.0              471.0   \n",
       "\n",
       "      understanding_count  belief_share  truth_share  understanding_share  \n",
       "0                  2585.0      0.101354     0.189168             0.237911  \n",
       "3                  3027.0      0.137760     0.211761             0.242484  \n",
       "5                    11.0      0.000000     0.181818             0.363636  \n",
       "8                  2468.0      0.129254     0.179092             0.187601  \n",
       "11                 2681.0      0.147333     0.134651             0.186498  \n",
       "...                   ...           ...          ...                  ...  \n",
       "1021               1242.0      0.122383     0.140902             0.155395  \n",
       "1023                440.0      0.154545     0.129545             0.150000  \n",
       "1027                666.0      0.076577     0.207207             0.171171  \n",
       "1031                849.0      0.162544     0.141343             0.200236  \n",
       "1033               2913.0      0.112942     0.160316             0.161689  \n",
       "\n",
       "[530 rows x 48 columns]"
      ]
     },
     "execution_count": 119,
     "metadata": {},
     "output_type": "execute_result"
    }
   ],
   "source": [
    "dem"
   ]
  },
  {
   "cell_type": "markdown",
   "id": "c5eb9701-6d39-4ab1-a86b-c20c57d33161",
   "metadata": {},
   "source": [
    "## Data exports"
   ]
  },
  {
   "cell_type": "code",
   "execution_count": 78,
   "id": "4012ba16-6ddf-40ce-a8ae-96bd82adf83f",
   "metadata": {},
   "outputs": [],
   "source": [
    "user_df.to_csv(join(src, \"US_politician_twitter_account_stats_2010-11-06_to_2022-03-16.csv\"),\n",
    "               index=False)"
   ]
  },
  {
   "cell_type": "code",
   "execution_count": 176,
   "id": "73bf62e6-5300-41d8-9177-f5265ecc4416",
   "metadata": {},
   "outputs": [],
   "source": [
    "all_tweets[all_tweets[\"fishy\"] == 1].to_csv(join(src, \"tweets_with_dodgy_links.csv\"),\n",
    "                                            index=False)"
   ]
  },
  {
   "cell_type": "code",
   "execution_count": 177,
   "id": "4215fd53-e3e3-4886-943f-7c8d470186ef",
   "metadata": {},
   "outputs": [
    {
     "ename": "NameError",
     "evalue": "name 'tweets_with_urls' is not defined",
     "output_type": "error",
     "traceback": [
      "\u001b[0;31m---------------------------------------------------------------------------\u001b[0m",
      "\u001b[0;31mNameError\u001b[0m                                 Traceback (most recent call last)",
      "\u001b[0;32m<ipython-input-177-6d2f4a404d97>\u001b[0m in \u001b[0;36m<module>\u001b[0;34m\u001b[0m\n\u001b[0;32m----> 1\u001b[0;31m tweets_with_urls.to_csv(join(src, \"tweets_with_urls.csv\"),\n\u001b[0m\u001b[1;32m      2\u001b[0m                         index=False)\n",
      "\u001b[0;31mNameError\u001b[0m: name 'tweets_with_urls' is not defined"
     ]
    }
   ],
   "source": [
    "tweets_with_urls.to_csv(join(src, \"tweets_with_urls.csv\"),\n",
    "                        index=False)"
   ]
  },
  {
   "cell_type": "code",
   "execution_count": null,
   "id": "5e2b9b0d-b1ba-42d3-ba23-ba4c90db8713",
   "metadata": {},
   "outputs": [],
   "source": []
  }
 ],
 "metadata": {
  "kernelspec": {
   "display_name": "Python 3",
   "language": "python",
   "name": "python3"
  },
  "language_info": {
   "codemirror_mode": {
    "name": "ipython",
    "version": 3
   },
   "file_extension": ".py",
   "mimetype": "text/x-python",
   "name": "python",
   "nbconvert_exporter": "python",
   "pygments_lexer": "ipython3",
   "version": "3.9.5"
  }
 },
 "nbformat": 4,
 "nbformat_minor": 5
}
