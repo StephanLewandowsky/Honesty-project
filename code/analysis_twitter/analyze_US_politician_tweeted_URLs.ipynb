{
 "cells": [
  {
   "cell_type": "markdown",
   "id": "091cf97f-62cd-4ed7-8771-2c665fa69d3d",
   "metadata": {},
   "source": [
    "# Analyze ULRs tweeted by US politicians"
   ]
  },
  {
   "cell_type": "code",
   "execution_count": 1,
   "id": "bfbf0e0d-2eb5-4664-8904-40b8bc1a8bb2",
   "metadata": {},
   "outputs": [],
   "source": [
    "import pandas as pd\n",
    "import numpy as np\n",
    "from os.path import join\n",
    "from os import listdir\n",
    "\n",
    "import sys\n",
    "sys.path.append('../../../../utilities/twitter_functions')\n",
    "import twitter_functions as tf"
   ]
  },
  {
   "cell_type": "markdown",
   "id": "543ef70f-90a3-4f42-b844-83e8eef29218",
   "metadata": {},
   "source": [
    "## Massage data"
   ]
  },
  {
   "cell_type": "code",
   "execution_count": 2,
   "id": "2051d8bd-3b46-43ab-8bf0-40185d544808",
   "metadata": {},
   "outputs": [
    {
     "name": "stderr",
     "output_type": "stream",
     "text": [
      "/home/jana/anaconda3/envs/nlp/lib/python3.9/site-packages/IPython/core/interactiveshell.py:3444: DtypeWarning: Columns (11) have mixed types.Specify dtype option on import or set low_memory=False.\n",
      "  exec(code_obj, self.user_global_ns, self.user_ns)\n"
     ]
    }
   ],
   "source": [
    "src = \"../../data/twitter\"\n",
    "fname = \"combined_US_politician_twitter_timelines_2010-11-06_to_2021-12-14_clean.csv.gzip\"\n",
    "\n",
    "df = pd.read_csv(join(src, fname),\n",
    "                 compression=\"gzip\",\n",
    "                 usecols=[\"id\", \"author_id\", \"created_at\", \"expanded_urls\"])"
   ]
  },
  {
   "cell_type": "code",
   "execution_count": 3,
   "id": "25820f64-ef0a-489e-acb7-f722bbd8f0d5",
   "metadata": {},
   "outputs": [],
   "source": [
    "df[\"expanded_urls\"] = df[\"expanded_urls\"].fillna(\"[]\")\n",
    "df[\"expanded_urls\"] = df[\"expanded_urls\"].apply(lambda x: eval(x))\n",
    "df[\"has_url\"] = df[\"expanded_urls\"].apply(lambda x: len(x) > 0)"
   ]
  },
  {
   "cell_type": "code",
   "execution_count": 4,
   "id": "59b41fcd-0624-437f-804a-855d9ef38563",
   "metadata": {},
   "outputs": [],
   "source": [
    "urls = df['expanded_urls'].apply(pd.Series).reset_index().melt(id_vars='index').dropna()[['index', 'value']].set_index('index')"
   ]
  },
  {
   "cell_type": "code",
   "execution_count": 9,
   "id": "bf3a4743-8b3a-4520-9a52-8442fd56142f",
   "metadata": {},
   "outputs": [],
   "source": [
    "urls = pd.merge(\n",
    "    urls,\n",
    "    df[['id']],\n",
    "    left_index=True,\n",
    "    right_index=True).rename(columns={'value_x': 'expanded_urls'})"
   ]
  },
  {
   "cell_type": "code",
   "execution_count": 13,
   "id": "537c5c60-3842-4e7e-bba7-cc6563b33a93",
   "metadata": {},
   "outputs": [],
   "source": [
    "df = pd.merge(df, urls, left_on=\"id\", right_on=\"id\", how=\"left\")"
   ]
  },
  {
   "cell_type": "code",
   "execution_count": 18,
   "id": "2a9c69c2-1fa8-4df7-a150-a302466a235c",
   "metadata": {},
   "outputs": [],
   "source": [
    "df[\"N_urls\"] = df[\"expanded_urls\"].apply(lambda x: len(x))\n",
    "df = df.rename(columns={\"value\":\"url\"})"
   ]
  },
  {
   "cell_type": "code",
   "execution_count": 19,
   "id": "fb269c00-1aa5-4fd5-9a4a-b53b4a556580",
   "metadata": {},
   "outputs": [],
   "source": [
    "df.to_csv(join(src, \"combined_US_politician_twitter_timelines_2010-11-06_to_2021-12-14_clean_urls.csv.gzip\"),\n",
    "          compression=\"gzip\", index=False)"
   ]
  },
  {
   "cell_type": "markdown",
   "id": "88cf1dbd-ca5b-4261-b003-dd794507d2e2",
   "metadata": {},
   "source": [
    "## Import unraveled URLs"
   ]
  },
  {
   "cell_type": "code",
   "execution_count": null,
   "id": "ef7de22c-cb59-4fea-9c41-9d6b3f0efd4a",
   "metadata": {},
   "outputs": [],
   "source": [
    "df = pd.read_csv(join(src, \"combined_US_politician_twitter_timelines_2010-11-06_to_2021-12-14_clean_urls.csv.gzip\"),\n",
    "          compression=\"gzip\")"
   ]
  },
  {
   "cell_type": "code",
   "execution_count": 21,
   "id": "4d5ddaa5-1ca2-478f-8d19-9b2389968aaf",
   "metadata": {},
   "outputs": [],
   "source": [
    "no_urls = df[df[\"has_url\"] == False].copy()\n",
    "df = df[df[\"has_url\"] == True]"
   ]
  },
  {
   "cell_type": "code",
   "execution_count": 23,
   "id": "0aa264c5-c32f-43f7-ba64-d4571e3982f9",
   "metadata": {},
   "outputs": [],
   "source": [
    "unraveled_urls = pd.read_csv(join(src, \"unraveled_urls.csv.xz\"),\n",
    "                             compression=\"xz\")"
   ]
  },
  {
   "cell_type": "code",
   "execution_count": 27,
   "id": "fa5abcbf-4454-4d0e-8341-469dee398ed7",
   "metadata": {},
   "outputs": [],
   "source": [
    "df = pd.merge(df, unraveled_urls, left_on=\"url\", right_on=\"url\", how=\"left\")"
   ]
  },
  {
   "cell_type": "code",
   "execution_count": 29,
   "id": "51663730-dc7b-47bb-b268-d67ab106e554",
   "metadata": {},
   "outputs": [],
   "source": [
    "df[\"shortened\"] = False\n",
    "df.loc[df[\"unraveled_url\"].dropna().index, \"shortened\"] = True"
   ]
  },
  {
   "cell_type": "code",
   "execution_count": 32,
   "id": "1e464363-34ef-47b1-a153-fb8045de812f",
   "metadata": {},
   "outputs": [],
   "source": [
    "df.loc[df[\"unraveled_url\"].dropna().index, \"url\"] = df.loc[df[\"unraveled_url\"].dropna().index, \"unraveled_url\"]"
   ]
  },
  {
   "cell_type": "code",
   "execution_count": 34,
   "id": "a3d52098-9c29-42fc-b9b6-9c0d477d7d26",
   "metadata": {},
   "outputs": [],
   "source": [
    "df = df.drop(columns=[\"unraveled_url\"])"
   ]
  },
  {
   "cell_type": "code",
   "execution_count": null,
   "id": "ea600261-5b14-4853-924b-bc48ad826e66",
   "metadata": {
    "tags": []
   },
   "outputs": [],
   "source": [
    "df[\"domain\"] = df[\"url\"].apply(tf.extract_domain)"
   ]
  },
  {
   "cell_type": "markdown",
   "id": "5d799851-f027-48ff-a978-b4e5039a3d3a",
   "metadata": {},
   "source": [
    "## Find fishy domains with newsguard data"
   ]
  },
  {
   "cell_type": "code",
   "execution_count": 36,
   "id": "487170f2-258b-43ef-8d3f-8cbd13ee7630",
   "metadata": {},
   "outputs": [],
   "source": [
    "newsguard_src = \"../../data/newsguard/newsguard_2022-03/03\"\n",
    "nutrition_labels = pd.read_csv(join(newsguard_src, \"metadata-2022030100.csv\"))"
   ]
  },
  {
   "cell_type": "code",
   "execution_count": 37,
   "id": "134bd491-3db4-4b0e-bd2d-afd2b7de4835",
   "metadata": {},
   "outputs": [],
   "source": [
    "nutrition_labels[\"fishy\"] = 0\n",
    "nutrition_labels.loc[(nutrition_labels[\"Score\"] <= 25).index, \"fishy\"] = 1\n",
    "fishy_domains = set(nutrition_labels[nutrition_labels[\"fishy\"] == 1][\"Domain\"])"
   ]
  },
  {
   "cell_type": "code",
   "execution_count": 38,
   "id": "22472cd3-a108-46e8-883f-29b374e18941",
   "metadata": {},
   "outputs": [],
   "source": [
    "df[\"fishy\"] = 0\n",
    "df.loc[df[df[\"domain\"].idomainssin(fishy_domains)].index, \"fishy\"] = 1"
   ]
  },
  {
   "cell_type": "markdown",
   "id": "3ee94af9-2cf9-42e0-82c6-b42844d65d5d",
   "metadata": {},
   "source": [
    "## Count fishy domains in politician Tweets"
   ]
  },
  {
   "cell_type": "code",
   "execution_count": 42,
   "id": "61625a9f-f30b-49e2-8e22-9c205025c1dd",
   "metadata": {},
   "outputs": [
    {
     "name": "stdout",
     "output_type": "stream",
     "text": [
      "66220/188687 (35.10%) shortened domains are fishy\n"
     ]
    }
   ],
   "source": [
    "N_shortened = len(df[(df[\"shortened\"] == True)])\n",
    "N_shortened_fishy = len(df[(df[\"shortened\"] == True) & (df[\"fishy\"] == 1)])\n",
    "print(\"{}/{} ({:1.2f}%) shortened domains are fishy\"\\\n",
    "      .format(N_shortened_fishy, N_shortened, \n",
    "              (N_shortened_fishy / N_shortened) * 100))"
   ]
  },
  {
   "cell_type": "code",
   "execution_count": 43,
   "id": "894cdbb2-38bd-481b-803c-f591d685ddeb",
   "metadata": {},
   "outputs": [
    {
     "name": "stdout",
     "output_type": "stream",
     "text": [
      "266365/1682663 (15.83%) unshortened domains are fishy\n"
     ]
    }
   ],
   "source": [
    "N_unshortened = len(df[(df[\"shortened\"] == False)])\n",
    "N_unshortened_fishy = len(df[(df[\"shortened\"] == False) & (df[\"fishy\"] == 1)])\n",
    "print(\"{}/{} ({:1.2f}%) unshortened domains are fishy\"\\\n",
    "      .format(N_unshortened_fishy, N_unshortened, \n",
    "              (N_unshortened_fishy / N_unshortened) * 100))"
   ]
  },
  {
   "cell_type": "code",
   "execution_count": 64,
   "id": "0452c24e-2547-4f32-8287-a40ba7fd0c29",
   "metadata": {},
   "outputs": [
    {
     "name": "stdout",
     "output_type": "stream",
     "text": [
      "188687/1871350 (10.08%) of links are shortened\n"
     ]
    }
   ],
   "source": [
    "print(\"{}/{} ({:1.2f}%) of links are shortened\"\\\n",
    "      .format(N_shortened, N_shortened + N_unshortened,\n",
    "              (N_shortened / (N_shortened + N_unshortened)) * 100))"
   ]
  },
  {
   "cell_type": "code",
   "execution_count": 44,
   "id": "845d0805-c21d-44f8-b84f-c6b9f7e7774d",
   "metadata": {},
   "outputs": [],
   "source": [
    "no_urls[\"shortened\"] = False\n",
    "no_urls[\"domain\"] = np.nan\n",
    "no_urls[\"fishy\"] = 0\n",
    "all_tweets = pd.concat([df, no_urls])"
   ]
  },
  {
   "cell_type": "code",
   "execution_count": 50,
   "id": "a2acc166-0467-45ec-86dc-3c20d661989c",
   "metadata": {},
   "outputs": [],
   "source": [
    "fishy_tweet_count = all_tweets[[\"id\", \"fishy\"]]\\\n",
    "    .groupby(\"id\")\\\n",
    "    .sum()"
   ]
  },
  {
   "cell_type": "code",
   "execution_count": 53,
   "id": "bc5a7a64-6c7d-41b3-9f2d-29f6f2eb5ef2",
   "metadata": {},
   "outputs": [
    {
     "name": "stdout",
     "output_type": "stream",
     "text": [
      "316444/2419706 (13.08%) tweets contain fishy urls\n"
     ]
    }
   ],
   "source": [
    "N_tweets = len(fishy_tweet_count)\n",
    "N_fishy_tweets = len(fishy_tweet_count[fishy_tweet_count[\"fishy\"] > 0])\n",
    "print(\"{}/{} ({:1.2f}%) tweets contain fishy urls\"\\\n",
    "      .format(N_fishy_tweets, N_tweets, (N_fishy_tweets / N_tweets) * 100))"
   ]
  },
  {
   "cell_type": "code",
   "execution_count": 58,
   "id": "3b4d62a9-cf2c-4f21-95b0-7a9793db077f",
   "metadata": {},
   "outputs": [],
   "source": [
    "all_tweets[\"author_id\"] = all_tweets[\"author_id\"].astype(int)"
   ]
  },
  {
   "cell_type": "code",
   "execution_count": 67,
   "id": "98e5bc5b-5f83-4693-a3db-33f1f48feff2",
   "metadata": {},
   "outputs": [],
   "source": [
    "fishy_user_count = all_tweets[[\"author_id\", \"fishy\"]]\\\n",
    "    .groupby(\"author_id\")\\\n",
    "    .agg([\"sum\", \"count\"])"
   ]
  },
  {
   "cell_type": "code",
   "execution_count": 62,
   "id": "fc0b334b-8e18-4b0d-87fd-23da7a439fbf",
   "metadata": {},
   "outputs": [
    {
     "data": {
      "text/html": [
       "<div>\n",
       "<style scoped>\n",
       "    .dataframe tbody tr th:only-of-type {\n",
       "        vertical-align: middle;\n",
       "    }\n",
       "\n",
       "    .dataframe tbody tr th {\n",
       "        vertical-align: top;\n",
       "    }\n",
       "\n",
       "    .dataframe thead th {\n",
       "        text-align: right;\n",
       "    }\n",
       "</style>\n",
       "<table border=\"1\" class=\"dataframe\">\n",
       "  <thead>\n",
       "    <tr style=\"text-align: right;\">\n",
       "      <th></th>\n",
       "      <th>fishy</th>\n",
       "    </tr>\n",
       "    <tr>\n",
       "      <th>author_id</th>\n",
       "      <th></th>\n",
       "    </tr>\n",
       "  </thead>\n",
       "  <tbody>\n",
       "    <tr>\n",
       "      <th>102477372.0</th>\n",
       "      <td>0</td>\n",
       "    </tr>\n",
       "    <tr>\n",
       "      <th>24905240.0</th>\n",
       "      <td>0</td>\n",
       "    </tr>\n",
       "    <tr>\n",
       "      <th>58883032.0</th>\n",
       "      <td>0</td>\n",
       "    </tr>\n",
       "    <tr>\n",
       "      <th>8.67807218468606e+17</th>\n",
       "      <td>0</td>\n",
       "    </tr>\n",
       "    <tr>\n",
       "      <th>946946130.0</th>\n",
       "      <td>0</td>\n",
       "    </tr>\n",
       "  </tbody>\n",
       "</table>\n",
       "</div>"
      ],
      "text/plain": [
       "                      fishy\n",
       "author_id                  \n",
       "102477372.0               0\n",
       "24905240.0                0\n",
       "58883032.0                0\n",
       "8.67807218468606e+17      0\n",
       "946946130.0               0"
      ]
     },
     "execution_count": 62,
     "metadata": {},
     "output_type": "execute_result"
    }
   ],
   "source": [
    "fishy_user_count[fishy_user_count[\"fishy\"] == 0]"
   ]
  },
  {
   "cell_type": "code",
   "execution_count": 69,
   "id": "cc140839-4d7c-4aa1-9bd2-828091478645",
   "metadata": {},
   "outputs": [],
   "source": [
    "fishy_user_count[\"share\"] = fishy_user_count[\"fishy\"][\"sum\"] / fishy_user_count[\"fishy\"][\"count\"]"
   ]
  },
  {
   "cell_type": "code",
   "execution_count": 72,
   "id": "6ccfce87-d9ef-4e47-a687-9ef24bcebe59",
   "metadata": {},
   "outputs": [
    {
     "data": {
      "text/plain": [
       "0.5792498487598307"
      ]
     },
     "execution_count": 72,
     "metadata": {},
     "output_type": "execute_result"
    }
   ],
   "source": [
    "fishy_user_count[\"share\"].max()"
   ]
  },
  {
   "cell_type": "code",
   "execution_count": 81,
   "id": "8bca2469-6a08-4c6b-a72f-a6a0b91859c0",
   "metadata": {},
   "outputs": [
    {
     "name": "stderr",
     "output_type": "stream",
     "text": [
      "/tmp/ipykernel_687967/1479185061.py:7: MatplotlibDeprecationWarning: savefig() got unexpected keyword argument \"background\" which is no longer supported as of 3.3 and will become an error two minor releases later\n",
      "  plt.savefig(\"fishy_share.png\", background=True)\n"
     ]
    },
    {
     "data": {
      "image/png": "[encoded data removed]",
      "text/plain": [
       "<Figure size 432x288 with 1 Axes>"
      ]
     },
     "metadata": {
      "needs_background": "light"
     },
     "output_type": "display_data"
    }
   ],
   "source": [
    "import matplotlib.pyplot as plt\n",
    "fig, ax = plt.subplots()\n",
    "ax.hist(fishy_user_count[\"share\"] * 100, \n",
    "        bins=np.arange(0, 80, 5), rwidth=0.9)\n",
    "ax.set_xlabel(\"share of tweets with fishy links [%]\")\n",
    "ax.set_ylabel(\"number of Congress accounts\")\n",
    "plt.savefig(\"fishy_share.png\")"
   ]
  },
  {
   "cell_type": "code",
   "execution_count": null,
   "id": "2aa2d2ce-9f72-44e1-8d51-40c43bca0020",
   "metadata": {},
   "outputs": [],
   "source": []
  }
 ],
 "metadata": {
  "kernelspec": {
   "display_name": "Python 3 (ipykernel)",
   "language": "python",
   "name": "python3"
  },
  "language_info": {
   "codemirror_mode": {
    "name": "ipython",
    "version": 3
   },
   "file_extension": ".py",
   "mimetype": "text/x-python",
   "name": "python",
   "nbconvert_exporter": "python",
   "pygments_lexer": "ipython3",
   "version": "3.9.7"
  }
 },
 "nbformat": 4,
 "nbformat_minor": 5
}
