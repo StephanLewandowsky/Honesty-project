{
 "cells": [
  {
   "cell_type": "markdown",
   "id": "091cf97f-62cd-4ed7-8771-2c665fa69d3d",
   "metadata": {},
   "source": [
    "# Analyze ULRs tweeted by US politicians"
   ]
  },
  {
   "cell_type": "code",
   "execution_count": 7,
   "id": "bfbf0e0d-2eb5-4664-8904-40b8bc1a8bb2",
   "metadata": {},
   "outputs": [],
   "source": [
    "import pandas as pd\n",
    "import numpy as np\n",
    "from os.path import join\n",
    "from os import listdir\n",
    "\n",
    "import sys\n",
    "sys.path.append('../../../../utilities/twitter_functions')\n",
    "from twitter_functions import extract_domain"
   ]
  },
  {
   "cell_type": "markdown",
   "id": "543ef70f-90a3-4f42-b844-83e8eef29218",
   "metadata": {},
   "source": [
    "## Extract shortened URLs"
   ]
  },
  {
   "cell_type": "code",
   "execution_count": 48,
   "id": "2051d8bd-3b46-43ab-8bf0-40185d544808",
   "metadata": {},
   "outputs": [],
   "source": [
    "src = \"../../data/twitter\"\n",
    "fname = \"combined_US_politician_twitter_timelines_2010-11-06_to_2021-12-14_clean.csv.gzip\"\n",
    "\n",
    "df = pd.read_csv(join(src, fname),\n",
    "                 compression=\"gzip\",\n",
    "                 usecols=[\"id\", \"author_id\", \"created_at\", \"expanded_urls\"])"
   ]
  },
  {
   "cell_type": "code",
   "execution_count": 49,
   "id": "25820f64-ef0a-489e-acb7-f722bbd8f0d5",
   "metadata": {},
   "outputs": [],
   "source": [
    "df[\"expanded_urls\"] = df[\"expanded_urls\"].fillna(\"[]\")\n",
    "df[\"expanded_urls\"] = df[\"expanded_urls\"].apply(lambda x: eval(x))\n",
    "df[\"has_url\"] = df[\"expanded_urls\"].apply(lambda x: len(x) > 0)\n",
    "df = df[df[\"has_url\"]].drop(columns=[\"has_url\"])"
   ]
  },
  {
   "cell_type": "code",
   "execution_count": 50,
   "id": "54f1baf6-64a8-464e-a93a-27f65b487a62",
   "metadata": {},
   "outputs": [],
   "source": [
    "URLs = []\n",
    "for url_list in df[\"expanded_urls\"]:\n",
    "    URLs.extend(url_list)\n",
    "URLs = pd.DataFrame({\"url\":list(set(URLs))})\n",
    "URLs[\"domain\"] = URLs[\"url\"].apply(extract_domain)"
   ]
  },
  {
   "cell_type": "code",
   "execution_count": 51,
   "id": "1ebc3b50-db0c-4d13-b5d9-bd41bcce87c9",
   "metadata": {},
   "outputs": [],
   "source": [
    "# shorteners from this repo: https://github.com/boutetnico/url-shorteners\n",
    "# NOTE: update list periodically\n",
    "shortener_dst = \"../../../../utilities/url_shorteners/url-shorteners\"\n",
    "url_shorteners = list(np.loadtxt(join(shortener_dst, \"list.txt\"), dtype=str))\n",
    "\n",
    "# add URL shorteners based on manual inspections of all URLs that appeared >100\n",
    "# times in the dataset\n",
    "url_shorteners.extend([\n",
    "    \"fb.me\", \"buff.ly\", \"nyti.ms\", \"wapo.st\", \"youtu.be\", \"1.usa.gov\", \"fxn.ws\",\n",
    "    \"on.fb.me\", \"politi.co\", \"trib.al\", \"washex.am\", \"hill.cm\", \"cnb.cx\",\n",
    "    \"hubs.ly\", \"cs.pn\",\"n.pr\", \"conta.cc\", \"mi.tt\", \"usat.ly\", \"abcn.ws\",\n",
    "    \"reut.rs\", \"cbsn.ws\", \"huff.to\", \"instagr.am\", \"bloom.bg\", \"fw.to\", \n",
    "    \"ift.tt\", \"strib.mn\", \"lat.ms\", \"afs.mn\", \"dpo.st\", \"mailchi.mp\",\n",
    "    \"dailysign.al\", \"tmblr.co\", \"rub.io\", \"yhoo.it\", \"omny.fm\", \"chrl.ie\",\n",
    "    \"tulsi.to\", \"apne.ws\", \"hrc.io\", \"ed.gr\", \"ti.me\", \"herit.ag\", \"indy.st\",\n",
    "    \"ofa.bo\", \"trib.in\", \"azc.cc\", \"bsun.md\", \"wjcf.co\", \"bityl.co\", \"go.shr.lc\"\n",
    "])"
   ]
  },
  {
   "cell_type": "code",
   "execution_count": 52,
   "id": "bfd1fc29-8a5a-45f6-9793-e79c11174a8c",
   "metadata": {},
   "outputs": [],
   "source": [
    "shortened_urls = URLs[URLs[\"domain\"].isin(url_shorteners)]\n",
    "unshortened_urls = URLs[~URLs[\"domain\"].isin(url_shorteners)]\n",
    "shortened_urls[\"url\"].to_csv(\"url_list.csv.gzip\", compression=\"gzip\", index=False)"
   ]
  }
 ],
 "metadata": {
  "kernelspec": {
   "display_name": "Python 3 (ipykernel)",
   "language": "python",
   "name": "python3"
  },
  "language_info": {
   "codemirror_mode": {
    "name": "ipython",
    "version": 3
   },
   "file_extension": ".py",
   "mimetype": "text/x-python",
   "name": "python",
   "nbconvert_exporter": "python",
   "pygments_lexer": "ipython3",
   "version": "3.9.7"
  }
 },
 "nbformat": 4,
 "nbformat_minor": 5
}
