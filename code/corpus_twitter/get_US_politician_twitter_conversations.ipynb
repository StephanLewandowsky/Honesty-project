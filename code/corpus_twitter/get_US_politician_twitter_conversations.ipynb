{
 "cells": [
  {
   "cell_type": "code",
   "execution_count": 105,
   "id": "d7df11ea-dde5-4bde-992c-5f0b4bb42cde",
   "metadata": {},
   "outputs": [],
   "source": [
    "import pandas as pd\n",
    "import numpy as np\n",
    "from os.path import join\n",
    "import os\n",
    "import json\n",
    "from datetime import datetime, timezone\n",
    "from twarc import Twarc2\n",
    "\n",
    "# parallelisation functionality\n",
    "from multiprocess import Pool\n",
    "import psutil\n",
    "from tqdm import tqdm\n",
    "\n",
    "import sys\n",
    "sys.path.insert(0, \"/home/jana/Projects/utilities/twitter_functions\")\n",
    "import twitter_functions as tf"
   ]
  },
  {
   "cell_type": "code",
   "execution_count": 199,
   "id": "bc005896-6256-44c1-ad5e-bfe9d54da6ac",
   "metadata": {},
   "outputs": [],
   "source": [
    "src = \"../../data/twitter/\"\n",
    "dst = \"../../data/twitter/US_politician_twitter_conversations\"\n",
    "\n",
    "cols =[\"id\", \"conversation_id\", \"author_id\", \"reply_count\"]\n",
    "tweets = pd.read_csv(join(src,\n",
    "    \"combined_US_politician_twitter_timelines_2010-11-06_to_2022-03-16_clean.csv.gzip\"),\n",
    "    compression=\"gzip\", usecols=cols,\n",
    "    dtype={\"id\":str, \"conversation_id\":str, \"author_id\":str})"
   ]
  },
  {
   "cell_type": "markdown",
   "id": "06354d31-f480-447f-95a2-d653305a5770",
   "metadata": {},
   "source": [
    "# Get conversations"
   ]
  },
  {
   "cell_type": "code",
   "execution_count": 67,
   "id": "a887f12c-67bb-4f84-b7c5-1a013a2932f6",
   "metadata": {},
   "outputs": [],
   "source": [
    "subset = tweets[(tweets[\"reply_count\"] <= 500) & (tweets[\"reply_count\"] > 0)]\\\n",
    "    .sort_values(by=\"reply_count\", ascending=True)\\\n",
    "    .reset_index(drop=True)\n",
    "\n",
    "# get only tweets that started a conversation\n",
    "subset = subset[subset[\"id\"] == subset[\"conversation_id\"]]\n",
    "# select every third conversation\n",
    "subset = subset.iloc[::3]\n",
    "subset[\"id\"] = subset[\"id\"].apply(lambda x: x.replace('\"', ''))\n",
    "np.savetxt(join(dst, \"conversation_id_sample.txt\"), subset[\"id\"].values, fmt='%s')"
   ]
  },
  {
   "cell_type": "code",
   "execution_count": 69,
   "id": "caf47528-a687-46ef-8af6-ec6c1b0cb14c",
   "metadata": {},
   "outputs": [
    {
     "name": "stdout",
     "output_type": "stream",
     "text": [
      "450432 tweets with 13089682 replies\n"
     ]
    }
   ],
   "source": [
    "N_replies = int(subset[\"reply_count\"].sum())\n",
    "N_tweets = len(subset)\n",
    "print(f\"{N_tweets} tweets with {N_replies} replies\")"
   ]
  },
  {
   "cell_type": "code",
   "execution_count": 92,
   "id": "d40376d0-7544-4e1b-bcaa-13a0076acc51",
   "metadata": {},
   "outputs": [
    {
     "name": "stdout",
     "output_type": "stream",
     "text": [
      "cat: '!': No such file or directory\n",
      "cat: ls: No such file or directory\n",
      "100%|███████████████| Processed 15 years/15 years [00:01<00:00, 1 tweets total ]\n",
      "100%|███████████████| Processed 15 years/15 years [00:01<00:00, 1 tweets total ]\n",
      "100%|███████████████| Processed 15 years/15 years [00:01<00:00, 1 tweets total ]\n",
      "100%|███████████████| Processed 15 years/15 years [00:01<00:00, 1 tweets total ]\n",
      "100%|███████████████| Processed 15 years/15 years [00:01<00:00, 1 tweets total ]\n"
     ]
    }
   ],
   "source": [
    "cat conversation_id_sample.txt | xargs -i sh -c \"twarc2 conversation --archive {} US_politician_twitter_conversations/{}.jsonl\""
   ]
  },
  {
   "cell_type": "code",
   "execution_count": null,
   "id": "cae7e02d-367b-4649-abcf-a730bb45a031",
   "metadata": {},
   "outputs": [],
   "source": [
    "! rsync -avze ssh jlasser@medea:/home/jlasser/Honesty-project/data/twitter/US_politician_twitter_conversations/ ../../data/twitter/US_politician_twitter_conversations/"
   ]
  },
  {
   "cell_type": "markdown",
   "id": "7b82b978-6b99-4278-adf7-b50353f767e7",
   "metadata": {},
   "source": [
    "# Collect conversations"
   ]
  },
  {
   "cell_type": "code",
   "execution_count": null,
   "id": "7c754721-04f1-49ec-9c02-9943e0f2333b",
   "metadata": {},
   "outputs": [],
   "source": [
    "\"entities.expanded_urls\"  expansions.geo"
   ]
  },
  {
   "cell_type": "code",
   "execution_count": 244,
   "id": "93448424-c3d7-4645-a1c9-1a4f38923c2d",
   "metadata": {},
   "outputs": [],
   "source": [
    "def naneval(x):\n",
    "    false = False\n",
    "    true = True\n",
    "    if x == x:\n",
    "        return eval(x)\n",
    "    else:\n",
    "        return np.nan\n",
    "    \n",
    "def process_csv(df):\n",
    "    df = df.rename(columns={\n",
    "    \"author.id\":\"author_id\",\n",
    "    \"public_metrics.retweet_count\":\"retweet_count\",\n",
    "    \"public_metrics.like_count\":\"like_count\",\n",
    "    \"public_metrics.quote_count\":\"quote_count\",\n",
    "    \"public_metrics.reply_count\":\"reply_count\",\n",
    "    \"geo.place_id\":\"geo\",\n",
    "    })\n",
    "    \n",
    "    df[\"id\"] = df[\"id\"].apply(lambda x: f'\"{x}\"')\n",
    "    df[\"author_id\"] = df[\"author_id\"].apply(lambda x: f'\"{x}\"')\n",
    "    df[\"conversation_id\"] = df[\"conversation_id\"].apply(lambda x: f'\"{x}\"')\n",
    "    \n",
    "    df[\"referenced_tweets\"] = df[\"referenced_tweets\"].apply(naneval)\n",
    "    df[\"entities.urls\"] = df[\"entities.urls\"].apply(naneval)\n",
    "    reference_types = []\n",
    "    urls = []\n",
    "    expanded_urls = []\n",
    "    for i, row in df.iterrows():\n",
    "        tmp_reference_types = []\n",
    "        tmp_urls = []\n",
    "        tmp_expanded_urls = []\n",
    "        if type(row['referenced_tweets']) == list:\n",
    "            for rt in row['referenced_tweets']:\n",
    "                if 'type' in rt.keys():\n",
    "                    tmp_reference_types.append(rt[\"type\"])\n",
    "        if type(row['entities.urls']) == list:\n",
    "            for url in row[\"entities.urls\"]:\n",
    "                if \"url\" in url.keys():\n",
    "                    tmp_urls.append(url[\"url\"])\n",
    "                if \"expanded_url\" in url.keys():\n",
    "                    tmp_expanded_urls.append(url[\"expanded_url\"])\n",
    "                    \n",
    "        reference_types.append(tmp_reference_types)\n",
    "        urls.append(tmp_urls)\n",
    "        expanded_urls.append(tmp_expanded_urls)\n",
    "        \n",
    "    df[\"reference_type\"] = reference_types\n",
    "    df[\"urls\"] = urls\n",
    "    df[\"expanded_urls\"] = expanded_urls  \n",
    "                \n",
    "    df[\"retweeted\"] = df[\"reference_type\"].apply(tf.check_retweet)\n",
    "    df[\"quoted\"] = df[\"reference_type\"].apply(tf.check_quoted)\n",
    "    df[\"reply\"] = df[\"reference_type\"].apply(tf.check_reply)\n",
    "    df = df.drop(columns=[\"reference_type\", \"entities.urls\",\n",
    "                            \"referenced_tweets\"])\n",
    "    \n",
    "    return df"
   ]
  },
  {
   "cell_type": "code",
   "execution_count": 245,
   "id": "77213aef-cd99-48ca-ae31-80c1608f0f33",
   "metadata": {},
   "outputs": [],
   "source": [
    "src = \"../../data/twitter/US_politician_twitter_conversations_csv\"\n",
    "files = os.listdir(src)\n",
    "cols = [\"id\", \"author.id\",\n",
    "        \"conversation_id\", \"created_at\", \"lang\", \"text\",\n",
    "        \"public_metrics.retweet_count\", \"public_metrics.like_count\",\n",
    "        \"public_metrics.quote_count\",\"public_metrics.reply_count\",\n",
    "        \"entities.urls\", \"geo.place_id\", \"referenced_tweets\"]\n",
    "conversations = pd.DataFrame()\n",
    "for f in files:\n",
    "    tmp = pd.read_csv(join(src, f), usecols=cols)\n",
    "    tmp = process_csv(tmp)\n",
    "    conversations = pd.concat([conversations, tmp])"
   ]
  },
  {
   "cell_type": "markdown",
   "id": "306f39a6-52ea-4e8b-b1c8-740c81223e59",
   "metadata": {},
   "source": [
    "# Clean conversations"
   ]
  },
  {
   "cell_type": "code",
   "execution_count": 25,
   "id": "e0e94cc1-13aa-438f-bfc9-f2562ad1cea7",
   "metadata": {},
   "outputs": [
    {
     "name": "stderr",
     "output_type": "stream",
     "text": [
      "/home/jana/anaconda3/envs/nlp/lib/python3.9/site-packages/IPython/core/interactiveshell.py:3444: DtypeWarning: Columns (0,6,7,10,11,12,13) have mixed types.Specify dtype option on import or set low_memory=False.\n",
      "  exec(code_obj, self.user_global_ns, self.user_ns)\n"
     ]
    }
   ],
   "source": [
    "fname = \"combined_US_politician_twitter_timelines_2010-11-06_to_2021-12-14_raw.csv.gzip\"\n",
    "src = \"../../data/twitter/\"\n",
    "timelines = pd.read_csv(join(src, fname), compression=\"gzip\")"
   ]
  },
  {
   "cell_type": "code",
   "execution_count": 26,
   "id": "06c3d47b-1026-4d0a-9b1e-39c94570da84",
   "metadata": {},
   "outputs": [
    {
     "name": "stdout",
     "output_type": "stream",
     "text": [
      "dropped 53524 non-english Tweets\n"
     ]
    }
   ],
   "source": [
    "N = len(timelines)\n",
    "timelines = timelines[timelines[\"lang\"] == \"en\"]\n",
    "timelines = timelines.dropna(subset=[\"id\"])\n",
    "print(f\"dropped {N - len(timelines)} non-english Tweets\")"
   ]
  },
  {
   "cell_type": "code",
   "execution_count": 35,
   "id": "9db57fad-b9e1-41fc-a5a5-02fdb9b77f34",
   "metadata": {},
   "outputs": [],
   "source": [
    "timelines[\"reference_type\"] = timelines[\"reference_type\"].fillna(\"[]\")\n",
    "timelines[\"reference_type\"] = timelines[\"reference_type\"].apply(lambda x: eval(x))"
   ]
  },
  {
   "cell_type": "code",
   "execution_count": 36,
   "id": "d286d7f5-0c2f-4271-b630-19f4e4500757",
   "metadata": {},
   "outputs": [],
   "source": [
    "timelines[\"retweeted\"] = timelines[\"reference_type\"].apply(tf.check_retweet)\n",
    "timelines[\"quoted\"] = timelines[\"reference_type\"].apply(tf.check_quoted)\n",
    "timelines[\"reply\"] = timelines[\"reference_type\"].apply(tf.check_reply)\n",
    "timelines = timelines.drop(columns=[\"reference_type\"])"
   ]
  },
  {
   "cell_type": "code",
   "execution_count": 38,
   "id": "4fe6bd71-d033-4ad0-94a8-0faf1a5127bf",
   "metadata": {},
   "outputs": [],
   "source": [
    "fname = \"combined_US_politician_twitter_timelines_2010-11-06_to_2021-12-14_clean.csv.gzip\"\n",
    "dst = \"../../data/twitter/\"\n",
    "timelines.to_csv(join(dst, fname), index=False, compression=\"gzip\")"
   ]
  },
  {
   "cell_type": "markdown",
   "id": "dbc754be-766d-4f19-b8b0-9337329864f8",
   "metadata": {},
   "source": [
    "## Corpus statistics"
   ]
  },
  {
   "cell_type": "code",
   "execution_count": 39,
   "id": "cbc411b7-8f5f-4115-9ed2-83f3903d3382",
   "metadata": {},
   "outputs": [
    {
     "name": "stdout",
     "output_type": "stream",
     "text": [
      "number of tweets in the corpus: 2556928\n",
      "number of original in the corpus: 1560483\n",
      "number of quoted tweets in the corpus: 249013\n",
      "number of replies in the corpus: 232321\n",
      "number of retweets in the corpus: 517472\n"
     ]
    }
   ],
   "source": [
    "print(f\"number of tweets in the corpus: {len(timelines)}\")\n",
    "print(\"number of original in the corpus: {}\"\\\n",
    "      .format(len(timelines[(timelines[\"retweeted\"] == False) &\\\n",
    "                            (timelines[\"quoted\"] == False) &\\\n",
    "                            (timelines[\"reply\"] == False)])))\n",
    "print(\"number of quoted tweets in the corpus: {}\"\\\n",
    "      .format(len(timelines[timelines[\"quoted\"] == True])))\n",
    "print(\"number of replies in the corpus: {}\"\\\n",
    "      .format(len(timelines[timelines[\"reply\"] == True])))\n",
    "print(\"number of retweets in the corpus: {}\"\\\n",
    "      .format(len(timelines[timelines[\"retweeted\"] == True])))"
   ]
  },
  {
   "cell_type": "code",
   "execution_count": 40,
   "id": "515a0884-6b68-4050-af3d-4f6da1895923",
   "metadata": {},
   "outputs": [],
   "source": [
    "timelines[\"year\"] = pd.to_datetime(timelines[\"created_at\"]).dt.year"
   ]
  },
  {
   "cell_type": "code",
   "execution_count": 41,
   "id": "1af8099a-7793-4776-8581-4db3d352d84d",
   "metadata": {},
   "outputs": [
    {
     "data": {
      "image/png": "[encoded data removed]",
      "text/plain": [
       "<Figure size 720x360 with 1 Axes>"
      ]
     },
     "metadata": {
      "needs_background": "light"
     },
     "output_type": "display_data"
    }
   ],
   "source": [
    "import matplotlib.pyplot as plt\n",
    "import numpy as np\n",
    "counts, years = np.histogram(timelines[\"year\"], bins=range(2010, 2022))\n",
    "fig, ax = plt.subplots(figsize=(10, 5))\n",
    "ax.bar(timelines[\"year\"].value_counts(ascending=True).index,\n",
    "       timelines[\"year\"].value_counts(ascending=True).values,\n",
    "       color=\"DarkBlue\")\n",
    "ax.set_xticks(range(2010, 2022))\n",
    "ax.set_ylabel(\"tweet count\", fontsize=16)\n",
    "ax.set_xlabel(\"year\", fontsize=10)\n",
    "ax.spines['right'].set_visible(False)\n",
    "ax.spines['top'].set_visible(False)\n",
    "plt.savefig(\"../../plots/corpus_tweets_year_count.pdf\")"
   ]
  }
 ],
 "metadata": {
  "kernelspec": {
   "display_name": "Python 3 (ipykernel)",
   "language": "python",
   "name": "python3"
  },
  "language_info": {
   "codemirror_mode": {
    "name": "ipython",
    "version": 3
   },
   "file_extension": ".py",
   "mimetype": "text/x-python",
   "name": "python",
   "nbconvert_exporter": "python",
   "pygments_lexer": "ipython3",
   "version": "3.9.7"
  }
 },
 "nbformat": 4,
 "nbformat_minor": 5
}
